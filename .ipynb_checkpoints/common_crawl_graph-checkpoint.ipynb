{
 "cells": [
  {
   "cell_type": "code",
   "execution_count": 15,
   "id": "5d09c865-3c34-406e-94c2-847140cc7e2d",
   "metadata": {
    "editable": true,
    "slideshow": {
     "slide_type": ""
    },
    "tags": []
   },
   "outputs": [],
   "source": [
    "import pandas as pd\n",
    "import numpy as np\n",
    "import time\n",
    "import pickle"
   ]
  },
  {
   "cell_type": "code",
   "execution_count": 16,
   "id": "4ea793e6-d68e-4542-aa89-a08fbd03ff53",
   "metadata": {},
   "outputs": [
    {
     "name": "stdout",
     "output_type": "stream",
     "text": [
      "Index(['uuid', 'name', 'type', 'primary_role', 'cb_url', 'domain',\n",
      "       'homepage_url', 'logo_url', 'facebook_url', 'twitter_url',\n",
      "       'linkedin_url', 'combined_stock_symbols', 'city', 'region',\n",
      "       'country_code', 'short_description'],\n",
      "      dtype='object')\n"
     ]
    }
   ],
   "source": [
    "organizations = pd.read_csv('cluster/scratch/bandonov/crunchbase/organizations.csv')\n",
    "print(organizations.columns)"
   ]
  },
  {
   "cell_type": "code",
   "execution_count": 3,
   "id": "73dcff8e-9b04-49fe-bdb9-d3de9e1779b6",
   "metadata": {},
   "outputs": [],
   "source": [
    "counts = organizations.groupby(['domain']).count()\n",
    "counts_sorted = counts.sort_values('uuid', ascending=False)\n",
    "repeating_domains = set(counts_sorted[counts_sorted['uuid'] > 1].index.to_list())"
   ]
  },
  {
   "cell_type": "code",
   "execution_count": 4,
   "id": "7431a27b-d027-49ff-8e7b-1e3a0f07d894",
   "metadata": {},
   "outputs": [],
   "source": [
    "organizations['domain'] = organizations.apply(lambda x: x['domain'] if x['domain'] not in repeating_domains else np.nan, axis=1)"
   ]
  },
  {
   "cell_type": "code",
   "execution_count": 5,
   "id": "be1c7f6f-f42e-4cd9-aa1b-04d9c9a32192",
   "metadata": {},
   "outputs": [],
   "source": [
    "reverse_domain_reference = dict(zip(organizations['domain'], organizations.index))\n",
    "crunchbase_domain_to_commoncrawl_node = dict(zip(organizations['domain'],  [None] * len(organizations)))\n",
    "del reverse_domain_reference[np.nan]\n",
    "del crunchbase_domain_to_commoncrawl_node[np.nan]"
   ]
  },
  {
   "cell_type": "code",
   "execution_count": 6,
   "id": "966f33ca-8528-4b0a-aa01-ed39093a995e",
   "metadata": {},
   "outputs": [
    {
     "name": "stdout",
     "output_type": "stream",
     "text": [
      "3424685\n"
     ]
    }
   ],
   "source": [
    "print(len(reverse_domain_reference))"
   ]
  },
  {
   "cell_type": "code",
   "execution_count": 7,
   "id": "2d9f9f6a-c4cb-4c87-93c3-67e3994a477a",
   "metadata": {
    "editable": true,
    "slideshow": {
     "slide_type": ""
    },
    "tags": []
   },
   "outputs": [
    {
     "name": "stdout",
     "output_type": "stream",
     "text": [
      "118 s\n"
     ]
    }
   ],
   "source": [
    "nodes_path = 'cluster/scratch/bandonov/common-crawl/cc-main-2024-aug-sep-oct-domain-vertices.txt'\n",
    "\n",
    "start = time.time()\n",
    "with open(nodes_path) as file:\n",
    "    for line in file:\n",
    "        node_params = line.split()\n",
    "        \n",
    "        index = int(node_params[0])\n",
    "        reversed_domain = node_params[1]\n",
    "        num_hosts = int(node_params[2])\n",
    "        \n",
    "        domain = '.'.join(reversed(reversed_domain.split('.')))\n",
    "        if domain in crunchbase_domain_to_commoncrawl_node.keys():\n",
    "            crunchbase_domain_to_commoncrawl_node[domain] = index\n",
    "\n",
    "end = time.time()\n",
    "print(int(end - start), 's')"
   ]
  },
  {
   "cell_type": "code",
   "execution_count": 34,
   "id": "a0b81369-38f2-463a-b91a-6664dc2bcd4e",
   "metadata": {},
   "outputs": [
    {
     "name": "stdout",
     "output_type": "stream",
     "text": [
      "wetpaint.com -> 53837717\n"
     ]
    }
   ],
   "source": [
    "for key, value in crunchbase_domain_to_commoncrawl_node.items():\n",
    "    print(key, '->', value)\n",
    "    break"
   ]
  },
  {
   "cell_type": "code",
   "execution_count": 8,
   "id": "c8fa6177-a3a0-4f06-8c2d-0e9ca5539497",
   "metadata": {},
   "outputs": [],
   "source": [
    "commoncrawl_node_to_domain = {value: key for key, value in crunchbase_domain_to_commoncrawl_node.items()}"
   ]
  },
  {
   "cell_type": "code",
   "execution_count": 71,
   "id": "2b4ffebc-47ff-41e1-ac7d-3d3417089a93",
   "metadata": {},
   "outputs": [
    {
     "name": "stdout",
     "output_type": "stream",
     "text": [
      "1230\n"
     ]
    }
   ],
   "source": [
    "edges_path = 'cluster/scratch/bandonov/common-crawl/cc-main-2024-aug-sep-oct-domain-edges.txt'\n",
    "number_of_in_edges = {}\n",
    "\n",
    "start = time.time()\n",
    "with open(edges_path) as file:\n",
    "    for line in file:\n",
    "        edge_params = line.split()\n",
    "        from_node = int(edge_params[0])\n",
    "        to_node = int(edge_params[1])\n",
    "\n",
    "        if to_node not in commoncrawl_node_to_domain:\n",
    "            continue\n",
    "\n",
    "        if to_node not in number_of_in_edges:\n",
    "            number_of_in_edges[to_node] = 0\n",
    "        \n",
    "        number_of_in_edges[to_node] += 1\n",
    "\n",
    "end = time.time()\n",
    "print(int(end - start))"
   ]
  },
  {
   "cell_type": "code",
   "execution_count": 77,
   "id": "455cb50b-9c65-422a-a266-e1977ce3482d",
   "metadata": {},
   "outputs": [
    {
     "name": "stdout",
     "output_type": "stream",
     "text": [
      "Number of in edges saved!\n"
     ]
    }
   ],
   "source": [
    "with open('mentions.pkl', 'wb') as file:\n",
    "    pickle.dump(number_of_in_edges, file)\n",
    "\n",
    "print('Number of in edges saved!')"
   ]
  },
  {
   "cell_type": "code",
   "execution_count": 9,
   "id": "f37053fc-428f-48f4-9cf1-c925dfe8d566",
   "metadata": {},
   "outputs": [
    {
     "name": "stdout",
     "output_type": "stream",
     "text": [
      "Loaded in edges\n"
     ]
    }
   ],
   "source": [
    "number_of_in_edges = None\n",
    "with open('mentions.pkl', 'rb') as file:\n",
    "    number_of_in_edges = pickle.load(file)\n",
    "\n",
    "print('Loaded in edges')"
   ]
  },
  {
   "cell_type": "code",
   "execution_count": 10,
   "id": "5125cf11-9e2d-40df-bca1-da89ff8b11d1",
   "metadata": {},
   "outputs": [],
   "source": [
    "n_website_references = [0] * len(organizations)\n",
    "\n",
    "for node, n_in_edges in number_of_in_edges.items():\n",
    "    domain = commoncrawl_node_to_domain[node]\n",
    "    row_index = reverse_domain_reference[domain]\n",
    "    n_website_references[row_index] = n_in_edges\n",
    "\n",
    "organizations['n_website_references'] = n_website_references"
   ]
  },
  {
   "cell_type": "code",
   "execution_count": 11,
   "id": "cfed5b2c-1269-4d54-9b2c-97a9acd5253a",
   "metadata": {},
   "outputs": [
    {
     "name": "stdout",
     "output_type": "stream",
     "text": [
      "                                   uuid       name          type primary_role  \\\n",
      "0  e1393508-30ea-8a36-3f96-dd3226033abd   Wetpaint  organization      company   \n",
      "1  bf4d7b0e-b34d-2fd8-d292-6049c4f7efc7       Zoho  organization      company   \n",
      "2  5f2b40b8-d1b3-d323-d81a-b7a8e89553d0       Digg  organization      company   \n",
      "3  df662812-7f97-0b43-9d3e-12f64f504fbb       Meta  organization      company   \n",
      "4  60485007-8856-bbac-aa1b-c535c41f5f47  Omnidrive  organization      company   \n",
      "\n",
      "                                              cb_url         domain  \\\n",
      "0  https://www.crunchbase.com/organization/wetpai...   wetpaint.com   \n",
      "1  https://www.crunchbase.com/organization/zoho?u...       zoho.com   \n",
      "2  https://www.crunchbase.com/organization/digg?u...       digg.com   \n",
      "3  https://www.crunchbase.com/organization/facebo...       meta.com   \n",
      "4  https://www.crunchbase.com/organization/omnidr...  omnidrive.com   \n",
      "\n",
      "               homepage_url  \\\n",
      "0  http://www.wetpaint.com/   \n",
      "1      https://www.zoho.com   \n",
      "2       http://www.digg.com   \n",
      "3      https://www.meta.com   \n",
      "4  http://www.omnidrive.com   \n",
      "\n",
      "                                            logo_url  \\\n",
      "0  https://images.crunchbase.com/image/upload/t_c...   \n",
      "1  https://images.crunchbase.com/image/upload/t_c...   \n",
      "2  https://images.crunchbase.com/image/upload/t_c...   \n",
      "3  https://images.crunchbase.com/image/upload/t_c...   \n",
      "4  https://images.crunchbase.com/image/upload/t_c...   \n",
      "\n",
      "                        facebook_url                     twitter_url  \\\n",
      "0  https://www.facebook.com/Wetpaint  https://twitter.com/wetpainttv   \n",
      "1       http://www.facebook.com/zoho         http://twitter.com/zoho   \n",
      "2       http://www.facebook.com/digg              https://x.com/digg   \n",
      "3      https://www.facebook.com/Meta              https://x.com/Meta   \n",
      "4   http://www.facebook.com/Nomadesk     http://twitter.com/Nomadesk   \n",
      "\n",
      "                                        linkedin_url combined_stock_symbols  \\\n",
      "0  https://www.linkedin.com/company/recruitment-c...                    NaN   \n",
      "1              https://www.linkedin.com/company/zoho                    NaN   \n",
      "2               http://www.linkedin.com/company/digg                    NaN   \n",
      "3              https://www.linkedin.com/company/meta            nasdaq:META   \n",
      "4                                                NaN                    NaN   \n",
      "\n",
      "           city      region country_code  \\\n",
      "0      New York    New York          USA   \n",
      "1  Chengalpattu  Tamil Nadu          IND   \n",
      "2      New York    New York          USA   \n",
      "3    Menlo Park  California          USA   \n",
      "4     Palo Alto  California          USA   \n",
      "\n",
      "                                   short_description  n_website_references  \n",
      "0  Wetpaint offers an online social publishing pl...                  3661  \n",
      "1  Zoho is an IT company that offers cloud-based ...                 64329  \n",
      "2  Digg operates a website that enables its users...                 90010  \n",
      "3  Meta is a social technology company that enabl...                 21508  \n",
      "4  Omnidrive provides online storage facilities t...                    93  \n"
     ]
    }
   ],
   "source": [
    "print(organizations.head())"
   ]
  },
  {
   "cell_type": "code",
   "execution_count": 12,
   "id": "337abe1f-6c20-4be8-8e0a-627144790aa5",
   "metadata": {},
   "outputs": [],
   "source": [
    "organizations.to_csv('cluster/scratch/bandonov/crunchbase/organizations_with_n_website_references.csv')"
   ]
  }
 ],
 "metadata": {
  "kernelspec": {
   "display_name": "Python 3 (ipykernel)",
   "language": "python",
   "name": "python3"
  },
  "language_info": {
   "codemirror_mode": {
    "name": "ipython",
    "version": 3
   },
   "file_extension": ".py",
   "mimetype": "text/x-python",
   "name": "python",
   "nbconvert_exporter": "python",
   "pygments_lexer": "ipython3",
   "version": "3.11.6"
  }
 },
 "nbformat": 4,
 "nbformat_minor": 5
}
