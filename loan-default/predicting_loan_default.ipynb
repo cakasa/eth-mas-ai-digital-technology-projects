{
 "cells": [
  {
   "cell_type": "markdown",
   "id": "63c49bdf-1cec-433f-aa56-a73b63689add",
   "metadata": {},
   "source": [
    "### Library imports"
   ]
  },
  {
   "cell_type": "code",
   "execution_count": 2,
   "id": "77a33b40-7e0a-4314-9983-4f7383d2dda7",
   "metadata": {
    "scrolled": true
   },
   "outputs": [
    {
     "name": "stdout",
     "output_type": "stream",
     "text": [
      "Collecting fairlearn\n",
      "  Downloading fairlearn-0.12.0-py3-none-any.whl.metadata (7.0 kB)\n",
      "Collecting imbalanced-learn\n",
      "  Downloading imbalanced_learn-0.13.0-py3-none-any.whl.metadata (8.8 kB)\n",
      "Collecting shap\n",
      "  Downloading shap-0.47.0-cp310-cp310-manylinux_2_17_x86_64.manylinux2014_x86_64.whl.metadata (24 kB)\n",
      "Collecting statsmodels\n",
      "  Downloading statsmodels-0.14.4-cp310-cp310-manylinux_2_17_x86_64.manylinux2014_x86_64.whl.metadata (9.2 kB)\n",
      "Collecting xgboost\n",
      "  Downloading xgboost-2.1.4-py3-none-manylinux_2_28_x86_64.whl.metadata (2.1 kB)\n",
      "Collecting seaborn\n",
      "  Downloading seaborn-0.13.2-py3-none-any.whl.metadata (5.4 kB)\n",
      "Collecting streamlit\n",
      "  Downloading streamlit-1.43.1-py2.py3-none-any.whl.metadata (8.9 kB)\n",
      "Collecting numpy>=1.24.4 (from fairlearn)\n",
      "  Downloading numpy-2.2.3-cp310-cp310-manylinux_2_17_x86_64.manylinux2014_x86_64.whl.metadata (62 kB)\n",
      "Collecting pandas>=2.0.3 (from fairlearn)\n",
      "  Downloading pandas-2.2.3-cp310-cp310-manylinux_2_17_x86_64.manylinux2014_x86_64.whl.metadata (89 kB)\n",
      "Collecting scikit-learn>=1.2.1 (from fairlearn)\n",
      "  Downloading scikit_learn-1.6.1-cp310-cp310-manylinux_2_17_x86_64.manylinux2014_x86_64.whl.metadata (18 kB)\n",
      "Collecting scipy>=1.9.3 (from fairlearn)\n",
      "  Downloading scipy-1.15.2-cp310-cp310-manylinux_2_17_x86_64.manylinux2014_x86_64.whl.metadata (61 kB)\n",
      "Collecting sklearn-compat<1,>=0.1 (from imbalanced-learn)\n",
      "  Downloading sklearn_compat-0.1.3-py3-none-any.whl.metadata (18 kB)\n",
      "Collecting joblib<2,>=1.1.1 (from imbalanced-learn)\n",
      "  Downloading joblib-1.4.2-py3-none-any.whl.metadata (5.4 kB)\n",
      "Collecting threadpoolctl<4,>=2.0.0 (from imbalanced-learn)\n",
      "  Downloading threadpoolctl-3.5.0-py3-none-any.whl.metadata (13 kB)\n",
      "Requirement already satisfied: tqdm>=4.27.0 in /opt/conda/lib/python3.10/site-packages (from shap) (4.65.0)\n",
      "Requirement already satisfied: packaging>20.9 in /opt/conda/lib/python3.10/site-packages (from shap) (24.2)\n",
      "Collecting slicer==0.0.8 (from shap)\n",
      "  Downloading slicer-0.0.8-py3-none-any.whl.metadata (4.0 kB)\n",
      "Collecting numba>=0.54 (from shap)\n",
      "  Downloading numba-0.61.0-cp310-cp310-manylinux2014_x86_64.manylinux_2_17_x86_64.whl.metadata (2.8 kB)\n",
      "Collecting cloudpickle (from shap)\n",
      "  Downloading cloudpickle-3.1.1-py3-none-any.whl.metadata (7.1 kB)\n",
      "Requirement already satisfied: typing-extensions in /opt/conda/lib/python3.10/site-packages (from shap) (4.6.2)\n",
      "Collecting patsy>=0.5.6 (from statsmodels)\n",
      "  Downloading patsy-1.0.1-py2.py3-none-any.whl.metadata (3.3 kB)\n",
      "Collecting nvidia-nccl-cu12 (from xgboost)\n",
      "  Downloading nvidia_nccl_cu12-2.25.1-py3-none-manylinux2014_x86_64.manylinux_2_17_x86_64.whl.metadata (1.8 kB)\n",
      "Collecting matplotlib!=3.6.1,>=3.4 (from seaborn)\n",
      "  Downloading matplotlib-3.10.1-cp310-cp310-manylinux_2_17_x86_64.manylinux2014_x86_64.whl.metadata (11 kB)\n",
      "Collecting altair<6,>=4.0 (from streamlit)\n",
      "  Downloading altair-5.5.0-py3-none-any.whl.metadata (11 kB)\n",
      "Requirement already satisfied: blinker<2,>=1.0.0 in /opt/conda/lib/python3.10/site-packages (from streamlit) (1.6.2)\n",
      "Collecting cachetools<6,>=4.0 (from streamlit)\n",
      "  Downloading cachetools-5.5.2-py3-none-any.whl.metadata (5.4 kB)\n",
      "Requirement already satisfied: click<9,>=7.0 in /opt/conda/lib/python3.10/site-packages (from streamlit) (8.1.7)\n",
      "Collecting pillow<12,>=7.1.0 (from streamlit)\n",
      "  Downloading pillow-11.1.0-cp310-cp310-manylinux_2_28_x86_64.whl.metadata (9.1 kB)\n",
      "Collecting protobuf<6,>=3.20 (from streamlit)\n",
      "  Downloading protobuf-5.29.3-cp38-abi3-manylinux2014_x86_64.whl.metadata (592 bytes)\n",
      "Collecting pyarrow>=7.0 (from streamlit)\n",
      "  Downloading pyarrow-19.0.1-cp310-cp310-manylinux_2_28_x86_64.whl.metadata (3.3 kB)\n",
      "Requirement already satisfied: requests<3,>=2.27 in /opt/conda/lib/python3.10/site-packages (from streamlit) (2.32.3)\n",
      "Requirement already satisfied: tenacity<10,>=8.1.0 in /opt/conda/lib/python3.10/site-packages (from streamlit) (9.0.0)\n",
      "Collecting toml<2,>=0.10.1 (from streamlit)\n",
      "  Downloading toml-0.10.2-py2.py3-none-any.whl.metadata (7.1 kB)\n",
      "Collecting watchdog<7,>=2.1.5 (from streamlit)\n",
      "  Downloading watchdog-6.0.0-py3-none-manylinux2014_x86_64.whl.metadata (44 kB)\n",
      "Requirement already satisfied: gitpython!=3.1.19,<4,>=3.0.7 in /opt/conda/lib/python3.10/site-packages (from streamlit) (3.1.43)\n",
      "Collecting pydeck<1,>=0.8.0b4 (from streamlit)\n",
      "  Downloading pydeck-0.9.1-py2.py3-none-any.whl.metadata (4.1 kB)\n",
      "Requirement already satisfied: tornado<7,>=6.0.3 in /opt/conda/lib/python3.10/site-packages (from streamlit) (6.4.2)\n",
      "Requirement already satisfied: jinja2 in /opt/conda/lib/python3.10/site-packages (from altair<6,>=4.0->streamlit) (3.0.3)\n",
      "Requirement already satisfied: jsonschema>=3.0 in /opt/conda/lib/python3.10/site-packages (from altair<6,>=4.0->streamlit) (4.23.0)\n",
      "Collecting narwhals>=1.14.2 (from altair<6,>=4.0->streamlit)\n",
      "  Downloading narwhals-1.30.0-py3-none-any.whl.metadata (11 kB)\n",
      "Collecting typing-extensions (from shap)\n",
      "  Downloading typing_extensions-4.12.2-py3-none-any.whl.metadata (3.0 kB)\n",
      "Requirement already satisfied: gitdb<5,>=4.0.1 in /opt/conda/lib/python3.10/site-packages (from gitpython!=3.1.19,<4,>=3.0.7->streamlit) (4.0.11)\n",
      "Collecting contourpy>=1.0.1 (from matplotlib!=3.6.1,>=3.4->seaborn)\n",
      "  Downloading contourpy-1.3.1-cp310-cp310-manylinux_2_17_x86_64.manylinux2014_x86_64.whl.metadata (5.4 kB)\n",
      "Collecting cycler>=0.10 (from matplotlib!=3.6.1,>=3.4->seaborn)\n",
      "  Downloading cycler-0.12.1-py3-none-any.whl.metadata (3.8 kB)\n",
      "Collecting fonttools>=4.22.0 (from matplotlib!=3.6.1,>=3.4->seaborn)\n",
      "  Downloading fonttools-4.56.0-cp310-cp310-manylinux_2_17_x86_64.manylinux2014_x86_64.whl.metadata (101 kB)\n",
      "Collecting kiwisolver>=1.3.1 (from matplotlib!=3.6.1,>=3.4->seaborn)\n",
      "  Downloading kiwisolver-1.4.8-cp310-cp310-manylinux_2_12_x86_64.manylinux2010_x86_64.whl.metadata (6.2 kB)\n",
      "Collecting pyparsing>=2.3.1 (from matplotlib!=3.6.1,>=3.4->seaborn)\n",
      "  Downloading pyparsing-3.2.1-py3-none-any.whl.metadata (5.0 kB)\n",
      "Requirement already satisfied: python-dateutil>=2.7 in /opt/conda/lib/python3.10/site-packages (from matplotlib!=3.6.1,>=3.4->seaborn) (2.8.2)\n",
      "Collecting llvmlite<0.45,>=0.44.0dev0 (from numba>=0.54->shap)\n",
      "  Downloading llvmlite-0.44.0-cp310-cp310-manylinux_2_17_x86_64.manylinux2014_x86_64.whl.metadata (4.8 kB)\n",
      "Collecting numpy>=1.24.4 (from fairlearn)\n",
      "  Downloading numpy-2.1.3-cp310-cp310-manylinux_2_17_x86_64.manylinux2014_x86_64.whl.metadata (62 kB)\n",
      "Requirement already satisfied: pytz>=2020.1 in /opt/conda/lib/python3.10/site-packages (from pandas>=2.0.3->fairlearn) (2023.3)\n",
      "Collecting tzdata>=2022.7 (from pandas>=2.0.3->fairlearn)\n",
      "  Downloading tzdata-2025.1-py2.py3-none-any.whl.metadata (1.4 kB)\n",
      "Requirement already satisfied: charset-normalizer<4,>=2 in /opt/conda/lib/python3.10/site-packages (from requests<3,>=2.27->streamlit) (3.1.0)\n",
      "Requirement already satisfied: idna<4,>=2.5 in /opt/conda/lib/python3.10/site-packages (from requests<3,>=2.27->streamlit) (3.4)\n",
      "Requirement already satisfied: urllib3<3,>=1.21.1 in /opt/conda/lib/python3.10/site-packages (from requests<3,>=2.27->streamlit) (2.0.2)\n",
      "Requirement already satisfied: certifi>=2017.4.17 in /opt/conda/lib/python3.10/site-packages (from requests<3,>=2.27->streamlit) (2024.8.30)\n",
      "Requirement already satisfied: smmap<6,>=3.0.1 in /opt/conda/lib/python3.10/site-packages (from gitdb<5,>=4.0.1->gitpython!=3.1.19,<4,>=3.0.7->streamlit) (5.0.0)\n",
      "Requirement already satisfied: MarkupSafe>=2.0 in /opt/conda/lib/python3.10/site-packages (from jinja2->altair<6,>=4.0->streamlit) (2.1.2)\n",
      "Requirement already satisfied: attrs>=22.2.0 in /opt/conda/lib/python3.10/site-packages (from jsonschema>=3.0->altair<6,>=4.0->streamlit) (23.1.0)\n",
      "Requirement already satisfied: jsonschema-specifications>=2023.03.6 in /opt/conda/lib/python3.10/site-packages (from jsonschema>=3.0->altair<6,>=4.0->streamlit) (2024.10.1)\n",
      "Requirement already satisfied: referencing>=0.28.4 in /opt/conda/lib/python3.10/site-packages (from jsonschema>=3.0->altair<6,>=4.0->streamlit) (0.35.1)\n",
      "Requirement already satisfied: rpds-py>=0.7.1 in /opt/conda/lib/python3.10/site-packages (from jsonschema>=3.0->altair<6,>=4.0->streamlit) (0.21.0)\n",
      "Requirement already satisfied: six>=1.5 in /opt/conda/lib/python3.10/site-packages (from python-dateutil>=2.7->matplotlib!=3.6.1,>=3.4->seaborn) (1.16.0)\n",
      "Downloading fairlearn-0.12.0-py3-none-any.whl (240 kB)\n",
      "Downloading imbalanced_learn-0.13.0-py3-none-any.whl (238 kB)\n",
      "Downloading shap-0.47.0-cp310-cp310-manylinux_2_17_x86_64.manylinux2014_x86_64.whl (977 kB)\n",
      "\u001b[2K   \u001b[90m━━━━━━━━━━━━━━━━━━━━━━━━━━━━━━━━━━━━━━━━\u001b[0m \u001b[32m978.0/978.0 kB\u001b[0m \u001b[31m17.5 MB/s\u001b[0m eta \u001b[36m0:00:00\u001b[0m\n",
      "\u001b[?25hDownloading slicer-0.0.8-py3-none-any.whl (15 kB)\n",
      "Downloading statsmodels-0.14.4-cp310-cp310-manylinux_2_17_x86_64.manylinux2014_x86_64.whl (10.8 MB)\n",
      "\u001b[2K   \u001b[90m━━━━━━━━━━━━━━━━━━━━━━━━━━━━━━━━━━━━━━━━\u001b[0m \u001b[32m10.8/10.8 MB\u001b[0m \u001b[31m36.3 MB/s\u001b[0m eta \u001b[36m0:00:00\u001b[0m:00:01\u001b[0m\n",
      "\u001b[?25hDownloading xgboost-2.1.4-py3-none-manylinux_2_28_x86_64.whl (223.6 MB)\n",
      "\u001b[2K   \u001b[90m━━━━━━━━━━━━━━━━━━━━━━━━━━━━━━━━━━━━━━━━\u001b[0m \u001b[32m223.6/223.6 MB\u001b[0m \u001b[31m95.5 MB/s\u001b[0m eta \u001b[36m0:00:00\u001b[0m00:01\u001b[0m00:01\u001b[0m\n",
      "\u001b[?25hDownloading seaborn-0.13.2-py3-none-any.whl (294 kB)\n",
      "Downloading streamlit-1.43.1-py2.py3-none-any.whl (9.7 MB)\n",
      "\u001b[2K   \u001b[90m━━━━━━━━━━━━━━━━━━━━━━━━━━━━━━━━━━━━━━━━\u001b[0m \u001b[32m9.7/9.7 MB\u001b[0m \u001b[31m30.9 MB/s\u001b[0m eta \u001b[36m0:00:00\u001b[0m00:01\u001b[0m\n",
      "\u001b[?25hDownloading altair-5.5.0-py3-none-any.whl (731 kB)\n",
      "\u001b[2K   \u001b[90m━━━━━━━━━━━━━━━━━━━━━━━━━━━━━━━━━━━━━━━━\u001b[0m \u001b[32m731.2/731.2 kB\u001b[0m \u001b[31m7.3 MB/s\u001b[0m eta \u001b[36m0:00:00\u001b[0m\n",
      "\u001b[?25hDownloading cachetools-5.5.2-py3-none-any.whl (10 kB)\n",
      "Downloading joblib-1.4.2-py3-none-any.whl (301 kB)\n",
      "Downloading matplotlib-3.10.1-cp310-cp310-manylinux_2_17_x86_64.manylinux2014_x86_64.whl (8.6 MB)\n",
      "\u001b[2K   \u001b[90m━━━━━━━━━━━━━━━━━━━━━━━━━━━━━━━━━━━━━━━━\u001b[0m \u001b[32m8.6/8.6 MB\u001b[0m \u001b[31m51.5 MB/s\u001b[0m eta \u001b[36m0:00:00\u001b[0m\n",
      "\u001b[?25hDownloading numba-0.61.0-cp310-cp310-manylinux2014_x86_64.manylinux_2_17_x86_64.whl (3.8 MB)\n",
      "\u001b[2K   \u001b[90m━━━━━━━━━━━━━━━━━━━━━━━━━━━━━━━━━━━━━━━━\u001b[0m \u001b[32m3.8/3.8 MB\u001b[0m \u001b[31m21.7 MB/s\u001b[0m eta \u001b[36m0:00:00\u001b[0m\n",
      "\u001b[?25hDownloading numpy-2.1.3-cp310-cp310-manylinux_2_17_x86_64.manylinux2014_x86_64.whl (16.3 MB)\n",
      "\u001b[2K   \u001b[90m━━━━━━━━━━━━━━━━━━━━━━━━━━━━━━━━━━━━━━━━\u001b[0m \u001b[32m16.3/16.3 MB\u001b[0m \u001b[31m64.5 MB/s\u001b[0m eta \u001b[36m0:00:00\u001b[0m:00:01\u001b[0m\n",
      "\u001b[?25hDownloading pandas-2.2.3-cp310-cp310-manylinux_2_17_x86_64.manylinux2014_x86_64.whl (13.1 MB)\n",
      "\u001b[2K   \u001b[90m━━━━━━━━━━━━━━━━━━━━━━━━━━━━━━━━━━━━━━━━\u001b[0m \u001b[32m13.1/13.1 MB\u001b[0m \u001b[31m59.5 MB/s\u001b[0m eta \u001b[36m0:00:00\u001b[0m:00:01\u001b[0m\n",
      "\u001b[?25hDownloading patsy-1.0.1-py2.py3-none-any.whl (232 kB)\n",
      "Downloading pillow-11.1.0-cp310-cp310-manylinux_2_28_x86_64.whl (4.5 MB)\n",
      "\u001b[2K   \u001b[90m━━━━━━━━━━━━━━━━━━━━━━━━━━━━━━━━━━━━━━━━\u001b[0m \u001b[32m4.5/4.5 MB\u001b[0m \u001b[31m18.9 MB/s\u001b[0m eta \u001b[36m0:00:00\u001b[0m:00:01\u001b[0m\n",
      "\u001b[?25hDownloading protobuf-5.29.3-cp38-abi3-manylinux2014_x86_64.whl (319 kB)\n",
      "Downloading pyarrow-19.0.1-cp310-cp310-manylinux_2_28_x86_64.whl (42.1 MB)\n",
      "\u001b[2K   \u001b[90m━━━━━━━━━━━━━━━━━━━━━━━━━━━━━━━━━━━━━━━━\u001b[0m \u001b[32m42.1/42.1 MB\u001b[0m \u001b[31m96.3 MB/s\u001b[0m eta \u001b[36m0:00:00\u001b[0m:00:01\u001b[0m\n",
      "\u001b[?25hDownloading pydeck-0.9.1-py2.py3-none-any.whl (6.9 MB)\n",
      "\u001b[2K   \u001b[90m━━━━━━━━━━━━━━━━━━━━━━━━━━━━━━━━━━━━━━━━\u001b[0m \u001b[32m6.9/6.9 MB\u001b[0m \u001b[31m42.2 MB/s\u001b[0m eta \u001b[36m0:00:00\u001b[0m\n",
      "\u001b[?25hDownloading scikit_learn-1.6.1-cp310-cp310-manylinux_2_17_x86_64.manylinux2014_x86_64.whl (13.5 MB)\n",
      "\u001b[2K   \u001b[90m━━━━━━━━━━━━━━━━━━━━━━━━━━━━━━━━━━━━━━━━\u001b[0m \u001b[32m13.5/13.5 MB\u001b[0m \u001b[31m64.4 MB/s\u001b[0m eta \u001b[36m0:00:00\u001b[0m:00:01\u001b[0m\n",
      "\u001b[?25hDownloading scipy-1.15.2-cp310-cp310-manylinux_2_17_x86_64.manylinux2014_x86_64.whl (37.6 MB)\n",
      "\u001b[2K   \u001b[90m━━━━━━━━━━━━━━━━━━━━━━━━━━━━━━━━━━━━━━━━\u001b[0m \u001b[32m37.6/37.6 MB\u001b[0m \u001b[31m88.3 MB/s\u001b[0m eta \u001b[36m0:00:00\u001b[0m:00:01\u001b[0m\n",
      "\u001b[?25hDownloading sklearn_compat-0.1.3-py3-none-any.whl (18 kB)\n",
      "Downloading threadpoolctl-3.5.0-py3-none-any.whl (18 kB)\n",
      "Downloading toml-0.10.2-py2.py3-none-any.whl (16 kB)\n",
      "Downloading typing_extensions-4.12.2-py3-none-any.whl (37 kB)\n",
      "Downloading watchdog-6.0.0-py3-none-manylinux2014_x86_64.whl (79 kB)\n",
      "Downloading cloudpickle-3.1.1-py3-none-any.whl (20 kB)\n",
      "Downloading nvidia_nccl_cu12-2.25.1-py3-none-manylinux2014_x86_64.manylinux_2_17_x86_64.whl (201.4 MB)\n",
      "\u001b[2K   \u001b[90m━━━━━━━━━━━━━━━━━━━━━━━━━━━━━━━━━━━━━━━━\u001b[0m \u001b[32m201.4/201.4 MB\u001b[0m \u001b[31m85.7 MB/s\u001b[0m eta \u001b[36m0:00:00\u001b[0m00:01\u001b[0m00:01\u001b[0m\n",
      "\u001b[?25hDownloading contourpy-1.3.1-cp310-cp310-manylinux_2_17_x86_64.manylinux2014_x86_64.whl (324 kB)\n",
      "Downloading cycler-0.12.1-py3-none-any.whl (8.3 kB)\n",
      "Downloading fonttools-4.56.0-cp310-cp310-manylinux_2_17_x86_64.manylinux2014_x86_64.whl (4.6 MB)\n",
      "\u001b[2K   \u001b[90m━━━━━━━━━━━━━━━━━━━━━━━━━━━━━━━━━━━━━━━━\u001b[0m \u001b[32m4.6/4.6 MB\u001b[0m \u001b[31m21.9 MB/s\u001b[0m eta \u001b[36m0:00:00\u001b[0m\n",
      "\u001b[?25hDownloading kiwisolver-1.4.8-cp310-cp310-manylinux_2_12_x86_64.manylinux2010_x86_64.whl (1.6 MB)\n",
      "\u001b[2K   \u001b[90m━━━━━━━━━━━━━━━━━━━━━━━━━━━━━━━━━━━━━━━━\u001b[0m \u001b[32m1.6/1.6 MB\u001b[0m \u001b[31m6.5 MB/s\u001b[0m eta \u001b[36m0:00:00\u001b[0meta \u001b[36m0:00:01\u001b[0m\n",
      "\u001b[?25hDownloading llvmlite-0.44.0-cp310-cp310-manylinux_2_17_x86_64.manylinux2014_x86_64.whl (42.4 MB)\n",
      "\u001b[2K   \u001b[90m━━━━━━━━━━━━━━━━━━━━━━━━━━━━━━━━━━━━━━━━\u001b[0m \u001b[32m42.4/42.4 MB\u001b[0m \u001b[31m58.4 MB/s\u001b[0m eta \u001b[36m0:00:00\u001b[0m:00:01\u001b[0m00:01\u001b[0m\n",
      "\u001b[?25hDownloading narwhals-1.30.0-py3-none-any.whl (313 kB)\n",
      "Downloading pyparsing-3.2.1-py3-none-any.whl (107 kB)\n",
      "Downloading tzdata-2025.1-py2.py3-none-any.whl (346 kB)\n",
      "Installing collected packages: watchdog, tzdata, typing-extensions, toml, threadpoolctl, slicer, pyparsing, pyarrow, protobuf, pillow, nvidia-nccl-cu12, numpy, narwhals, llvmlite, kiwisolver, joblib, fonttools, cycler, cloudpickle, cachetools, scipy, pydeck, patsy, pandas, numba, contourpy, xgboost, statsmodels, scikit-learn, matplotlib, sklearn-compat, shap, seaborn, fairlearn, altair, streamlit, imbalanced-learn\n",
      "  Attempting uninstall: typing-extensions\n",
      "    Found existing installation: typing_extensions 4.6.2\n",
      "    Uninstalling typing_extensions-4.6.2:\n",
      "      Successfully uninstalled typing_extensions-4.6.2\n",
      "Successfully installed altair-5.5.0 cachetools-5.5.2 cloudpickle-3.1.1 contourpy-1.3.1 cycler-0.12.1 fairlearn-0.12.0 fonttools-4.56.0 imbalanced-learn-0.13.0 joblib-1.4.2 kiwisolver-1.4.8 llvmlite-0.44.0 matplotlib-3.10.1 narwhals-1.30.0 numba-0.61.0 numpy-2.1.3 nvidia-nccl-cu12-2.25.1 pandas-2.2.3 patsy-1.0.1 pillow-11.1.0 protobuf-5.29.3 pyarrow-19.0.1 pydeck-0.9.1 pyparsing-3.2.1 scikit-learn-1.6.1 scipy-1.15.2 seaborn-0.13.2 shap-0.47.0 sklearn-compat-0.1.3 slicer-0.0.8 statsmodels-0.14.4 streamlit-1.43.1 threadpoolctl-3.5.0 toml-0.10.2 typing-extensions-4.12.2 tzdata-2025.1 watchdog-6.0.0 xgboost-2.1.4\n"
     ]
    }
   ],
   "source": [
    "# Install necessary packages \n",
    "import sys\n",
    "!{sys.executable} -m pip install fairlearn imbalanced-learn shap statsmodels xgboost seaborn streamlit"
   ]
  },
  {
   "cell_type": "code",
   "execution_count": 3,
   "id": "a5ed8d71-a1de-4930-96f6-00b033038b04",
   "metadata": {},
   "outputs": [
    {
     "name": "stderr",
     "output_type": "stream",
     "text": [
      "/opt/conda/lib/python3.10/site-packages/tqdm/auto.py:21: TqdmWarning: IProgress not found. Please update jupyter and ipywidgets. See https://ipywidgets.readthedocs.io/en/stable/user_install.html\n",
      "  from .autonotebook import tqdm as notebook_tqdm\n"
     ]
    }
   ],
   "source": [
    "import time\n",
    "import random\n",
    "from collections import Counter, defaultdict\n",
    "\n",
    "import pandas as pd\n",
    "import numpy as np\n",
    "import seaborn as sns\n",
    "import matplotlib.pyplot as plt\n",
    "from imblearn.over_sampling import SMOTENC, ADASYN\n",
    "from imblearn.under_sampling import TomekLinks\n",
    "import shap\n",
    "\n",
    "from sklearn.model_selection import train_test_split\n",
    "from sklearn.linear_model import LogisticRegression\n",
    "from sklearn.tree import DecisionTreeClassifier\n",
    "from sklearn.ensemble import RandomForestClassifier, AdaBoostClassifier\n",
    "from sklearn.neural_network import MLPClassifier\n",
    "from sklearn.metrics import accuracy_score, confusion_matrix, classification_report, mutual_info_score\n",
    "from sklearn.experimental import enable_iterative_imputer\n",
    "from sklearn.impute import SimpleImputer, IterativeImputer, KNNImputer\n",
    "from sklearn.neighbors import NearestNeighbors, KNeighborsClassifier\n",
    "from sklearn.preprocessing import RobustScaler, LabelEncoder\n",
    "from sklearn.model_selection import KFold, cross_val_score, learning_curve\n",
    "from sklearn.feature_selection import RFECV\n",
    "\n",
    "import statsmodels.api as sm\n",
    "from xgboost import XGBClassifier"
   ]
  },
  {
   "cell_type": "markdown",
   "id": "abfc9bd5-2adb-470c-a0af-61dce8b3b609",
   "metadata": {},
   "source": [
    "### Data import"
   ]
  },
  {
   "cell_type": "code",
   "execution_count": 4,
   "id": "2d8ecd37-8650-42e1-bbe5-0265da01fd59",
   "metadata": {},
   "outputs": [
    {
     "name": "stderr",
     "output_type": "stream",
     "text": [
      "/tmp/ipykernel_83/3441739554.py:1: DtypeWarning: Columns (0,19,49,59,118,129,130,131,134,135,136,139,145,146,147) have mixed types. Specify dtype option on import or set low_memory=False.\n",
      "  loans = pd.read_csv('../../data/accepted-loans/accepted_2007_to_2018Q4.csv')\n"
     ]
    },
    {
     "data": {
      "text/plain": [
       "2260701"
      ]
     },
     "execution_count": 4,
     "metadata": {},
     "output_type": "execute_result"
    }
   ],
   "source": [
    "loans = pd.read_csv('../../data/accepted-loans/accepted_2007_to_2018Q4.csv')\n",
    "len(loans)"
   ]
  },
  {
   "cell_type": "markdown",
   "id": "e3443dcd-9144-4ee9-9cfe-00e58154e9c2",
   "metadata": {},
   "source": [
    "#### Removal of unavailable and unusable features"
   ]
  },
  {
   "cell_type": "code",
   "execution_count": 5,
   "id": "ea515626-3743-406f-a85d-dd863b6a5398",
   "metadata": {},
   "outputs": [
    {
     "name": "stdout",
     "output_type": "stream",
     "text": [
      "Unavailable features: 44 / 151\n"
     ]
    },
    {
     "data": {
      "text/plain": [
       "loan_status\n",
       "Fully Paid                                             1076751\n",
       "Current                                                 878317\n",
       "Charged Off                                             268559\n",
       "Late (31-120 days)                                       21467\n",
       "In Grace Period                                           8436\n",
       "Late (16-30 days)                                         4349\n",
       "Does not meet the credit policy. Status:Fully Paid        1988\n",
       "Does not meet the credit policy. Status:Charged Off        761\n",
       "Default                                                     40\n",
       "Name: count, dtype: int64"
      ]
     },
     "execution_count": 5,
     "metadata": {},
     "output_type": "execute_result"
    }
   ],
   "source": [
    "# These are features that are unavailable at inference time, and cannot be used.\n",
    "unavailable_features = [\n",
    "    'collection_recovery_fee',\n",
    "    'funded_amnt',\n",
    "    'funded_amnt_inv',\n",
    "    'initial_list_status',\n",
    "    'issue_d',\n",
    "    'last_credit_pull_d',\n",
    "    'last_fico_range_high',\n",
    "    'last_fico_range_low',\n",
    "    'last_pymnt_amnt',\n",
    "    'last_pymnt_d',\n",
    "    'next_pymnt_d',\n",
    "    'out_prncp',\n",
    "    'out_prncp_inv',\n",
    "    'pymnt_plan', \n",
    "    'recoveries',\n",
    "    'total_pymnt',\n",
    "    'total_pymnt_inv',\n",
    "    'total_rec_int',\n",
    "    'total_rec_late_fee',\n",
    "    'total_rec_prncp',\n",
    "    'hardship_flag',\n",
    "    'hardship_type',\n",
    "    'hardship_reason',\n",
    "    'hardship_status',\n",
    "    'deferral_term',\n",
    "    'hardship_amount',\n",
    "    'hardship_start_date',\n",
    "    'hardship_end_date',\n",
    "    'payment_plan_start_date',\n",
    "    'hardship_length',\n",
    "    'hardship_dpd',\n",
    "    'hardship_loan_status',\n",
    "    'orig_projected_additional_accrued_interest',\n",
    "    'hardship_payoff_balance_amount',\n",
    "    'hardship_last_payment_amount',\n",
    "    'debt_settlement_flag',\n",
    "    'debt_settlement_flag_date',\n",
    "    'settlement_status',\n",
    "    'settlement_date',\n",
    "    'settlement_amount',\n",
    "    'settlement_percentage',\n",
    "    'settlement_term',\n",
    "    'disbursement_method',\n",
    "    'policy_code'\n",
    "]\n",
    "\n",
    "print(f'Unavailable features: {len(unavailable_features)} / {len(loans.columns)}')\n",
    "loans['loan_status'].value_counts()"
   ]
  },
  {
   "cell_type": "code",
   "execution_count": 6,
   "id": "9f25667e-7537-4977-a75b-d73fc40d90b2",
   "metadata": {},
   "outputs": [
    {
     "name": "stdout",
     "output_type": "stream",
     "text": [
      "Unused features: 10 / 151\n"
     ]
    }
   ],
   "source": [
    "# These are features which are available at runtime, but should not be used for inference, either because they introduce bias,\n",
    "# or because they first have to be converted into a meaningful representation before being able to be used (e.g. loan description)\n",
    "unused_features = [\n",
    "    'addr_state',\n",
    "    'desc',\n",
    "    'grade',\n",
    "    'emp_title',\n",
    "    'id',\n",
    "    'member_id',\n",
    "    'sub_grade',\n",
    "    'title',\n",
    "    'url',\n",
    "    'zip_code',\n",
    "]\n",
    "\n",
    "# TODO: experiment with addr_state and zip_code, leave out (sub_)grade.\n",
    "print(f'Unused features: {len(unused_features)} / {len(loans.columns)}')"
   ]
  },
  {
   "cell_type": "code",
   "execution_count": 7,
   "id": "9b524dce-26d5-4c9f-bd2f-9f52ac08b28b",
   "metadata": {},
   "outputs": [
    {
     "name": "stdout",
     "output_type": "stream",
     "text": [
      "Remaining features: 97\n"
     ]
    }
   ],
   "source": [
    "# Drop these two sets of features\n",
    "features_to_drop = unavailable_features + unused_features\n",
    "loans = loans.drop(columns=features_to_drop)\n",
    "print(f'Remaining features: {len(loans.columns)}')"
   ]
  },
  {
   "cell_type": "code",
   "execution_count": 8,
   "id": "deb6bd4d-403a-4a84-9ecf-2fbb622da312",
   "metadata": {},
   "outputs": [
    {
     "data": {
      "text/plain": [
       "1346111"
      ]
     },
     "execution_count": 8,
     "metadata": {},
     "output_type": "execute_result"
    }
   ],
   "source": [
    "# Extract only the loan defaults and the fully paid loans\n",
    "defaulted_loans_labels = ['Charged Off', 'Default', 'Does not meet the credit policy. Status:Charged Off']\n",
    "default_loans = loans[loans['loan_status'].isin(defaulted_loans_labels)]\n",
    "paid_loans = loans[loans['loan_status'] == 'Fully Paid']\n",
    "\n",
    "# Join the loan defaults and paid loans. This is now our dataset.\n",
    "loans = pd.concat([paid_loans, default_loans])\n",
    "len(loans)"
   ]
  },
  {
   "cell_type": "markdown",
   "id": "67d2f933-2783-4a9b-b9ff-c44e35efff89",
   "metadata": {},
   "source": [
    "#### Introducing bias (probably should not include this for students)"
   ]
  },
  {
   "cell_type": "code",
   "execution_count": 9,
   "id": "a013dcb6-7c4a-47ed-afc2-6d9e5c6cad58",
   "metadata": {},
   "outputs": [],
   "source": [
    "base_race_prob_dict = { #based loosely off of https://en.wikipedia.org/wiki/Race_and_ethnicity_in_the_United_States\n",
    "    'white': .5,\n",
    "    'latino': .2, \n",
    "    'black': .2, \n",
    "    'asian': .03, \n",
    "    'american_indian': .02\n",
    "}\t\n",
    "base_race_prob_dict['other'] = 1. - sum(base_race_prob_dict.values())\n",
    "\n",
    "prob_college_given_race = {\n",
    "    # based on https://en.wikipedia.org/wiki/Educational_attainment_in_the_United_States#/media/File:Educational_Attainment_Statistics.webp\n",
    "    'white': .45,\n",
    "    'latino': .25, \n",
    "    'black': .28, \n",
    "    'asian': .71, \n",
    "    'american_indian': .11, \n",
    "    'other':  .3\n",
    "}\n",
    "prob_education_given_race = defaultdict(dict)\n",
    "for r in prob_college_given_race.keys():\n",
    "    prob_education_given_race[r]['College degree'] = prob_college_given_race[r]\n",
    "    remainder = 1. - prob_education_given_race[r]['College degree']\n",
    "    # split probability between other two options bc don't really know the spread\n",
    "    prob_education_given_race[r]['GED/High school'], prob_education_given_race[r]['None'] = remainder/2., remainder/2.\n",
    "\n",
    "prob_loan_default = len(default_loans)/len(loans)\n",
    "\n",
    "prob_default_given_race = {}\n",
    "for r in base_race_prob_dict.keys():\n",
    "    prob_default_given_race[r] = prob_loan_default*np.random.uniform(0.5, 1.5)\n",
    "renorm_constant = sum([prob_default_given_race[r]*base_race_prob_dict[r] for r in base_race_prob_dict.keys()])/prob_loan_default\n",
    "prob_default_given_race = {k:v/renorm_constant for k,v in prob_default_given_race.items()}\n",
    "\n",
    "prob_race_given_default = {}\n",
    "for r in base_race_prob_dict.keys():\n",
    "    prob_race_given_default[r] = prob_default_given_race[r]*base_race_prob_dict[r]/prob_loan_default\n",
    "\n",
    "np.random.seed(42)\n",
    "added_cols = [c for c in loans.columns if 'race' in c or 'education' in c]\n",
    "loans.drop(added_cols, axis=1, inplace=True)\n",
    "\n",
    "vals, probs_default = list(zip(*prob_race_given_default.items()))\n",
    "probs_no_default = [base_race_prob_dict[v] for v in vals]\n",
    "def sample_race(row):\n",
    "    probs = probs_no_default if row['loan_status'] == 'Fully Paid' else probs_default\n",
    "    sample = np.random.multinomial(1, probs)\n",
    "    return vals[list(sample).index(1)]\n",
    "loans['race'] = loans.apply(sample_race, axis=1)\n",
    "\n",
    "def sample_education(row):\n",
    "    vals, probs = list(zip(*prob_education_given_race[row['race']].items()))\n",
    "    sample = np.random.multinomial(1, probs)\n",
    "    return vals[list(sample).index(1)]\n",
    "loans['education'] = loans.apply(sample_education, axis=1)"
   ]
  },
  {
   "cell_type": "markdown",
   "id": "3353ed72-a0c4-4bff-8ede-2f5e66c02d89",
   "metadata": {},
   "source": [
    "#### Metrics for bias evaluation"
   ]
  },
  {
   "cell_type": "code",
   "execution_count": 10,
   "id": "7c923eda-d01a-4c5e-b088-c5d707f786bb",
   "metadata": {},
   "outputs": [],
   "source": [
    "def compute_pseudo_r2(df, dependent_var, independent_var):\n",
    "    \"\"\"\n",
    "    Computes the pseudo-R^2 (McFadden's R^2) for logistic regression \n",
    "    between two categorical variables.\n",
    "\n",
    "    Parameters:\n",
    "    - df: pandas DataFrame containing the data\n",
    "    - dependent_var: str, name of the dependent (target) variable\n",
    "    - independent_var: str, name of the independent (predictor) variable\n",
    "\n",
    "    Returns:\n",
    "    - float, the McFadden's pseudo-R^2 value\n",
    "    \"\"\"\n",
    "    # Encode categorical variables as numeric\n",
    "    le_target = LabelEncoder()\n",
    "    le_predictor = LabelEncoder()\n",
    "    y = le_target.fit_transform(df[dependent_var])\n",
    "    X = le_predictor.fit_transform(df[independent_var])\n",
    "    \n",
    "    # Add a constant to the independent variable for the intercept\n",
    "    X = sm.add_constant(X)\n",
    "    \n",
    "    # Fit the logistic regression model\n",
    "    if len(set(y)) == 2:\n",
    "        # Binary logistic regression\n",
    "        model = sm.Logit(y, X)\n",
    "    else:\n",
    "        # Multinomial logistic regression\n",
    "        model = sm.MNLogit(y, X)\n",
    "    result = model.fit(disp=0)  # Suppress output\n",
    "    \n",
    "    # Compute McFadden's pseudo-R^2\n",
    "    llf = result.llf  # Log-likelihood of the fitted model\n",
    "    llnull = result.llnull  # Log-likelihood of the null model\n",
    "    pseudo_r2 = 1 - (llf / llnull)\n",
    "    \n",
    "    return pseudo_r2\n",
    "\n",
    "def compute_bias_metrics(df, att1, att2):\n",
    "    print(\"Mutual information:\", mutual_info_score(df[att1], df[att2]))\n",
    "    print(\"Pseudo R2:\", compute_pseudo_r2(df, att1, att2))"
   ]
  },
  {
   "cell_type": "code",
   "execution_count": 11,
   "id": "5b6091c5-83d2-423f-b21c-0afbf0ffd504",
   "metadata": {},
   "outputs": [
    {
     "name": "stdout",
     "output_type": "stream",
     "text": [
      "Mutual information: 0.0028452986286170573\n",
      "Pseudo R2: 0.0020125532112812428\n"
     ]
    }
   ],
   "source": [
    "compute_bias_metrics(loans, 'loan_status', 'race')"
   ]
  },
  {
   "cell_type": "code",
   "execution_count": 12,
   "id": "a79a1d5a-2125-4dc0-9c5a-bf4dbfd076c1",
   "metadata": {},
   "outputs": [],
   "source": [
    "categorical_education = pd.get_dummies(loans[['education']], dtype='float64')\n",
    "categorical_race = pd.get_dummies(loans[['race']], dtype='float64')\n",
    "loans = pd.concat([loans, categorical_race, categorical_education], axis=1).drop(['race', 'education'], axis=1)"
   ]
  },
  {
   "cell_type": "markdown",
   "id": "5fc00a5a-6682-48de-9c13-e43fb347ca61",
   "metadata": {},
   "source": [
    "### Data Analysis"
   ]
  },
  {
   "cell_type": "code",
   "execution_count": 13,
   "id": "dea33aba-5399-4a53-9433-f3cf254ed814",
   "metadata": {},
   "outputs": [
    {
     "name": "stdout",
     "output_type": "stream",
     "text": [
      "Loan defaults: 269360\n",
      "Fully paid loans: 1076751\n",
      "There is data imbalance!\n"
     ]
    }
   ],
   "source": [
    "# See how loan labels are distributed ('loan_status' is the variable we would like to predict in this task)\n",
    "status_counts = Counter(loans['loan_status'])\n",
    "n_loan_defaults = sum([status_counts[label] for label in defaulted_loans_labels])\n",
    "n_paid_loans = status_counts['Fully Paid']\n",
    "print(f\"Loan defaults: {n_loan_defaults}\")\n",
    "print(f\"Fully paid loans: {n_paid_loans}\")\n",
    "print(\"There is data imbalance!\")"
   ]
  },
  {
   "cell_type": "code",
   "execution_count": 14,
   "id": "0a4cb29e-becf-4ea0-8ef0-e8a19b42edf2",
   "metadata": {},
   "outputs": [
    {
     "name": "stdout",
     "output_type": "stream",
     "text": [
      "Individual loans: 1320305 , 0.98\n",
      "Joint loans: 25806 , 0.02\n"
     ]
    }
   ],
   "source": [
    "individual_loans = loans[loans['application_type'] == 'Individual']\n",
    "print(\"Individual loans:\", len(individual_loans), \",\", round(len(individual_loans) / len(loans), 2))\n",
    "print(\"Joint loans:\", len(loans) - len(individual_loans), \",\", round((len(loans) - len(individual_loans)) / len(loans), 2))"
   ]
  },
  {
   "cell_type": "code",
   "execution_count": 15,
   "id": "5717ea33-245e-40ef-be92-f61c17b2c5b5",
   "metadata": {},
   "outputs": [
    {
     "name": "stdout",
     "output_type": "stream",
     "text": [
      "Numerical features: 96\n",
      "Categorical features: 10\n",
      "term -> [' 36 months', ' 60 months'], 2, False\n",
      "emp_length -> ['10+ years', '3 years', '4 years', '6 years', '8 years', '2 years', '9 years', '< 1 year', '1 year', '5 years'], 12, True\n",
      "home_ownership -> ['MORTGAGE', 'RENT', 'OWN', 'ANY', 'NONE', 'OTHER'], 6, False\n",
      "verification_status -> ['Not Verified', 'Source Verified', 'Verified'], 3, False\n",
      "loan_status -> ['Fully Paid', 'Charged Off', 'Default', 'Does not meet the credit policy. Status:Charged Off'], 4, False\n",
      "purpose -> ['debt_consolidation', 'small_business', 'home_improvement', 'major_purchase', 'credit_card', 'other', 'house', 'vacation', 'medical', 'car'], 14, False\n",
      "earliest_cr_line -> ['Aug-2003', 'Dec-1999', 'Aug-2000', 'Jun-1998', 'Oct-1987', 'Jun-1990', 'Feb-1999', 'Apr-2002', 'Nov-1994', 'Jun-1996'], 740, True\n",
      "application_type -> ['Individual', 'Joint App'], 2, False\n",
      "verification_status_joint -> [nan, 'Not Verified', 'Verified', 'Source Verified'], 4, True\n",
      "sec_app_earliest_cr_line -> [nan, 'Feb-2007', 'Feb-2009', 'May-2004', 'Mar-2007', 'Jul-2015', 'Aug-2012', 'Jun-1999', 'Aug-2006', 'Sep-2005'], 571, True\n",
      "Number of features with NA: 4\n"
     ]
    }
   ],
   "source": [
    "float_cols = loans.select_dtypes(include='float64')\n",
    "object_cols = loans.select_dtypes(include='object')\n",
    "\n",
    "print(f'Numerical features: {len(float_cols.columns)}')\n",
    "print(f'Categorical features: {len(object_cols.columns)}')\n",
    "\n",
    "possible_values = {}\n",
    "for col in object_cols.columns:\n",
    "    possible_values[col] = list(pd.unique(object_cols[col]))\n",
    "\n",
    "n_na = 0\n",
    "for key, val in possible_values.items():\n",
    "    has_na_vals = any(pd.isna(val))\n",
    "    print(f'{key} -> {val[:10]}, {len(val)}, {has_na_vals}')\n",
    "    if has_na_vals:\n",
    "        n_na += 1\n",
    "\n",
    "print(\"Number of features with NA:\", n_na) "
   ]
  },
  {
   "cell_type": "markdown",
   "id": "fcc32a51-76e1-40e3-8877-9c2b87ed1b49",
   "metadata": {},
   "source": [
    "Let's investigate the distribution of annual_income in our dataset."
   ]
  },
  {
   "cell_type": "code",
   "execution_count": 16,
   "id": "1f3b6b8d-fd9d-4479-8d9a-7bbaa7599687",
   "metadata": {},
   "outputs": [
    {
     "data": {
      "image/png": "[encoded data removed]",
      "text/plain": [
       "<Figure size 640x480 with 1 Axes>"
      ]
     },
     "metadata": {},
     "output_type": "display_data"
    },
    {
     "name": "stdout",
     "output_type": "stream",
     "text": [
      "Description\n",
      "count    1.076751e+06\n",
      "mean     7.770595e+04\n",
      "std      7.093496e+04\n",
      "min      0.000000e+00\n",
      "25%      4.700000e+04\n",
      "50%      6.500000e+04\n",
      "75%      9.300000e+04\n",
      "max      1.099920e+07\n",
      "Name: annual_inc, dtype: float64\n"
     ]
    },
    {
     "data": {
      "image/png": "[encoded data removed]",
      "text/plain": [
       "<Figure size 640x480 with 1 Axes>"
      ]
     },
     "metadata": {},
     "output_type": "display_data"
    },
    {
     "name": "stdout",
     "output_type": "stream",
     "text": [
      "Description\n",
      "count    2.693600e+05\n",
      "mean     7.039883e+04\n",
      "std      6.538521e+04\n",
      "min      0.000000e+00\n",
      "25%      4.300000e+04\n",
      "50%      6.000000e+04\n",
      "75%      8.500000e+04\n",
      "max      9.500000e+06\n",
      "Name: annual_inc, dtype: float64\n"
     ]
    }
   ],
   "source": [
    "def plot_distribution(df, attribute, typ, spacing):\n",
    "    per_1 = int(np.percentile(loans[attribute], 1))\n",
    "    per_99 = int(np.percentile(loans[attribute], 99))\n",
    "    bins = range(per_1, per_99, spacing)\n",
    "    plt.hist(df[attribute], bins=bins)\n",
    "    plt.title(f'Distribution of {attribute} for {typ} loans (1st - 99th percentile)')\n",
    "    plt.xlabel(attribute)\n",
    "    plt.ylabel('Number of people')\n",
    "    plt.show()\n",
    "\n",
    "    print(\"Description\")\n",
    "    print(df[attribute].describe())\n",
    "\n",
    "plot_distribution(paid_loans, 'annual_inc', 'paid', 10_000)\n",
    "plot_distribution(default_loans, 'annual_inc', 'defautled', 10_000)"
   ]
  },
  {
   "cell_type": "markdown",
   "id": "04f328c4-151f-4393-ad0f-cf3f550dbbd2",
   "metadata": {},
   "source": [
    "We notice that the annual income of people with loan defaults is slightly lower than the ones with fully paid loans (~ $5000 median difference)\n",
    "\n",
    "We now plot the requested loan amount per paid loan or loan default "
   ]
  },
  {
   "cell_type": "code",
   "execution_count": 17,
   "id": "16f56d01-1cca-443c-94c3-30055aabdbb2",
   "metadata": {},
   "outputs": [
    {
     "data": {
      "image/png": "[encoded data removed]",
      "text/plain": [
       "<Figure size 640x480 with 1 Axes>"
      ]
     },
     "metadata": {},
     "output_type": "display_data"
    },
    {
     "name": "stdout",
     "output_type": "stream",
     "text": [
      "Description\n",
      "count    1.076751e+06\n",
      "mean     1.413437e+04\n",
      "std      8.669029e+03\n",
      "min      5.000000e+02\n",
      "25%      7.500000e+03\n",
      "50%      1.200000e+04\n",
      "75%      2.000000e+04\n",
      "max      4.000000e+04\n",
      "Name: loan_amnt, dtype: float64\n"
     ]
    },
    {
     "data": {
      "image/png": "[encoded data removed]",
      "text/plain": [
       "<Figure size 640x480 with 1 Axes>"
      ]
     },
     "metadata": {},
     "output_type": "display_data"
    },
    {
     "name": "stdout",
     "output_type": "stream",
     "text": [
      "Description\n",
      "count    269360.000000\n",
      "mean      15547.816955\n",
      "std        8814.732243\n",
      "min         500.000000\n",
      "25%        9000.000000\n",
      "50%       14300.000000\n",
      "75%       20400.000000\n",
      "max       40000.000000\n",
      "Name: loan_amnt, dtype: float64\n"
     ]
    }
   ],
   "source": [
    "plot_distribution(paid_loans, 'loan_amnt', 'paid', 4000)\n",
    "plot_distribution(default_loans, 'loan_amnt', 'defautled', 4000)"
   ]
  },
  {
   "cell_type": "markdown",
   "id": "4234a341-66c0-4034-8f00-c87326fb2a86",
   "metadata": {},
   "source": [
    "We can see that people who default their loans request a slightly higher amount (~ $2300 median difference)\n",
    "\n",
    "Now, let us plot the correlation between the monthly salary and installment amount."
   ]
  },
  {
   "cell_type": "code",
   "execution_count": 18,
   "id": "f42d84f4-bd9f-4af3-9dd0-56085a074c61",
   "metadata": {},
   "outputs": [
    {
     "data": {
      "image/png": "[encoded data removed]",
      "text/plain": [
       "<Figure size 640x480 with 1 Axes>"
      ]
     },
     "metadata": {},
     "output_type": "display_data"
    }
   ],
   "source": [
    "n_samples_each = 300\n",
    "\n",
    "paid_loans_sample = paid_loans.sample(n=n_samples_each, random_state=42)\n",
    "plt.scatter(\n",
    "    paid_loans_sample['annual_inc'] / 12, # Monthly income\n",
    "    paid_loans_sample['installment'],\n",
    "    label='Fully paid',\n",
    "    s=5\n",
    ")\n",
    "\n",
    "\n",
    "default_loans_sample = default_loans.sample(n=n_samples_each, random_state=42)\n",
    "plt.scatter(\n",
    "    default_loans_sample['annual_inc'] / 12,\n",
    "    default_loans_sample['installment'],\n",
    "    label='Loan default',\n",
    "    s=5\n",
    ")\n",
    "\n",
    "plt.xlabel('Monthly income')\n",
    "plt.ylabel('Monthly installments') \n",
    "plt.xlim(0, 400_000 / 12)\n",
    "plt.legend()\n",
    "plt.show()"
   ]
  },
  {
   "attachments": {},
   "cell_type": "markdown",
   "id": "8c0e9f59-896f-45fb-9f71-497cece31680",
   "metadata": {},
   "source": [
    "There seems to be positive correlation between the monthly income and the installment amount, which does make sense. However, from the plot above, it seems difficult to determine whether a loan will default or not based on these two features alone.\n",
    "\n",
    "Now, let's see how the high and low **FICO range** affect the outcome of a loan (those are indicators for the trustworthiness of the borrower)."
   ]
  },
  {
   "cell_type": "code",
   "execution_count": 19,
   "id": "41e7a6ce-101c-4c8f-9e4e-43717269fab7",
   "metadata": {
    "scrolled": true
   },
   "outputs": [
    {
     "data": {
      "image/png": "[encoded data removed]",
      "text/plain": [
       "<Figure size 640x480 with 1 Axes>"
      ]
     },
     "metadata": {},
     "output_type": "display_data"
    },
    {
     "name": "stdout",
     "output_type": "stream",
     "text": [
      "Description\n",
      "count    1.076751e+06\n",
      "mean     6.982639e+02\n",
      "std      3.283365e+01\n",
      "min      6.250000e+02\n",
      "25%      6.750000e+02\n",
      "50%      6.900000e+02\n",
      "75%      7.150000e+02\n",
      "max      8.450000e+02\n",
      "Name: fico_range_low, dtype: float64\n"
     ]
    },
    {
     "data": {
      "image/png": "[encoded data removed]",
      "text/plain": [
       "<Figure size 640x480 with 1 Axes>"
      ]
     },
     "metadata": {},
     "output_type": "display_data"
    },
    {
     "name": "stdout",
     "output_type": "stream",
     "text": [
      "Description\n",
      "count    269360.000000\n",
      "mean        687.831360\n",
      "std          25.955851\n",
      "min         615.000000\n",
      "25%         670.000000\n",
      "50%         680.000000\n",
      "75%         700.000000\n",
      "max         845.000000\n",
      "Name: fico_range_low, dtype: float64\n"
     ]
    },
    {
     "data": {
      "image/png": "[encoded data removed]",
      "text/plain": [
       "<Figure size 640x480 with 1 Axes>"
      ]
     },
     "metadata": {},
     "output_type": "display_data"
    },
    {
     "name": "stdout",
     "output_type": "stream",
     "text": [
      "Description\n",
      "count    1.076751e+06\n",
      "mean     7.022641e+02\n",
      "std      3.283437e+01\n",
      "min      6.290000e+02\n",
      "25%      6.790000e+02\n",
      "50%      6.940000e+02\n",
      "75%      7.190000e+02\n",
      "max      8.500000e+02\n",
      "Name: fico_range_high, dtype: float64\n"
     ]
    },
    {
     "data": {
      "image/png": "[encoded data removed]",
      "text/plain": [
       "<Figure size 640x480 with 1 Axes>"
      ]
     },
     "metadata": {},
     "output_type": "display_data"
    },
    {
     "name": "stdout",
     "output_type": "stream",
     "text": [
      "Description\n",
      "count    269360.000000\n",
      "mean        691.831411\n",
      "std          25.956166\n",
      "min         619.000000\n",
      "25%         674.000000\n",
      "50%         684.000000\n",
      "75%         704.000000\n",
      "max         850.000000\n",
      "Name: fico_range_high, dtype: float64\n"
     ]
    }
   ],
   "source": [
    "plot_distribution(paid_loans, 'fico_range_low', 'paid', 10)\n",
    "plot_distribution(default_loans, 'fico_range_low', 'defaulted', 10)\n",
    "plot_distribution(paid_loans, 'fico_range_high', 'paid', 10)\n",
    "plot_distribution(default_loans, 'fico_range_high', 'defaulted', 10)"
   ]
  },
  {
   "cell_type": "markdown",
   "id": "6da0e2a1-8c42-4f01-8a85-faa8765f6600",
   "metadata": {},
   "source": [
    "The FICO range does not seem to be a good indicator for whether the loan will default. There's only a ~10 median difference in scores between paid and defaulted loans.\n",
    "\n",
    "Lastly, we will plot the home_ownership variable to see whether that is different between paid loans and defautled loans."
   ]
  },
  {
   "cell_type": "code",
   "execution_count": 20,
   "id": "04f587ea-5fd4-494d-ae03-760683e9a06b",
   "metadata": {},
   "outputs": [
    {
     "data": {
      "image/png": "[encoded data removed]",
      "text/plain": [
       "<Figure size 640x480 with 1 Axes>"
      ]
     },
     "metadata": {},
     "output_type": "display_data"
    },
    {
     "data": {
      "image/png": "[encoded data removed]",
      "text/plain": [
       "<Figure size 640x480 with 1 Axes>"
      ]
     },
     "metadata": {},
     "output_type": "display_data"
    }
   ],
   "source": [
    "def plot_home_ownership(df, typ):\n",
    "    home_ownership = df.groupby('home_ownership').count().to_dict()['loan_status']\n",
    "    n_entries = sum(home_ownership.values())\n",
    "    home_ownership =  [(val / n_entries, key) for key, val in home_ownership.items()]\n",
    "    home_ownership.sort(reverse=True)\n",
    "\n",
    "    x, y =  [x[1] for x in home_ownership], [x[0] for x in home_ownership]\n",
    "    bars = plt.bar(x, y)\n",
    "    \n",
    "    for bar in bars:\n",
    "        yval = f\"{round(bar.get_height() * 100, 3)}%\"\n",
    "        plt.text(bar.get_x() + bar.get_width()/2, bar.get_height(), f'{yval}', ha='center', va='bottom')\n",
    "\n",
    "    plt.title(f'Home ownership share of {typ} loans')\n",
    "    plt.ylabel('Share')\n",
    "    plt.xlabel('Home type')\n",
    "    plt.show()\n",
    "\n",
    "plot_home_ownership(paid_loans, 'paid')\n",
    "plot_home_ownership(default_loans, 'defaulted')"
   ]
  },
  {
   "cell_type": "markdown",
   "id": "95d4c10f-fbcd-41f2-808c-c840906b9dbc",
   "metadata": {},
   "source": [
    "We notice that rent and mortgage swapped places between the paid and defaulted loans. There is a +8% and a -9% change between defaulted loans and paid loans for renting a home and having a mortgage on a home, respectively - these are quite significant numbers, so this feature might be important."
   ]
  },
  {
   "cell_type": "markdown",
   "id": "0eb79e06-f21c-4a4e-8ab5-4b9444934366",
   "metadata": {},
   "source": [
    "### Data cleaning"
   ]
  },
  {
   "cell_type": "markdown",
   "id": "2090e6b1-a371-4347-b49b-3ac0e15fc392",
   "metadata": {},
   "source": [
    "Data is cleaned when calling the train_eval_model function (found near the end of the notebook). This follows several steps:\n",
    "\n",
    "1. All text features are converted into numerical ones\n",
    "2. Features are imputed\n",
    "3. Features are scaled\n",
    "4. Classes are balanced\n",
    "\n",
    "For all steps but 1. an approach from several implemented ones can be selected."
   ]
  },
  {
   "cell_type": "markdown",
   "id": "2ec48ce4-87fa-4e00-9bc6-bc454374e816",
   "metadata": {},
   "source": [
    "#### Feature imputation"
   ]
  },
  {
   "cell_type": "markdown",
   "id": "7e6c1c94-19d1-49c3-9df4-b63934595911",
   "metadata": {},
   "source": [
    "##### Approach 1: Simple imputation. Fast, but not as accurate"
   ]
  },
  {
   "cell_type": "code",
   "execution_count": 21,
   "id": "0c0e9a7a-5272-4bfd-b86c-3648a9637e19",
   "metadata": {
    "scrolled": true
   },
   "outputs": [],
   "source": [
    "def simple_imputation(X_train, X_test):\n",
    "    simple_imputer = SimpleImputer(strategy='median')\n",
    "    X_train = pd.DataFrame(simple_imputer.fit_transform(X_train), columns=X_train.columns)\n",
    "    X_test = pd.DataFrame(simple_imputer.transform(X_test), columns=X_test.columns)\n",
    "    \n",
    "    return X_train, X_test"
   ]
  },
  {
   "cell_type": "code",
   "execution_count": 22,
   "id": "d7e3f74c-c6cd-4e67-8736-0fb6969e1359",
   "metadata": {},
   "outputs": [],
   "source": [
    "def better_imputation(df, cat_marker=\"Missing\", num_impute_strategy=\"median\", return_imputer=False):\n",
    "    \"\"\"\n",
    "    Impute missing values in a dataframe:\n",
    "    - Categorical variables: Filled with a marker (default: 'Missing')\n",
    "    - Numerical variables: Imputed with the specified strategy (median or mean)\n",
    "    \n",
    "    Parameters:\n",
    "    df (pd.DataFrame): Input dataframe\n",
    "    cat_marker (str, optional): Marker for missing categorical values (default: \"Missing\")\n",
    "    num_impute_strategy (str, optional): Strategy for imputing numerical columns ('median' or 'mean', default: 'median')\n",
    "    return_imputer (bool, optional): If True, returns a function that can apply the same imputation to another dataframe.\n",
    "    \n",
    "    Returns:\n",
    "    pd.DataFrame: Dataframe with imputed values\n",
    "    function (optional): A function that can be used to apply the same imputation to another dataframe\n",
    "    \"\"\"\n",
    "    df = df.copy()  # Avoid modifying the original dataframe\n",
    "    \n",
    "    # Identify categorical and numerical columns\n",
    "    cat_cols = df.select_dtypes(include=[\"object\", \"category\"]).columns\n",
    "    num_cols = df.select_dtypes(include=[\"number\"]).columns\n",
    "    \n",
    "    # Determine numerical imputation values\n",
    "    if num_impute_strategy == \"mean\":\n",
    "        num_impute_values = df[num_cols].mean()\n",
    "    else:\n",
    "        num_impute_values = df[num_cols].median()\n",
    "    \n",
    "    # Impute categorical columns\n",
    "    df[cat_cols] = df[cat_cols].fillna(cat_marker)\n",
    "    \n",
    "    # Impute numerical columns\n",
    "    for col in num_cols:\n",
    "        df[col] = df[col].fillna(num_impute_values[col])\n",
    "    \n",
    "    if return_imputer:\n",
    "        def imputer_function(new_df):\n",
    "            new_df = new_df.copy()\n",
    "            new_df[cat_cols] = new_df[cat_cols].fillna(cat_marker)\n",
    "            for col in num_cols:\n",
    "                new_df[col] = new_df[col].fillna(num_impute_values[col])\n",
    "            return new_df\n",
    "\n",
    "        imputer_object = {\n",
    "            'num_cols': num_cols,\n",
    "            'cat_cols': cat_cols,\n",
    "            'cat_marker': cat_marker,\n",
    "            'num_impute_values': num_impute_values\n",
    "        }\n",
    "        \n",
    "        return df, imputer_function, imputer_object\n",
    "    \n",
    "    return df"
   ]
  },
  {
   "cell_type": "markdown",
   "id": "002e944e-f533-4b1f-b415-2a40817d67d4",
   "metadata": {},
   "source": [
    "##### (WIP) Approach 2: More involved imputation by manually selecting how each feature should be imputed."
   ]
  },
  {
   "cell_type": "code",
   "execution_count": 23,
   "id": "248cb916-332e-4772-88a5-73b75570aaf8",
   "metadata": {},
   "outputs": [],
   "source": [
    "def involved_imputation(df):\n",
    "    features = loans.columns\n",
    "    na_features = [feature for feature in features if any(pd.isna(loans[feature]))]\n",
    "    print(len(na_features), '/', len(features), na_features)\n",
    "    for feature in na_features[:10]:\n",
    "        to_plot = loans[feature].copy()\n",
    "        plt.hist(to_plot)\n",
    "        # plt.yscale('log')\n",
    "        plt.title(feature)\n",
    "        plt.show()"
   ]
  },
  {
   "cell_type": "markdown",
   "id": "35d6f8fb-a537-4663-a867-cb7b8f3d11ec",
   "metadata": {},
   "source": [
    "##### Choose an imputation approach"
   ]
  },
  {
   "cell_type": "code",
   "execution_count": 24,
   "id": "316d2b05-d226-4e6e-beab-f674a12db5f7",
   "metadata": {},
   "outputs": [],
   "source": [
    "def impute(X, **kwargs):\n",
    "    print('Imputing features...')\n",
    "    return better_imputation(X, **kwargs)"
   ]
  },
  {
   "cell_type": "markdown",
   "id": "42ddd11d-2393-4263-805a-5cdccfcb7b1d",
   "metadata": {},
   "source": [
    "#### Convert text features into numerical ones"
   ]
  },
  {
   "cell_type": "code",
   "execution_count": 25,
   "id": "c3bee2f1-8edd-4309-b42e-21187c7dfa5e",
   "metadata": {},
   "outputs": [],
   "source": [
    "non_na_categorical_features = [\n",
    "    'term',\n",
    "    'home_ownership',\n",
    "    'verification_status',\n",
    "    'purpose',\n",
    "    'application_type'\n",
    "]\n",
    "\n",
    "na_categorical_features = ['verification_status_joint']\n",
    "\n",
    "def get_employment_years(years_string):\n",
    "        if type(years_string) is not str:\n",
    "            return years_string\n",
    "    \n",
    "        if '<' in years_string:\n",
    "            return 0\n",
    "        \n",
    "        if '10' in years_string:\n",
    "            return 10\n",
    "        \n",
    "        return int(years_string[0])\n",
    "\n",
    "def convert_text_features_to_numerical(loans_orig: pd.DataFrame, in_place=False):\n",
    "    loans = loans_orig if in_place else loans_orig.copy()\n",
    "\n",
    "    # Impute categorical features by using dummy variables\n",
    "    dummies_for_non_na_categorical_features = pd.get_dummies(loans[non_na_categorical_features], dtype='float64', drop_first=True)\n",
    "    dummies_for_na_categorical_features = pd.get_dummies(loans[na_categorical_features], dtype='float64', drop_first=True, dummy_na=True)\n",
    "    \n",
    "    loans = pd.concat([\n",
    "        loans.drop(non_na_categorical_features + na_categorical_features, axis=1),\n",
    "        dummies_for_non_na_categorical_features,\n",
    "        dummies_for_na_categorical_features\n",
    "    ], axis=1)\n",
    "    \n",
    "    # Convert dates of the format Mon-Year to just an integer representing the year\n",
    "    map_datestr_to_year = lambda x: int(x[-4:]) if type(x) is str else x\n",
    "    loans['earliest_cr_line'] = loans['earliest_cr_line'].map(map_datestr_to_year)\n",
    "    loans['sec_app_earliest_cr_line'] = loans['sec_app_earliest_cr_line'].map(map_datestr_to_year)\n",
    "\n",
    "    # Convert the emp_length string to a number representing the number of employment years.\n",
    "    loans['emp_length'] = loans['emp_length'].map(get_employment_years)\n",
    "\n",
    "    return loans"
   ]
  },
  {
   "cell_type": "markdown",
   "id": "a1cb5a71-3a32-4f2c-9094-56b7c483f370",
   "metadata": {},
   "source": [
    "#### Feature scaling"
   ]
  },
  {
   "cell_type": "code",
   "execution_count": 26,
   "id": "f80421c0-1d92-477f-8f14-6c2fe9836940",
   "metadata": {},
   "outputs": [],
   "source": [
    "def scale_robustly(X_unscaled, return_scaler=False):\n",
    "    \"\"\"\n",
    "    Scales numerical features using RobustScaler to handle outliers.\n",
    "    \n",
    "    Parameters:\n",
    "    X_unscaled (pd.DataFrame): Dataframe containing numerical features to be scaled.\n",
    "    return_scaler_function (bool, optional): If True, returns a function that can apply the same transformation to new data.\n",
    "    \n",
    "    Returns:\n",
    "    pd.DataFrame: Scaled dataframe.\n",
    "    function (optional): A function that can be used to apply the same scaling to another dataframe.\n",
    "    \"\"\"\n",
    "    robust_scaler = RobustScaler()\n",
    "    X_scaled = pd.DataFrame(robust_scaler.fit_transform(X_unscaled), \n",
    "                            columns=X_unscaled.columns, \n",
    "                            index=X_unscaled.index)\n",
    "    \n",
    "    if return_scaler:\n",
    "        def scaler_function(new_X):\n",
    "            return pd.DataFrame(robust_scaler.transform(new_X), \n",
    "                                columns=new_X.columns,\n",
    "                               index=new_X.index)\n",
    "\n",
    "        return X_scaled, scaler_function, robust_scaler\n",
    "    \n",
    "    return X_scaled"
   ]
  },
  {
   "cell_type": "markdown",
   "id": "f40cb4c0-67be-43e9-a5a5-cef0e312ee5b",
   "metadata": {},
   "source": [
    "##### Choose a scaling approach"
   ]
  },
  {
   "cell_type": "code",
   "execution_count": 27,
   "id": "422ffcbf-8109-4b8c-89cf-19a6994ce39a",
   "metadata": {},
   "outputs": [],
   "source": [
    "def scale(X_train, **kwargs):\n",
    "    print('Scaling features...')\n",
    "    return scale_robustly(X_train, **kwargs)"
   ]
  },
  {
   "cell_type": "markdown",
   "id": "f0f26951-b729-4466-be5f-b155bfef4235",
   "metadata": {},
   "source": [
    "#### Deal with class imbalance "
   ]
  },
  {
   "cell_type": "code",
   "execution_count": 28,
   "id": "0645cc87-1d03-4b06-9c47-b8e76cbeadf3",
   "metadata": {},
   "outputs": [],
   "source": [
    "# Some variables used in all of the following approaches\n",
    "def imbalanced_classes_parameters(y_imbalanced):\n",
    "    class_sizes = [len(y_imbalanced[y_imbalanced == i])for i in range(2)]\n",
    "    size_difference = abs(class_sizes[0] - class_sizes[1])\n",
    "    minority_class = np.argmin(class_sizes)\n",
    "    majority_class = 1 - minority_class\n",
    "\n",
    "    return class_sizes, size_difference, minority_class, majority_class"
   ]
  },
  {
   "cell_type": "markdown",
   "id": "6a770393-d25f-48e3-92cd-0cac4179c193",
   "metadata": {},
   "source": [
    "##### Approach 1: Oversampling the minority class"
   ]
  },
  {
   "cell_type": "code",
   "execution_count": 29,
   "id": "4b824fe8-5331-48ed-9c96-d23a1706ef3b",
   "metadata": {},
   "outputs": [],
   "source": [
    "# 1.1 Duplicate examples from the minority class, until sizes of both classes match\n",
    "def duplicate_minority_class(X_imbalanced, y_imbalanced):\n",
    "    class_sizes, size_difference, minority_class, majority_class = imbalanced_classes_parameters(y_imbalanced)\n",
    "    \n",
    "    index_to_resample = y_imbalanced == minority_class\n",
    "    upsampled_minority_class = X_imbalanced[index_to_resample].sample(n=size_difference,  replace=True)\n",
    "    upsampled_minority_labels = y_imbalanced[upsampled_minority_class.index]\n",
    "    X = pd.concat([X_imbalanced, upsampled_minority_class])\n",
    "    y = pd.concat([y_imbalanced, upsampled_minority_labels])\n",
    "    \n",
    "    X = X.reset_index(drop=True)\n",
    "    y = y.reset_index(drop=True)\n",
    "    reshuffled_index = np.random.permutation(X.index)\n",
    "    X = X.reindex(reshuffled_index)\n",
    "    y = y.reindex(reshuffled_index)\n",
    "    return X, y"
   ]
  },
  {
   "cell_type": "code",
   "execution_count": 30,
   "id": "36b24d1b-21f4-4b3d-89a2-26bf872a3eb8",
   "metadata": {},
   "outputs": [],
   "source": [
    "# 1.2 SMOTE (Create synthetic samples by interpolating between existing minority samples)\n",
    "# https://arxiv.org/pdf/1106.1813\n",
    "# Note: This might take several minutes.\n",
    "def get_categorical_features(X):\n",
    "    base_categorical_features = non_na_categorical_features + na_categorical_features + ['race']\n",
    "    categorical_features = [\n",
    "        column for column in X.columns\n",
    "        if any(\n",
    "            column.startswith(base_categorical_feature) \n",
    "            for base_categorical_feature in base_categorical_features\n",
    "        )\n",
    "    ]\n",
    "\n",
    "    return categorical_features\n",
    "\n",
    "def generate_synthetic_datapoints(row_index, neighbor_indices, samples, n_samples, categorical_features):\n",
    "    s = time.time()\n",
    "    row = samples.iloc[row_index]\n",
    "    neighbor_indices = np.random.choice(neighbor_indices, n_samples)\n",
    "    neighbors = samples.iloc[neighbor_indices]\n",
    "\n",
    "    generated_samples = []\n",
    "    for index, neighbor in neighbors.iterrows():\n",
    "        alpha = random.random()\n",
    "        new_sample = (1 - alpha) * row + alpha * neighbor\n",
    "\n",
    "        categorical_choices = np.array([row[categorical_features], neighbor[categorical_features]])\n",
    "        categorical_indices = np.random.randint(0, 2, size=len(categorical_features))\n",
    "        new_sample[categorical_features] = categorical_choices[categorical_indices, np.arange(len(categorical_features))]\n",
    "        generated_samples.append(new_sample)\n",
    "        \n",
    "    e = time.time()\n",
    "    return generated_samples\n",
    "\n",
    "def smote(X_imbalanced, y_imbalanced, k=5):\n",
    "    class_sizes, size_difference, minority_class, majority_class = imbalanced_classes_parameters(y_imbalanced)\n",
    "    categorical_features = get_categorical_features(X_imbalanced)\n",
    "    index_to_resample = y_imbalanced == minority_class\n",
    "    minority_samples = X_imbalanced[index_to_resample]\n",
    "    \n",
    "    smote_n = int(np.round(size_difference / class_sizes[minority_class]))\n",
    "    synthetic_samples = []\n",
    "\n",
    "    nearest_neighbors = NearestNeighbors(n_neighbors=k)\n",
    "    nearest_neighbors.fit(minority_samples)\n",
    "\n",
    "    neighbor_indices_per_row = nearest_neighbors.kneighbors(minority_samples, n_neighbors=k+1, return_distance=False)\n",
    "    for neighbor_indices in neighbor_indices_per_row:\n",
    "        generated_datapoints = generate_synthetic_datapoints(\n",
    "            neighbor_indices[0],\n",
    "            neighbor_indices[1:],\n",
    "            minority_samples,\n",
    "            smote_n,\n",
    "            categorical_features\n",
    "        )\n",
    "\n",
    "        \n",
    "        synthetic_samples.extend(generated_datapoints)\n",
    "\n",
    "    synthetic_labels = pd.Series([minority_class] * len(synthetic_samples))\n",
    "    y = pd.concat([y_imbalanced, synthetic_labels])\n",
    "    synthetic_samples_df = pd.DataFrame(synthetic_samples)\n",
    "    X = pd.concat([X_imbalanced, synthetic_samples_df])\n",
    "\n",
    "    X = X.reset_index(drop=True)\n",
    "    y = y.reset_index(drop=True)\n",
    "    reshuffled_index = np.random.permutation(X.index)\n",
    "    X = X.reindex(reshuffled_index)\n",
    "    y = y.reindex(reshuffled_index)\n",
    "    return X, y"
   ]
  },
  {
   "cell_type": "code",
   "execution_count": 31,
   "id": "6ea1ede6-04a6-418b-bf25-e54ef64ab783",
   "metadata": {},
   "outputs": [],
   "source": [
    "from imblearn.over_sampling import ADASYN\n",
    "\n",
    "# 1.3 ADASYN (Adaptive synthetic sampling)\n",
    "# https://ieeexplore.ieee.org/document/4633969\n",
    "def adasyn_auto(X_imbalanced, y_imbalanced, k=5):\n",
    "    adasyn = ADASYN(n_neighbors=5)\n",
    "    X, y = adasyn.fit_resample(X_imbalanced, y_imbalanced)\n",
    "    return X, y"
   ]
  },
  {
   "cell_type": "markdown",
   "id": "54806c41-b91f-4bed-b878-534a9a2e2d8e",
   "metadata": {},
   "source": [
    "##### Approach 2: Undersampling the majority class"
   ]
  },
  {
   "cell_type": "code",
   "execution_count": 32,
   "id": "3cff3edf-21bb-4f9b-adf4-4404b572e524",
   "metadata": {},
   "outputs": [],
   "source": [
    "# 2.1 Random undersampling (Select a random sample of the majority class, such that the sizes of both classes match)\n",
    "def random_undersampling(X_imbalanced, y_imbalanced):\n",
    "    class_sizes, size_difference, minority_class, majority_class = imbalanced_classes_parameters(y_imbalanced)\n",
    "    \n",
    "    index_to_resample = y_imbalanced == majority_class\n",
    "    undersampled_majority_class = X_imbalanced[index_to_resample].sample(n=class_sizes[majority_class])\n",
    "    undersampled_majority_labels = y_imbalanced[undersampled_majority_class.index]\n",
    "\n",
    "    minority_class_labels = y_imbalanced[y_imbalanced == minority_class]\n",
    "    minority_class = X_imbalanced[y_imbalanced == minority_class]\n",
    "    \n",
    "    X = pd.concat([undersampled_majority_class, minority_class])\n",
    "    y = pd.concat([undersampled_majority_labels, minority_class_labels])\n",
    "    \n",
    "    X = X.reset_index(drop=True)\n",
    "    y = y.reset_index(drop=True)\n",
    "    reshuffled_index = np.random.permutation(X.index)\n",
    "    X = X.reindex(reshuffled_index)\n",
    "    y = y.reindex(reshuffled_index)\n",
    "    return X, y"
   ]
  },
  {
   "cell_type": "code",
   "execution_count": 33,
   "id": "23f9da67-d0df-445a-aefd-275ade52f861",
   "metadata": {},
   "outputs": [],
   "source": [
    "# 2.2 Tomek Links\n",
    "# https://towardsdatascience.com/imbalanced-classification-in-python-smote-tomek-links-method-6e48dfe69bbc\n",
    "def tomek_links_auto(X_imbalanced, y_imbalanced):\n",
    "    tl = TomekLinks()\n",
    "    X, y = tl.fit_resample(X_imbalanced, y_imbalanced)\n",
    "    return X, y"
   ]
  },
  {
   "cell_type": "markdown",
   "id": "cb5619b9-02b2-45af-887c-816f9a5adb16",
   "metadata": {},
   "source": [
    "##### Approach 3: Loss function class weighing"
   ]
  },
  {
   "cell_type": "code",
   "execution_count": 34,
   "id": "3a3c8f4e-b2e7-47fc-9fae-b2b1e4b7c1ea",
   "metadata": {},
   "outputs": [],
   "source": [
    "# 3.1 Balance the penalties for miscalissification based on class sizes\n",
    "class_weight = 'balanced'"
   ]
  },
  {
   "cell_type": "markdown",
   "id": "a123fdb0-27ae-4afa-8a14-a91dfe7efa43",
   "metadata": {},
   "source": [
    "##### Choosing a class balancing approach"
   ]
  },
  {
   "cell_type": "code",
   "execution_count": 35,
   "id": "c8eee02c-0cc6-468b-be70-3554d3205936",
   "metadata": {},
   "outputs": [],
   "source": [
    "def balance_classes(X_imbalanced, y_imbalanced):\n",
    "    print('Balancing classes...')\n",
    "    return duplicate_minority_class(X_imbalanced, y_imbalanced)"
   ]
  },
  {
   "cell_type": "markdown",
   "id": "f4fb05e7-5876-4937-8f11-a6bd4414676c",
   "metadata": {},
   "source": [
    "### Feature selection"
   ]
  },
  {
   "cell_type": "code",
   "execution_count": 36,
   "id": "81525bfc-2ba1-4ddf-9e61-7f18cb0f676f",
   "metadata": {},
   "outputs": [],
   "source": [
    "random_state = 42\n",
    "\n",
    "X = loans.loc[:, loans.columns != 'loan_status']\n",
    "X = convert_text_features_to_numerical(X)\n",
    "\n",
    "# Convert the indicator variable into a numerical one. These are the 2 classes we want to predict\n",
    "map_loan_status = lambda x: 1 if x == 'Fully Paid' else 0\n",
    "y = loans['loan_status'].map(map_loan_status)"
   ]
  },
  {
   "cell_type": "code",
   "execution_count": 36,
   "id": "18ec4cc7-58c8-4346-af43-3997f35ac926",
   "metadata": {
    "scrolled": true
   },
   "outputs": [
    {
     "name": "stdout",
     "output_type": "stream",
     "text": [
      "Imputing features...\n",
      "Scaling features...\n",
      "Balancing classes...\n",
      "Balancing took 3.393296718597412 seconds.\n"
     ]
    },
    {
     "name": "stderr",
     "output_type": "stream",
     "text": [
      "Traceback (most recent call last):\n",
      "  File \"/opt/conda/lib/python3.10/site-packages/joblib/externals/loky/backend/resource_tracker.py\", line 281, in main\n",
      "    registry[rtype][name] -= 1\n",
      "KeyError: '/tmp/joblib_memmapping_folder_778_1d39485806494a47afb9749d135dd75e_9ccebafb6b5046f5b4d0af2fca7e308f/778-139737675048864-761445e6a0404c44a404e35752d2a0a6.pkl'\n",
      "Traceback (most recent call last):\n",
      "  File \"/opt/conda/lib/python3.10/site-packages/joblib/externals/loky/backend/resource_tracker.py\", line 281, in main\n",
      "    registry[rtype][name] -= 1\n",
      "KeyError: '/tmp/joblib_memmapping_folder_778_1d39485806494a47afb9749d135dd75e_9ccebafb6b5046f5b4d0af2fca7e308f/778-139737675048864-dcacf0d928224881b8a9fbf0505834e7.pkl'\n",
      "Traceback (most recent call last):\n",
      "  File \"/opt/conda/lib/python3.10/site-packages/joblib/externals/loky/backend/resource_tracker.py\", line 281, in main\n",
      "    registry[rtype][name] -= 1\n",
      "KeyError: '/tmp/joblib_memmapping_folder_778_1d39485806494a47afb9749d135dd75e_9ccebafb6b5046f5b4d0af2fca7e308f/778-139737675048864-d09158a3454d478592136571c21f4889.pkl'\n",
      "Traceback (most recent call last):\n",
      "  File \"/opt/conda/lib/python3.10/site-packages/joblib/externals/loky/backend/resource_tracker.py\", line 281, in main\n",
      "    registry[rtype][name] -= 1\n",
      "KeyError: '/tmp/joblib_memmapping_folder_778_1d39485806494a47afb9749d135dd75e_9ccebafb6b5046f5b4d0af2fca7e308f/778-139737675048864-16a8a342357743b1915f11322ec95cc5.pkl'\n",
      "\n",
      "KeyboardInterrupt\n",
      "\n"
     ]
    }
   ],
   "source": [
    "def feature_selection(X, y):\n",
    "    def rfecv(estimator, X, y, dummy=False):\n",
    "        if dummy:\n",
    "            return X.columns\n",
    "    \n",
    "        selector = RFECV(estimator, n_jobs=-1)\n",
    "        s = time.time()\n",
    "        selector = selector.fit(X, y)\n",
    "        print(f\"RFECV took {time.time() - s} seconds.\") \n",
    "        return selector.get_feature_names_out(X.columns)\n",
    "    \n",
    "    # Avoid modifying the original X and y\n",
    "    X = X.copy()\n",
    "    y = y.copy()\n",
    "    \n",
    "    X = impute(X) \n",
    "    X = scale(X)\n",
    "    s = time.time()\n",
    "    X, y = balance_classes(X, y)\n",
    "    print(f\"Balancing took {time.time() - s} seconds.\")\n",
    "    logistic_regression_model = LogisticRegression(penalty='l2', class_weight=class_weight, random_state=random_state)\n",
    "    features_for_linear_regression = rfecv(logistic_regression_model, X, y)\n",
    "    print(features_for_linear_regression)\n",
    "\n",
    "feature_selection(X, y)"
   ]
  },
  {
   "cell_type": "code",
   "execution_count": 37,
   "id": "1e4e9d27-9d3f-491d-bc0f-c575254f6252",
   "metadata": {},
   "outputs": [],
   "source": [
    "# These were selected by RFECV\n",
    "linear_regression_features = [\n",
    " 'loan_amnt','int_rate','emp_length','annual_inc', 'dti','delinq_2yrs',\n",
    " 'earliest_cr_line', 'fico_range_low', 'fico_range_high', 'inq_last_6mths',\n",
    " 'open_acc', 'pub_rec', 'revol_bal', 'total_acc', 'collections_12_mths_ex_med',\n",
    " 'dti_joint', 'acc_now_delinq', 'open_acc_6m', 'open_il_12m', 'open_il_24m',\n",
    " 'open_rv_12m', 'open_rv_24m', 'inq_fi', 'inq_last_12m',\n",
    " 'acc_open_past_24mths', 'avg_cur_bal', 'bc_open_to_buy', 'bc_util',\n",
    " 'chargeoff_within_12_mths', 'mo_sin_old_rev_tl_op', 'mo_sin_rcnt_rev_tl_op',\n",
    " 'mort_acc', 'mths_since_recent_bc', 'mths_since_recent_inq',\n",
    " 'num_actv_rev_tl', 'num_bc_sats', 'num_op_rev_tl', 'num_rev_accts',\n",
    " 'num_rev_tl_bal_gt_0', 'num_tl_120dpd_2m', 'num_tl_90g_dpd_24m',\n",
    " 'num_tl_op_past_12m', 'pct_tl_nvr_dlq', 'percent_bc_gt_75',\n",
    " 'pub_rec_bankruptcies', 'tax_liens', 'tot_hi_cred_lim', 'total_bal_ex_mort',\n",
    " 'total_bc_limit', 'total_il_high_credit_limit', 'sec_app_fico_range_low',\n",
    " 'sec_app_earliest_cr_line', 'sec_app_inq_last_6mths', 'sec_app_mort_acc',\n",
    " 'sec_app_chargeoff_within_12_mths', 'sec_app_collections_12_mths_ex_med',\n",
    " 'race_american_indian', 'race_asian', 'race_black', 'race_latino',\n",
    " 'race_other', 'race_white', 'education_College degree',\n",
    " 'education_GED/High school', 'education_None', 'term_ 60 months',\n",
    " 'home_ownership_MORTGAGE', 'home_ownership_OWN', 'home_ownership_RENT',\n",
    " 'verification_status_Source Verified', 'verification_status_Verified',\n",
    " 'purpose_credit_card', 'purpose_debt_consolidation', 'purpose_educational',\n",
    " 'purpose_house', 'purpose_major_purchase', 'purpose_medical',\n",
    " 'purpose_moving', 'purpose_other', 'purpose_small_business',\n",
    " 'purpose_vacation', 'purpose_wedding', 'application_type_Joint App',\n",
    " 'verification_status_joint_Source Verified',\n",
    " 'verification_status_joint_Verified', 'verification_status_joint_nan'\n",
    "]"
   ]
  },
  {
   "cell_type": "markdown",
   "id": "5d0ba0a4-a9aa-43bc-b301-4f0fbcfe3e02",
   "metadata": {},
   "source": [
    "### Model training and evaluation"
   ]
  },
  {
   "cell_type": "code",
   "execution_count": 37,
   "id": "976c58bb-5eb5-4411-b4b7-24b9e76c30cb",
   "metadata": {},
   "outputs": [],
   "source": [
    "def preprocess_data(X_train, X_test, y_train, y_test, features_to_use=None):\n",
    "    X_train, imputer_fn, _ = impute(X_train, return_imputer=True)\n",
    "    X_test = imputer_fn(X_test)\n",
    "    X_train, scaler_fn, _ = scale(X_train, return_scaler=True)\n",
    "    X_test = scaler_fn(X_test)\n",
    "    X_train, y_train = balance_classes(X_train, y_train)\n",
    "    print(\"Classes after balancing:\")\n",
    "    print(y_train.value_counts())\n",
    "\n",
    "    if features_to_use:\n",
    "        return X_train[features_to_use], X_test[features_to_use], y_train, y_test\n",
    "\n",
    "    return X_train, X_test, y_train, y_test\n",
    "\n",
    "def train_pred_model(X_train, y_train, X_test, model, model_name):\n",
    "    # Fit model\n",
    "    print(\"Fitting model...\")\n",
    "    model.fit(X_train, y_train)\n",
    "\n",
    "    # Predict test data\n",
    "    y_pred = model.predict(X_test)\n",
    "    return y_pred\n",
    "\n",
    "def eval_model(y_true, y_pred):\n",
    "    accuracy = accuracy_score(y_true, y_pred)\n",
    "    conf_matrix = confusion_matrix(y_true, y_pred)\n",
    "    report = classification_report(y_true, y_pred)\n",
    "    \n",
    "    print(accuracy)\n",
    "    print(conf_matrix)\n",
    "    print(report)"
   ]
  },
  {
   "cell_type": "code",
   "execution_count": 38,
   "id": "578ee1a5-1120-4964-a019-81dfba0d8fad",
   "metadata": {},
   "outputs": [],
   "source": [
    "models = {\n",
    "    'Logistic Regression': LogisticRegression(penalty='l2', solver='liblinear', class_weight=class_weight, random_state=random_state, n_jobs=-1),\n",
    "    # 'Decision Tree': DecisionTreeClassifier(class_weight=class_weight, random_state=random_state),\n",
    "    # 'Random Forest': RandomForestClassifier(class_weight=class_weight, random_state=random_state, n_jobs=-1),\n",
    "    # 'AdaBoost': AdaBoostClassifier(random_state=random_state),\n",
    "    # 'XGBoost': XGBClassifier(random_state=random_state, use_label_encoder=False, n_jobs=-1),\n",
    "    # 'KNeighbors': KNeighborsClassifier(n_jobs=-1),\n",
    "    # 'MLP': MLPClassifier(hidden_layer_sizes=[100, 100, 100], random_state=random_state)\n",
    "}"
   ]
  },
  {
   "cell_type": "code",
   "execution_count": 39,
   "id": "1f886724-0306-4133-bfc6-de7474b80f88",
   "metadata": {
    "scrolled": true
   },
   "outputs": [
    {
     "name": "stdout",
     "output_type": "stream",
     "text": [
      "Training Logistic Regression\n",
      "Split 0\n",
      "Imputing features...\n",
      "Scaling features...\n",
      "Balancing classes...\n",
      "Classes after balancing:\n",
      "loan_status\n",
      "1    861880\n",
      "0    861880\n",
      "Name: count, dtype: int64\n",
      "Fitting model...\n"
     ]
    },
    {
     "name": "stderr",
     "output_type": "stream",
     "text": [
      "/opt/conda/lib/python3.10/site-packages/sklearn/linear_model/_logistic.py:1271: UserWarning: 'n_jobs' > 1 does not have any effect when 'solver' is set to 'liblinear'. Got 'n_jobs' = 8.\n",
      "  warnings.warn(\n"
     ]
    },
    {
     "ename": "KeyboardInterrupt",
     "evalue": "",
     "output_type": "error",
     "traceback": [
      "\u001b[0;31m---------------------------------------------------------------------------\u001b[0m",
      "\u001b[0;31mKeyboardInterrupt\u001b[0m                         Traceback (most recent call last)",
      "Cell \u001b[0;32mIn[39], line 13\u001b[0m\n\u001b[1;32m     11\u001b[0m y_train, y_test \u001b[38;5;241m=\u001b[39m y\u001b[38;5;241m.\u001b[39miloc[train_index], y\u001b[38;5;241m.\u001b[39miloc[test_index]\n\u001b[1;32m     12\u001b[0m X_train, X_test, y_train, y_test \u001b[38;5;241m=\u001b[39m preprocess_data(X_train, X_test, y_train, y_test)\n\u001b[0;32m---> 13\u001b[0m y_pred \u001b[38;5;241m=\u001b[39m \u001b[43mtrain_pred_model\u001b[49m\u001b[43m(\u001b[49m\u001b[43mX_train\u001b[49m\u001b[43m,\u001b[49m\u001b[43m \u001b[49m\u001b[43my_train\u001b[49m\u001b[43m,\u001b[49m\u001b[43m \u001b[49m\u001b[43mX_test\u001b[49m\u001b[43m,\u001b[49m\u001b[43m \u001b[49m\u001b[43mmodel\u001b[49m\u001b[43m,\u001b[49m\u001b[43m \u001b[49m\u001b[43mname\u001b[49m\u001b[43m)\u001b[49m\n\u001b[1;32m     15\u001b[0m y_test_combined\u001b[38;5;241m.\u001b[39mextend(\u001b[38;5;28mlist\u001b[39m(y_test))\n\u001b[1;32m     16\u001b[0m y_pred_combined\u001b[38;5;241m.\u001b[39mextend(\u001b[38;5;28mlist\u001b[39m(y_pred))\n",
      "Cell \u001b[0;32mIn[37], line 18\u001b[0m, in \u001b[0;36mtrain_pred_model\u001b[0;34m(X_train, y_train, X_test, model, model_name)\u001b[0m\n\u001b[1;32m     15\u001b[0m \u001b[38;5;28;01mdef\u001b[39;00m \u001b[38;5;21mtrain_pred_model\u001b[39m(X_train, y_train, X_test, model, model_name):\n\u001b[1;32m     16\u001b[0m     \u001b[38;5;66;03m# Fit model\u001b[39;00m\n\u001b[1;32m     17\u001b[0m     \u001b[38;5;28mprint\u001b[39m(\u001b[38;5;124m\"\u001b[39m\u001b[38;5;124mFitting model...\u001b[39m\u001b[38;5;124m\"\u001b[39m)\n\u001b[0;32m---> 18\u001b[0m     \u001b[43mmodel\u001b[49m\u001b[38;5;241;43m.\u001b[39;49m\u001b[43mfit\u001b[49m\u001b[43m(\u001b[49m\u001b[43mX_train\u001b[49m\u001b[43m,\u001b[49m\u001b[43m \u001b[49m\u001b[43my_train\u001b[49m\u001b[43m)\u001b[49m\n\u001b[1;32m     20\u001b[0m     \u001b[38;5;66;03m# Predict test data\u001b[39;00m\n\u001b[1;32m     21\u001b[0m     y_pred \u001b[38;5;241m=\u001b[39m model\u001b[38;5;241m.\u001b[39mpredict(X_test)\n",
      "File \u001b[0;32m/opt/conda/lib/python3.10/site-packages/sklearn/base.py:1389\u001b[0m, in \u001b[0;36m_fit_context.<locals>.decorator.<locals>.wrapper\u001b[0;34m(estimator, *args, **kwargs)\u001b[0m\n\u001b[1;32m   1382\u001b[0m     estimator\u001b[38;5;241m.\u001b[39m_validate_params()\n\u001b[1;32m   1384\u001b[0m \u001b[38;5;28;01mwith\u001b[39;00m config_context(\n\u001b[1;32m   1385\u001b[0m     skip_parameter_validation\u001b[38;5;241m=\u001b[39m(\n\u001b[1;32m   1386\u001b[0m         prefer_skip_nested_validation \u001b[38;5;129;01mor\u001b[39;00m global_skip_validation\n\u001b[1;32m   1387\u001b[0m     )\n\u001b[1;32m   1388\u001b[0m ):\n\u001b[0;32m-> 1389\u001b[0m     \u001b[38;5;28;01mreturn\u001b[39;00m \u001b[43mfit_method\u001b[49m\u001b[43m(\u001b[49m\u001b[43mestimator\u001b[49m\u001b[43m,\u001b[49m\u001b[43m \u001b[49m\u001b[38;5;241;43m*\u001b[39;49m\u001b[43margs\u001b[49m\u001b[43m,\u001b[49m\u001b[43m \u001b[49m\u001b[38;5;241;43m*\u001b[39;49m\u001b[38;5;241;43m*\u001b[39;49m\u001b[43mkwargs\u001b[49m\u001b[43m)\u001b[49m\n",
      "File \u001b[0;32m/opt/conda/lib/python3.10/site-packages/sklearn/linear_model/_logistic.py:1276\u001b[0m, in \u001b[0;36mLogisticRegression.fit\u001b[0;34m(self, X, y, sample_weight)\u001b[0m\n\u001b[1;32m   1270\u001b[0m     \u001b[38;5;28;01mif\u001b[39;00m effective_n_jobs(\u001b[38;5;28mself\u001b[39m\u001b[38;5;241m.\u001b[39mn_jobs) \u001b[38;5;241m!=\u001b[39m \u001b[38;5;241m1\u001b[39m:\n\u001b[1;32m   1271\u001b[0m         warnings\u001b[38;5;241m.\u001b[39mwarn(\n\u001b[1;32m   1272\u001b[0m             \u001b[38;5;124m\"\u001b[39m\u001b[38;5;124m'\u001b[39m\u001b[38;5;124mn_jobs\u001b[39m\u001b[38;5;124m'\u001b[39m\u001b[38;5;124m > 1 does not have any effect when\u001b[39m\u001b[38;5;124m\"\u001b[39m\n\u001b[1;32m   1273\u001b[0m             \u001b[38;5;124m\"\u001b[39m\u001b[38;5;124m \u001b[39m\u001b[38;5;124m'\u001b[39m\u001b[38;5;124msolver\u001b[39m\u001b[38;5;124m'\u001b[39m\u001b[38;5;124m is set to \u001b[39m\u001b[38;5;124m'\u001b[39m\u001b[38;5;124mliblinear\u001b[39m\u001b[38;5;124m'\u001b[39m\u001b[38;5;124m. Got \u001b[39m\u001b[38;5;124m'\u001b[39m\u001b[38;5;124mn_jobs\u001b[39m\u001b[38;5;124m'\u001b[39m\u001b[38;5;124m\"\u001b[39m\n\u001b[1;32m   1274\u001b[0m             \u001b[38;5;124m\"\u001b[39m\u001b[38;5;124m = \u001b[39m\u001b[38;5;132;01m{}\u001b[39;00m\u001b[38;5;124m.\u001b[39m\u001b[38;5;124m\"\u001b[39m\u001b[38;5;241m.\u001b[39mformat(effective_n_jobs(\u001b[38;5;28mself\u001b[39m\u001b[38;5;241m.\u001b[39mn_jobs))\n\u001b[1;32m   1275\u001b[0m         )\n\u001b[0;32m-> 1276\u001b[0m     \u001b[38;5;28mself\u001b[39m\u001b[38;5;241m.\u001b[39mcoef_, \u001b[38;5;28mself\u001b[39m\u001b[38;5;241m.\u001b[39mintercept_, \u001b[38;5;28mself\u001b[39m\u001b[38;5;241m.\u001b[39mn_iter_ \u001b[38;5;241m=\u001b[39m \u001b[43m_fit_liblinear\u001b[49m\u001b[43m(\u001b[49m\n\u001b[1;32m   1277\u001b[0m \u001b[43m        \u001b[49m\u001b[43mX\u001b[49m\u001b[43m,\u001b[49m\n\u001b[1;32m   1278\u001b[0m \u001b[43m        \u001b[49m\u001b[43my\u001b[49m\u001b[43m,\u001b[49m\n\u001b[1;32m   1279\u001b[0m \u001b[43m        \u001b[49m\u001b[38;5;28;43mself\u001b[39;49m\u001b[38;5;241;43m.\u001b[39;49m\u001b[43mC\u001b[49m\u001b[43m,\u001b[49m\n\u001b[1;32m   1280\u001b[0m \u001b[43m        \u001b[49m\u001b[38;5;28;43mself\u001b[39;49m\u001b[38;5;241;43m.\u001b[39;49m\u001b[43mfit_intercept\u001b[49m\u001b[43m,\u001b[49m\n\u001b[1;32m   1281\u001b[0m \u001b[43m        \u001b[49m\u001b[38;5;28;43mself\u001b[39;49m\u001b[38;5;241;43m.\u001b[39;49m\u001b[43mintercept_scaling\u001b[49m\u001b[43m,\u001b[49m\n\u001b[1;32m   1282\u001b[0m \u001b[43m        \u001b[49m\u001b[38;5;28;43mself\u001b[39;49m\u001b[38;5;241;43m.\u001b[39;49m\u001b[43mclass_weight\u001b[49m\u001b[43m,\u001b[49m\n\u001b[1;32m   1283\u001b[0m \u001b[43m        \u001b[49m\u001b[38;5;28;43mself\u001b[39;49m\u001b[38;5;241;43m.\u001b[39;49m\u001b[43mpenalty\u001b[49m\u001b[43m,\u001b[49m\n\u001b[1;32m   1284\u001b[0m \u001b[43m        \u001b[49m\u001b[38;5;28;43mself\u001b[39;49m\u001b[38;5;241;43m.\u001b[39;49m\u001b[43mdual\u001b[49m\u001b[43m,\u001b[49m\n\u001b[1;32m   1285\u001b[0m \u001b[43m        \u001b[49m\u001b[38;5;28;43mself\u001b[39;49m\u001b[38;5;241;43m.\u001b[39;49m\u001b[43mverbose\u001b[49m\u001b[43m,\u001b[49m\n\u001b[1;32m   1286\u001b[0m \u001b[43m        \u001b[49m\u001b[38;5;28;43mself\u001b[39;49m\u001b[38;5;241;43m.\u001b[39;49m\u001b[43mmax_iter\u001b[49m\u001b[43m,\u001b[49m\n\u001b[1;32m   1287\u001b[0m \u001b[43m        \u001b[49m\u001b[38;5;28;43mself\u001b[39;49m\u001b[38;5;241;43m.\u001b[39;49m\u001b[43mtol\u001b[49m\u001b[43m,\u001b[49m\n\u001b[1;32m   1288\u001b[0m \u001b[43m        \u001b[49m\u001b[38;5;28;43mself\u001b[39;49m\u001b[38;5;241;43m.\u001b[39;49m\u001b[43mrandom_state\u001b[49m\u001b[43m,\u001b[49m\n\u001b[1;32m   1289\u001b[0m \u001b[43m        \u001b[49m\u001b[43msample_weight\u001b[49m\u001b[38;5;241;43m=\u001b[39;49m\u001b[43msample_weight\u001b[49m\u001b[43m,\u001b[49m\n\u001b[1;32m   1290\u001b[0m \u001b[43m    \u001b[49m\u001b[43m)\u001b[49m\n\u001b[1;32m   1291\u001b[0m     \u001b[38;5;28;01mreturn\u001b[39;00m \u001b[38;5;28mself\u001b[39m\n\u001b[1;32m   1293\u001b[0m \u001b[38;5;28;01mif\u001b[39;00m solver \u001b[38;5;129;01min\u001b[39;00m [\u001b[38;5;124m\"\u001b[39m\u001b[38;5;124msag\u001b[39m\u001b[38;5;124m\"\u001b[39m, \u001b[38;5;124m\"\u001b[39m\u001b[38;5;124msaga\u001b[39m\u001b[38;5;124m\"\u001b[39m]:\n",
      "File \u001b[0;32m/opt/conda/lib/python3.10/site-packages/sklearn/svm/_base.py:1229\u001b[0m, in \u001b[0;36m_fit_liblinear\u001b[0;34m(X, y, C, fit_intercept, intercept_scaling, class_weight, penalty, dual, verbose, max_iter, tol, random_state, multi_class, loss, epsilon, sample_weight)\u001b[0m\n\u001b[1;32m   1226\u001b[0m sample_weight \u001b[38;5;241m=\u001b[39m _check_sample_weight(sample_weight, X, dtype\u001b[38;5;241m=\u001b[39mnp\u001b[38;5;241m.\u001b[39mfloat64)\n\u001b[1;32m   1228\u001b[0m solver_type \u001b[38;5;241m=\u001b[39m _get_liblinear_solver_type(multi_class, penalty, loss, dual)\n\u001b[0;32m-> 1229\u001b[0m raw_coef_, n_iter_ \u001b[38;5;241m=\u001b[39m \u001b[43mliblinear\u001b[49m\u001b[38;5;241;43m.\u001b[39;49m\u001b[43mtrain_wrap\u001b[49m\u001b[43m(\u001b[49m\n\u001b[1;32m   1230\u001b[0m \u001b[43m    \u001b[49m\u001b[43mX\u001b[49m\u001b[43m,\u001b[49m\n\u001b[1;32m   1231\u001b[0m \u001b[43m    \u001b[49m\u001b[43my_ind\u001b[49m\u001b[43m,\u001b[49m\n\u001b[1;32m   1232\u001b[0m \u001b[43m    \u001b[49m\u001b[43msp\u001b[49m\u001b[38;5;241;43m.\u001b[39;49m\u001b[43missparse\u001b[49m\u001b[43m(\u001b[49m\u001b[43mX\u001b[49m\u001b[43m)\u001b[49m\u001b[43m,\u001b[49m\n\u001b[1;32m   1233\u001b[0m \u001b[43m    \u001b[49m\u001b[43msolver_type\u001b[49m\u001b[43m,\u001b[49m\n\u001b[1;32m   1234\u001b[0m \u001b[43m    \u001b[49m\u001b[43mtol\u001b[49m\u001b[43m,\u001b[49m\n\u001b[1;32m   1235\u001b[0m \u001b[43m    \u001b[49m\u001b[43mbias\u001b[49m\u001b[43m,\u001b[49m\n\u001b[1;32m   1236\u001b[0m \u001b[43m    \u001b[49m\u001b[43mC\u001b[49m\u001b[43m,\u001b[49m\n\u001b[1;32m   1237\u001b[0m \u001b[43m    \u001b[49m\u001b[43mclass_weight_\u001b[49m\u001b[43m,\u001b[49m\n\u001b[1;32m   1238\u001b[0m \u001b[43m    \u001b[49m\u001b[43mmax_iter\u001b[49m\u001b[43m,\u001b[49m\n\u001b[1;32m   1239\u001b[0m \u001b[43m    \u001b[49m\u001b[43mrnd\u001b[49m\u001b[38;5;241;43m.\u001b[39;49m\u001b[43mrandint\u001b[49m\u001b[43m(\u001b[49m\u001b[43mnp\u001b[49m\u001b[38;5;241;43m.\u001b[39;49m\u001b[43miinfo\u001b[49m\u001b[43m(\u001b[49m\u001b[38;5;124;43m\"\u001b[39;49m\u001b[38;5;124;43mi\u001b[39;49m\u001b[38;5;124;43m\"\u001b[39;49m\u001b[43m)\u001b[49m\u001b[38;5;241;43m.\u001b[39;49m\u001b[43mmax\u001b[49m\u001b[43m)\u001b[49m\u001b[43m,\u001b[49m\n\u001b[1;32m   1240\u001b[0m \u001b[43m    \u001b[49m\u001b[43mepsilon\u001b[49m\u001b[43m,\u001b[49m\n\u001b[1;32m   1241\u001b[0m \u001b[43m    \u001b[49m\u001b[43msample_weight\u001b[49m\u001b[43m,\u001b[49m\n\u001b[1;32m   1242\u001b[0m \u001b[43m\u001b[49m\u001b[43m)\u001b[49m\n\u001b[1;32m   1243\u001b[0m \u001b[38;5;66;03m# Regarding rnd.randint(..) in the above signature:\u001b[39;00m\n\u001b[1;32m   1244\u001b[0m \u001b[38;5;66;03m# seed for srand in range [0..INT_MAX); due to limitations in Numpy\u001b[39;00m\n\u001b[1;32m   1245\u001b[0m \u001b[38;5;66;03m# on 32-bit platforms, we can't get to the UINT_MAX limit that\u001b[39;00m\n\u001b[1;32m   1246\u001b[0m \u001b[38;5;66;03m# srand supports\u001b[39;00m\n\u001b[1;32m   1247\u001b[0m n_iter_max \u001b[38;5;241m=\u001b[39m \u001b[38;5;28mmax\u001b[39m(n_iter_)\n",
      "\u001b[0;31mKeyboardInterrupt\u001b[0m: "
     ]
    }
   ],
   "source": [
    "k_fold = KFold(n_splits=5, shuffle=True, random_state=random_state)\n",
    "\n",
    "for name, model in models.items():\n",
    "    print(f\"Training {name}\")\n",
    "    \n",
    "    y_test_combined, y_pred_combined = [], []\n",
    "    for i, (train_index, test_index) in enumerate(k_fold.split(X)):\n",
    "        print(f\"Split {i}\")\n",
    "\n",
    "        X_train, X_test = X.iloc[train_index], X.iloc[test_index]\n",
    "        y_train, y_test = y.iloc[train_index], y.iloc[test_index]\n",
    "        X_train, X_test, y_train, y_test = preprocess_data(X_train, X_test, y_train, y_test)\n",
    "        y_pred = train_pred_model(X_train, y_train, X_test, model, name)\n",
    "\n",
    "        y_test_combined.extend(list(y_test))\n",
    "        y_pred_combined.extend(list(y_pred))\n",
    "        print(f\"Evaluation for split {i}\")\n",
    "        eval_model(y_test, y_pred)\n",
    "\n",
    "    print(f\"Evaluation for model {name}\")\n",
    "    eval_model(y_test_combined, y_pred_combined)"
   ]
  },
  {
   "cell_type": "markdown",
   "id": "04772ac2-b6f9-4fe1-aed4-cba8c00490d5",
   "metadata": {},
   "source": [
    "### Model Analysis"
   ]
  },
  {
   "cell_type": "code",
   "execution_count": 44,
   "id": "d1d6ad87-77bd-498d-b9ea-b1d771438749",
   "metadata": {},
   "outputs": [],
   "source": [
    "# Model Robustness and Generalization Analysis\n",
    "def evaluate_model(model, X, y, cv=5):\n",
    "    \"\"\"\n",
    "    Evaluate model performance using cross-validation.\n",
    "    \"\"\"\n",
    "    scores = cross_val_score(model, X, y, cv=cv, scoring='accuracy')\n",
    "    print(f\"Cross-Validation Accuracy: {scores.mean():.4f} ± {scores.std():.4f}\")\n",
    "    return scores\n",
    "\n",
    "# Learning Curve\n",
    "def plot_learning_curve(model, X, y, cv=5):\n",
    "    \"\"\"\n",
    "    Plot a learning curve to assess model generalization.\n",
    "    \"\"\"\n",
    "    train_sizes, train_scores, test_scores = learning_curve(model, X, y, cv=cv, scoring='accuracy')\n",
    "    \n",
    "    train_mean = np.mean(train_scores, axis=1)\n",
    "    test_mean = np.mean(test_scores, axis=1)\n",
    "    \n",
    "    plt.figure(figsize=(8, 6))\n",
    "    plt.plot(train_sizes, train_mean, label='Training Score', marker='o')\n",
    "    plt.plot(train_sizes, test_mean, label='Validation Score', marker='o')\n",
    "    plt.xlabel('Training Size')\n",
    "    plt.ylabel('Accuracy')\n",
    "    plt.title('Learning Curve')\n",
    "    plt.legend()\n",
    "    plt.show()\n",
    "\n",
    "# Feature Importance Analysis\n",
    "def plot_feature_importance(model, X, model_type='random_forest'):\n",
    "    \"\"\"\n",
    "    Plot feature importance for logistic regression, random forest, and MLP using SHAP.\n",
    "    \"\"\"\n",
    "    if model_type == 'random_forest':\n",
    "        importances = model.feature_importances_\n",
    "        indices = np.argsort(importances)[::-1]\n",
    "        plt.figure(figsize=(10, 6))\n",
    "        sns.barplot(x=X.columns[indices], y=importances[indices])\n",
    "        plt.xticks(rotation=90)\n",
    "        plt.title(\"Random Forest Feature Importance\")\n",
    "        plt.show()\n",
    "    \n",
    "    elif model_type == 'logistic_regression':\n",
    "        coefficients = model.coef_.flatten()\n",
    "        plt.figure(figsize=(10, 6))\n",
    "        sns.barplot(x=X.columns, y=coefficients)\n",
    "        plt.xticks(rotation=90)\n",
    "        plt.title(\"Logistic Regression Feature Coefficients\")\n",
    "        plt.show()\n",
    "    \n",
    "    elif model_type == 'mlp':\n",
    "        explainer = shap.Explainer(model, X)\n",
    "        shap_values = explainer(X)\n",
    "        shap.summary_plot(shap_values, X)\n",
    "    else:\n",
    "        print(\"Unsupported model type.\")"
   ]
  },
  {
   "cell_type": "code",
   "execution_count": 46,
   "id": "330e34dd-657c-4547-8598-0dba3cf649b3",
   "metadata": {},
   "outputs": [
    {
     "name": "stdout",
     "output_type": "stream",
     "text": [
      "Imputing features...\n",
      "Scaling features...\n",
      "Balancing classes...\n",
      "Classes after balancing:\n",
      "loan_status\n",
      "0    861880\n",
      "1    861880\n",
      "Name: count, dtype: int64\n"
     ]
    }
   ],
   "source": [
    "X_train, X_test, y_train, y_test = train_test_split(X, y, test_size=0.2, random_state=random_state)\n",
    "X_train_processed, X_test_processed, y_train_processed, y_test_processed = preprocess_data(X_train, X_test, y_train, y_test)"
   ]
  },
  {
   "cell_type": "code",
   "execution_count": 47,
   "id": "c721a9db-3fa3-4cf5-9258-aa66d88cb307",
   "metadata": {
    "scrolled": true
   },
   "outputs": [
    {
     "name": "stderr",
     "output_type": "stream",
     "text": [
      "/cluster/software/stacks/2024-05/python-cuda/3.11.6/lib/python3.11/site-packages/sklearn/linear_model/_logistic.py:1271: UserWarning: 'n_jobs' > 1 does not have any effect when 'solver' is set to 'liblinear'. Got 'n_jobs' = 32.\n",
      "  warnings.warn(\n",
      "/cluster/software/stacks/2024-05/python-cuda/3.11.6/lib/python3.11/site-packages/sklearn/linear_model/_logistic.py:1271: UserWarning: 'n_jobs' > 1 does not have any effect when 'solver' is set to 'liblinear'. Got 'n_jobs' = 32.\n",
      "  warnings.warn(\n",
      "/cluster/software/stacks/2024-05/python-cuda/3.11.6/lib/python3.11/site-packages/sklearn/linear_model/_logistic.py:1271: UserWarning: 'n_jobs' > 1 does not have any effect when 'solver' is set to 'liblinear'. Got 'n_jobs' = 32.\n",
      "  warnings.warn(\n",
      "/cluster/software/stacks/2024-05/python-cuda/3.11.6/lib/python3.11/site-packages/sklearn/linear_model/_logistic.py:1271: UserWarning: 'n_jobs' > 1 does not have any effect when 'solver' is set to 'liblinear'. Got 'n_jobs' = 32.\n",
      "  warnings.warn(\n",
      "/cluster/software/stacks/2024-05/python-cuda/3.11.6/lib/python3.11/site-packages/sklearn/linear_model/_logistic.py:1271: UserWarning: 'n_jobs' > 1 does not have any effect when 'solver' is set to 'liblinear'. Got 'n_jobs' = 32.\n",
      "  warnings.warn(\n",
      "/cluster/software/stacks/2024-05/python-cuda/3.11.6/lib/python3.11/site-packages/sklearn/svm/_base.py:1235: ConvergenceWarning: Liblinear failed to converge, increase the number of iterations.\n",
      "  warnings.warn(\n",
      "/cluster/software/stacks/2024-05/python-cuda/3.11.6/lib/python3.11/site-packages/sklearn/linear_model/_logistic.py:1271: UserWarning: 'n_jobs' > 1 does not have any effect when 'solver' is set to 'liblinear'. Got 'n_jobs' = 32.\n",
      "  warnings.warn(\n",
      "/cluster/software/stacks/2024-05/python-cuda/3.11.6/lib/python3.11/site-packages/sklearn/linear_model/_logistic.py:1271: UserWarning: 'n_jobs' > 1 does not have any effect when 'solver' is set to 'liblinear'. Got 'n_jobs' = 32.\n",
      "  warnings.warn(\n"
     ]
    },
    {
     "ename": "KeyboardInterrupt",
     "evalue": "",
     "output_type": "error",
     "traceback": [
      "\u001b[0;31m---------------------------------------------------------------------------\u001b[0m",
      "\u001b[0;31mKeyboardInterrupt\u001b[0m                         Traceback (most recent call last)",
      "Cell \u001b[0;32mIn[47], line 1\u001b[0m\n\u001b[0;32m----> 1\u001b[0m \u001b[43mplot_learning_curve\u001b[49m\u001b[43m(\u001b[49m\u001b[43mmodels\u001b[49m\u001b[43m[\u001b[49m\u001b[38;5;124;43m'\u001b[39;49m\u001b[38;5;124;43mLogistic Regression\u001b[39;49m\u001b[38;5;124;43m'\u001b[39;49m\u001b[43m]\u001b[49m\u001b[43m,\u001b[49m\u001b[43m \u001b[49m\u001b[43mX_train_processed\u001b[49m\u001b[43m,\u001b[49m\u001b[43m \u001b[49m\u001b[43my_train_processed\u001b[49m\u001b[43m)\u001b[49m\n",
      "Cell \u001b[0;32mIn[44], line 15\u001b[0m, in \u001b[0;36mplot_learning_curve\u001b[0;34m(model, X, y, cv)\u001b[0m\n\u001b[1;32m     11\u001b[0m \u001b[38;5;28;01mdef\u001b[39;00m \u001b[38;5;21mplot_learning_curve\u001b[39m(model, X, y, cv\u001b[38;5;241m=\u001b[39m\u001b[38;5;241m5\u001b[39m):\n\u001b[1;32m     12\u001b[0m \u001b[38;5;250m    \u001b[39m\u001b[38;5;124;03m\"\"\"\u001b[39;00m\n\u001b[1;32m     13\u001b[0m \u001b[38;5;124;03m    Plot a learning curve to assess model generalization.\u001b[39;00m\n\u001b[1;32m     14\u001b[0m \u001b[38;5;124;03m    \"\"\"\u001b[39;00m\n\u001b[0;32m---> 15\u001b[0m     train_sizes, train_scores, test_scores \u001b[38;5;241m=\u001b[39m \u001b[43mlearning_curve\u001b[49m\u001b[43m(\u001b[49m\u001b[43mmodel\u001b[49m\u001b[43m,\u001b[49m\u001b[43m \u001b[49m\u001b[43mX\u001b[49m\u001b[43m,\u001b[49m\u001b[43m \u001b[49m\u001b[43my\u001b[49m\u001b[43m,\u001b[49m\u001b[43m \u001b[49m\u001b[43mcv\u001b[49m\u001b[38;5;241;43m=\u001b[39;49m\u001b[43mcv\u001b[49m\u001b[43m,\u001b[49m\u001b[43m \u001b[49m\u001b[43mscoring\u001b[49m\u001b[38;5;241;43m=\u001b[39;49m\u001b[38;5;124;43m'\u001b[39;49m\u001b[38;5;124;43maccuracy\u001b[39;49m\u001b[38;5;124;43m'\u001b[39;49m\u001b[43m)\u001b[49m\n\u001b[1;32m     17\u001b[0m     train_mean \u001b[38;5;241m=\u001b[39m np\u001b[38;5;241m.\u001b[39mmean(train_scores, axis\u001b[38;5;241m=\u001b[39m\u001b[38;5;241m1\u001b[39m)\n\u001b[1;32m     18\u001b[0m     test_mean \u001b[38;5;241m=\u001b[39m np\u001b[38;5;241m.\u001b[39mmean(test_scores, axis\u001b[38;5;241m=\u001b[39m\u001b[38;5;241m1\u001b[39m)\n",
      "File \u001b[0;32m/cluster/software/stacks/2024-05/python-cuda/3.11.6/lib/python3.11/site-packages/sklearn/utils/_param_validation.py:213\u001b[0m, in \u001b[0;36mvalidate_params.<locals>.decorator.<locals>.wrapper\u001b[0;34m(*args, **kwargs)\u001b[0m\n\u001b[1;32m    207\u001b[0m \u001b[38;5;28;01mtry\u001b[39;00m:\n\u001b[1;32m    208\u001b[0m     \u001b[38;5;28;01mwith\u001b[39;00m config_context(\n\u001b[1;32m    209\u001b[0m         skip_parameter_validation\u001b[38;5;241m=\u001b[39m(\n\u001b[1;32m    210\u001b[0m             prefer_skip_nested_validation \u001b[38;5;129;01mor\u001b[39;00m global_skip_validation\n\u001b[1;32m    211\u001b[0m         )\n\u001b[1;32m    212\u001b[0m     ):\n\u001b[0;32m--> 213\u001b[0m         \u001b[38;5;28;01mreturn\u001b[39;00m \u001b[43mfunc\u001b[49m\u001b[43m(\u001b[49m\u001b[38;5;241;43m*\u001b[39;49m\u001b[43margs\u001b[49m\u001b[43m,\u001b[49m\u001b[43m \u001b[49m\u001b[38;5;241;43m*\u001b[39;49m\u001b[38;5;241;43m*\u001b[39;49m\u001b[43mkwargs\u001b[49m\u001b[43m)\u001b[49m\n\u001b[1;32m    214\u001b[0m \u001b[38;5;28;01mexcept\u001b[39;00m InvalidParameterError \u001b[38;5;28;01mas\u001b[39;00m e:\n\u001b[1;32m    215\u001b[0m     \u001b[38;5;66;03m# When the function is just a wrapper around an estimator, we allow\u001b[39;00m\n\u001b[1;32m    216\u001b[0m     \u001b[38;5;66;03m# the function to delegate validation to the estimator, but we replace\u001b[39;00m\n\u001b[1;32m    217\u001b[0m     \u001b[38;5;66;03m# the name of the estimator by the name of the function in the error\u001b[39;00m\n\u001b[1;32m    218\u001b[0m     \u001b[38;5;66;03m# message to avoid confusion.\u001b[39;00m\n\u001b[1;32m    219\u001b[0m     msg \u001b[38;5;241m=\u001b[39m re\u001b[38;5;241m.\u001b[39msub(\n\u001b[1;32m    220\u001b[0m         \u001b[38;5;124mr\u001b[39m\u001b[38;5;124m\"\u001b[39m\u001b[38;5;124mparameter of \u001b[39m\u001b[38;5;124m\\\u001b[39m\u001b[38;5;124mw+ must be\u001b[39m\u001b[38;5;124m\"\u001b[39m,\n\u001b[1;32m    221\u001b[0m         \u001b[38;5;124mf\u001b[39m\u001b[38;5;124m\"\u001b[39m\u001b[38;5;124mparameter of \u001b[39m\u001b[38;5;132;01m{\u001b[39;00mfunc\u001b[38;5;241m.\u001b[39m\u001b[38;5;18m__qualname__\u001b[39m\u001b[38;5;132;01m}\u001b[39;00m\u001b[38;5;124m must be\u001b[39m\u001b[38;5;124m\"\u001b[39m,\n\u001b[1;32m    222\u001b[0m         \u001b[38;5;28mstr\u001b[39m(e),\n\u001b[1;32m    223\u001b[0m     )\n",
      "File \u001b[0;32m/cluster/software/stacks/2024-05/python-cuda/3.11.6/lib/python3.11/site-packages/sklearn/model_selection/_validation.py:1954\u001b[0m, in \u001b[0;36mlearning_curve\u001b[0;34m(estimator, X, y, groups, train_sizes, cv, scoring, exploit_incremental_learning, n_jobs, pre_dispatch, verbose, shuffle, random_state, error_score, return_times, fit_params)\u001b[0m\n\u001b[1;32m   1951\u001b[0m     \u001b[38;5;28;01mfor\u001b[39;00m n_train_samples \u001b[38;5;129;01min\u001b[39;00m train_sizes_abs:\n\u001b[1;32m   1952\u001b[0m         train_test_proportions\u001b[38;5;241m.\u001b[39mappend((train[:n_train_samples], test))\n\u001b[0;32m-> 1954\u001b[0m results \u001b[38;5;241m=\u001b[39m \u001b[43mparallel\u001b[49m\u001b[43m(\u001b[49m\n\u001b[1;32m   1955\u001b[0m \u001b[43m    \u001b[49m\u001b[43mdelayed\u001b[49m\u001b[43m(\u001b[49m\u001b[43m_fit_and_score\u001b[49m\u001b[43m)\u001b[49m\u001b[43m(\u001b[49m\n\u001b[1;32m   1956\u001b[0m \u001b[43m        \u001b[49m\u001b[43mclone\u001b[49m\u001b[43m(\u001b[49m\u001b[43mestimator\u001b[49m\u001b[43m)\u001b[49m\u001b[43m,\u001b[49m\n\u001b[1;32m   1957\u001b[0m \u001b[43m        \u001b[49m\u001b[43mX\u001b[49m\u001b[43m,\u001b[49m\n\u001b[1;32m   1958\u001b[0m \u001b[43m        \u001b[49m\u001b[43my\u001b[49m\u001b[43m,\u001b[49m\n\u001b[1;32m   1959\u001b[0m \u001b[43m        \u001b[49m\u001b[43mscorer\u001b[49m\u001b[38;5;241;43m=\u001b[39;49m\u001b[43mscorer\u001b[49m\u001b[43m,\u001b[49m\n\u001b[1;32m   1960\u001b[0m \u001b[43m        \u001b[49m\u001b[43mtrain\u001b[49m\u001b[38;5;241;43m=\u001b[39;49m\u001b[43mtrain\u001b[49m\u001b[43m,\u001b[49m\n\u001b[1;32m   1961\u001b[0m \u001b[43m        \u001b[49m\u001b[43mtest\u001b[49m\u001b[38;5;241;43m=\u001b[39;49m\u001b[43mtest\u001b[49m\u001b[43m,\u001b[49m\n\u001b[1;32m   1962\u001b[0m \u001b[43m        \u001b[49m\u001b[43mverbose\u001b[49m\u001b[38;5;241;43m=\u001b[39;49m\u001b[43mverbose\u001b[49m\u001b[43m,\u001b[49m\n\u001b[1;32m   1963\u001b[0m \u001b[43m        \u001b[49m\u001b[43mparameters\u001b[49m\u001b[38;5;241;43m=\u001b[39;49m\u001b[38;5;28;43;01mNone\u001b[39;49;00m\u001b[43m,\u001b[49m\n\u001b[1;32m   1964\u001b[0m \u001b[43m        \u001b[49m\u001b[43mfit_params\u001b[49m\u001b[38;5;241;43m=\u001b[39;49m\u001b[43mfit_params\u001b[49m\u001b[43m,\u001b[49m\n\u001b[1;32m   1965\u001b[0m \u001b[43m        \u001b[49m\u001b[38;5;66;43;03m# TODO(SLEP6): support score params here\u001b[39;49;00m\n\u001b[1;32m   1966\u001b[0m \u001b[43m        \u001b[49m\u001b[43mscore_params\u001b[49m\u001b[38;5;241;43m=\u001b[39;49m\u001b[38;5;28;43;01mNone\u001b[39;49;00m\u001b[43m,\u001b[49m\n\u001b[1;32m   1967\u001b[0m \u001b[43m        \u001b[49m\u001b[43mreturn_train_score\u001b[49m\u001b[38;5;241;43m=\u001b[39;49m\u001b[38;5;28;43;01mTrue\u001b[39;49;00m\u001b[43m,\u001b[49m\n\u001b[1;32m   1968\u001b[0m \u001b[43m        \u001b[49m\u001b[43merror_score\u001b[49m\u001b[38;5;241;43m=\u001b[39;49m\u001b[43merror_score\u001b[49m\u001b[43m,\u001b[49m\n\u001b[1;32m   1969\u001b[0m \u001b[43m        \u001b[49m\u001b[43mreturn_times\u001b[49m\u001b[38;5;241;43m=\u001b[39;49m\u001b[43mreturn_times\u001b[49m\u001b[43m,\u001b[49m\n\u001b[1;32m   1970\u001b[0m \u001b[43m    \u001b[49m\u001b[43m)\u001b[49m\n\u001b[1;32m   1971\u001b[0m \u001b[43m    \u001b[49m\u001b[38;5;28;43;01mfor\u001b[39;49;00m\u001b[43m \u001b[49m\u001b[43mtrain\u001b[49m\u001b[43m,\u001b[49m\u001b[43m \u001b[49m\u001b[43mtest\u001b[49m\u001b[43m \u001b[49m\u001b[38;5;129;43;01min\u001b[39;49;00m\u001b[43m \u001b[49m\u001b[43mtrain_test_proportions\u001b[49m\n\u001b[1;32m   1972\u001b[0m \u001b[43m\u001b[49m\u001b[43m)\u001b[49m\n\u001b[1;32m   1973\u001b[0m _warn_or_raise_about_fit_failures(results, error_score)\n\u001b[1;32m   1974\u001b[0m results \u001b[38;5;241m=\u001b[39m _aggregate_score_dicts(results)\n",
      "File \u001b[0;32m/cluster/software/stacks/2024-05/python-cuda/3.11.6/lib/python3.11/site-packages/sklearn/utils/parallel.py:67\u001b[0m, in \u001b[0;36mParallel.__call__\u001b[0;34m(self, iterable)\u001b[0m\n\u001b[1;32m     62\u001b[0m config \u001b[38;5;241m=\u001b[39m get_config()\n\u001b[1;32m     63\u001b[0m iterable_with_config \u001b[38;5;241m=\u001b[39m (\n\u001b[1;32m     64\u001b[0m     (_with_config(delayed_func, config), args, kwargs)\n\u001b[1;32m     65\u001b[0m     \u001b[38;5;28;01mfor\u001b[39;00m delayed_func, args, kwargs \u001b[38;5;129;01min\u001b[39;00m iterable\n\u001b[1;32m     66\u001b[0m )\n\u001b[0;32m---> 67\u001b[0m \u001b[38;5;28;01mreturn\u001b[39;00m \u001b[38;5;28;43msuper\u001b[39;49m\u001b[43m(\u001b[49m\u001b[43m)\u001b[49m\u001b[38;5;241;43m.\u001b[39;49m\u001b[38;5;21;43m__call__\u001b[39;49m\u001b[43m(\u001b[49m\u001b[43miterable_with_config\u001b[49m\u001b[43m)\u001b[49m\n",
      "File \u001b[0;32m/cluster/software/stacks/2024-05/python-cuda/3.11.6/lib/python3.11/site-packages/joblib/parallel.py:1918\u001b[0m, in \u001b[0;36mParallel.__call__\u001b[0;34m(self, iterable)\u001b[0m\n\u001b[1;32m   1916\u001b[0m     output \u001b[38;5;241m=\u001b[39m \u001b[38;5;28mself\u001b[39m\u001b[38;5;241m.\u001b[39m_get_sequential_output(iterable)\n\u001b[1;32m   1917\u001b[0m     \u001b[38;5;28mnext\u001b[39m(output)\n\u001b[0;32m-> 1918\u001b[0m     \u001b[38;5;28;01mreturn\u001b[39;00m output \u001b[38;5;28;01mif\u001b[39;00m \u001b[38;5;28mself\u001b[39m\u001b[38;5;241m.\u001b[39mreturn_generator \u001b[38;5;28;01melse\u001b[39;00m \u001b[38;5;28;43mlist\u001b[39;49m\u001b[43m(\u001b[49m\u001b[43moutput\u001b[49m\u001b[43m)\u001b[49m\n\u001b[1;32m   1920\u001b[0m \u001b[38;5;66;03m# Let's create an ID that uniquely identifies the current call. If the\u001b[39;00m\n\u001b[1;32m   1921\u001b[0m \u001b[38;5;66;03m# call is interrupted early and that the same instance is immediately\u001b[39;00m\n\u001b[1;32m   1922\u001b[0m \u001b[38;5;66;03m# re-used, this id will be used to prevent workers that were\u001b[39;00m\n\u001b[1;32m   1923\u001b[0m \u001b[38;5;66;03m# concurrently finalizing a task from the previous call to run the\u001b[39;00m\n\u001b[1;32m   1924\u001b[0m \u001b[38;5;66;03m# callback.\u001b[39;00m\n\u001b[1;32m   1925\u001b[0m \u001b[38;5;28;01mwith\u001b[39;00m \u001b[38;5;28mself\u001b[39m\u001b[38;5;241m.\u001b[39m_lock:\n",
      "File \u001b[0;32m/cluster/software/stacks/2024-05/python-cuda/3.11.6/lib/python3.11/site-packages/joblib/parallel.py:1847\u001b[0m, in \u001b[0;36mParallel._get_sequential_output\u001b[0;34m(self, iterable)\u001b[0m\n\u001b[1;32m   1845\u001b[0m \u001b[38;5;28mself\u001b[39m\u001b[38;5;241m.\u001b[39mn_dispatched_batches \u001b[38;5;241m+\u001b[39m\u001b[38;5;241m=\u001b[39m \u001b[38;5;241m1\u001b[39m\n\u001b[1;32m   1846\u001b[0m \u001b[38;5;28mself\u001b[39m\u001b[38;5;241m.\u001b[39mn_dispatched_tasks \u001b[38;5;241m+\u001b[39m\u001b[38;5;241m=\u001b[39m \u001b[38;5;241m1\u001b[39m\n\u001b[0;32m-> 1847\u001b[0m res \u001b[38;5;241m=\u001b[39m \u001b[43mfunc\u001b[49m\u001b[43m(\u001b[49m\u001b[38;5;241;43m*\u001b[39;49m\u001b[43margs\u001b[49m\u001b[43m,\u001b[49m\u001b[43m \u001b[49m\u001b[38;5;241;43m*\u001b[39;49m\u001b[38;5;241;43m*\u001b[39;49m\u001b[43mkwargs\u001b[49m\u001b[43m)\u001b[49m\n\u001b[1;32m   1848\u001b[0m \u001b[38;5;28mself\u001b[39m\u001b[38;5;241m.\u001b[39mn_completed_tasks \u001b[38;5;241m+\u001b[39m\u001b[38;5;241m=\u001b[39m \u001b[38;5;241m1\u001b[39m\n\u001b[1;32m   1849\u001b[0m \u001b[38;5;28mself\u001b[39m\u001b[38;5;241m.\u001b[39mprint_progress()\n",
      "File \u001b[0;32m/cluster/software/stacks/2024-05/python-cuda/3.11.6/lib/python3.11/site-packages/sklearn/utils/parallel.py:129\u001b[0m, in \u001b[0;36m_FuncWrapper.__call__\u001b[0;34m(self, *args, **kwargs)\u001b[0m\n\u001b[1;32m    127\u001b[0m     config \u001b[38;5;241m=\u001b[39m {}\n\u001b[1;32m    128\u001b[0m \u001b[38;5;28;01mwith\u001b[39;00m config_context(\u001b[38;5;241m*\u001b[39m\u001b[38;5;241m*\u001b[39mconfig):\n\u001b[0;32m--> 129\u001b[0m     \u001b[38;5;28;01mreturn\u001b[39;00m \u001b[38;5;28;43mself\u001b[39;49m\u001b[38;5;241;43m.\u001b[39;49m\u001b[43mfunction\u001b[49m\u001b[43m(\u001b[49m\u001b[38;5;241;43m*\u001b[39;49m\u001b[43margs\u001b[49m\u001b[43m,\u001b[49m\u001b[43m \u001b[49m\u001b[38;5;241;43m*\u001b[39;49m\u001b[38;5;241;43m*\u001b[39;49m\u001b[43mkwargs\u001b[49m\u001b[43m)\u001b[49m\n",
      "File \u001b[0;32m/cluster/software/stacks/2024-05/python-cuda/3.11.6/lib/python3.11/site-packages/sklearn/model_selection/_validation.py:888\u001b[0m, in \u001b[0;36m_fit_and_score\u001b[0;34m(estimator, X, y, scorer, train, test, verbose, parameters, fit_params, score_params, return_train_score, return_parameters, return_n_test_samples, return_times, return_estimator, split_progress, candidate_progress, error_score)\u001b[0m\n\u001b[1;32m    886\u001b[0m         estimator\u001b[38;5;241m.\u001b[39mfit(X_train, \u001b[38;5;241m*\u001b[39m\u001b[38;5;241m*\u001b[39mfit_params)\n\u001b[1;32m    887\u001b[0m     \u001b[38;5;28;01melse\u001b[39;00m:\n\u001b[0;32m--> 888\u001b[0m         \u001b[43mestimator\u001b[49m\u001b[38;5;241;43m.\u001b[39;49m\u001b[43mfit\u001b[49m\u001b[43m(\u001b[49m\u001b[43mX_train\u001b[49m\u001b[43m,\u001b[49m\u001b[43m \u001b[49m\u001b[43my_train\u001b[49m\u001b[43m,\u001b[49m\u001b[43m \u001b[49m\u001b[38;5;241;43m*\u001b[39;49m\u001b[38;5;241;43m*\u001b[39;49m\u001b[43mfit_params\u001b[49m\u001b[43m)\u001b[49m\n\u001b[1;32m    890\u001b[0m \u001b[38;5;28;01mexcept\u001b[39;00m \u001b[38;5;167;01mException\u001b[39;00m:\n\u001b[1;32m    891\u001b[0m     \u001b[38;5;66;03m# Note fit time as time until error\u001b[39;00m\n\u001b[1;32m    892\u001b[0m     fit_time \u001b[38;5;241m=\u001b[39m time\u001b[38;5;241m.\u001b[39mtime() \u001b[38;5;241m-\u001b[39m start_time\n",
      "File \u001b[0;32m/cluster/software/stacks/2024-05/python-cuda/3.11.6/lib/python3.11/site-packages/sklearn/base.py:1473\u001b[0m, in \u001b[0;36m_fit_context.<locals>.decorator.<locals>.wrapper\u001b[0;34m(estimator, *args, **kwargs)\u001b[0m\n\u001b[1;32m   1466\u001b[0m     estimator\u001b[38;5;241m.\u001b[39m_validate_params()\n\u001b[1;32m   1468\u001b[0m \u001b[38;5;28;01mwith\u001b[39;00m config_context(\n\u001b[1;32m   1469\u001b[0m     skip_parameter_validation\u001b[38;5;241m=\u001b[39m(\n\u001b[1;32m   1470\u001b[0m         prefer_skip_nested_validation \u001b[38;5;129;01mor\u001b[39;00m global_skip_validation\n\u001b[1;32m   1471\u001b[0m     )\n\u001b[1;32m   1472\u001b[0m ):\n\u001b[0;32m-> 1473\u001b[0m     \u001b[38;5;28;01mreturn\u001b[39;00m \u001b[43mfit_method\u001b[49m\u001b[43m(\u001b[49m\u001b[43mestimator\u001b[49m\u001b[43m,\u001b[49m\u001b[43m \u001b[49m\u001b[38;5;241;43m*\u001b[39;49m\u001b[43margs\u001b[49m\u001b[43m,\u001b[49m\u001b[43m \u001b[49m\u001b[38;5;241;43m*\u001b[39;49m\u001b[38;5;241;43m*\u001b[39;49m\u001b[43mkwargs\u001b[49m\u001b[43m)\u001b[49m\n",
      "File \u001b[0;32m/cluster/software/stacks/2024-05/python-cuda/3.11.6/lib/python3.11/site-packages/sklearn/linear_model/_logistic.py:1276\u001b[0m, in \u001b[0;36mLogisticRegression.fit\u001b[0;34m(self, X, y, sample_weight)\u001b[0m\n\u001b[1;32m   1270\u001b[0m     \u001b[38;5;28;01mif\u001b[39;00m effective_n_jobs(\u001b[38;5;28mself\u001b[39m\u001b[38;5;241m.\u001b[39mn_jobs) \u001b[38;5;241m!=\u001b[39m \u001b[38;5;241m1\u001b[39m:\n\u001b[1;32m   1271\u001b[0m         warnings\u001b[38;5;241m.\u001b[39mwarn(\n\u001b[1;32m   1272\u001b[0m             \u001b[38;5;124m\"\u001b[39m\u001b[38;5;124m'\u001b[39m\u001b[38;5;124mn_jobs\u001b[39m\u001b[38;5;124m'\u001b[39m\u001b[38;5;124m > 1 does not have any effect when\u001b[39m\u001b[38;5;124m\"\u001b[39m\n\u001b[1;32m   1273\u001b[0m             \u001b[38;5;124m\"\u001b[39m\u001b[38;5;124m \u001b[39m\u001b[38;5;124m'\u001b[39m\u001b[38;5;124msolver\u001b[39m\u001b[38;5;124m'\u001b[39m\u001b[38;5;124m is set to \u001b[39m\u001b[38;5;124m'\u001b[39m\u001b[38;5;124mliblinear\u001b[39m\u001b[38;5;124m'\u001b[39m\u001b[38;5;124m. Got \u001b[39m\u001b[38;5;124m'\u001b[39m\u001b[38;5;124mn_jobs\u001b[39m\u001b[38;5;124m'\u001b[39m\u001b[38;5;124m\"\u001b[39m\n\u001b[1;32m   1274\u001b[0m             \u001b[38;5;124m\"\u001b[39m\u001b[38;5;124m = \u001b[39m\u001b[38;5;132;01m{}\u001b[39;00m\u001b[38;5;124m.\u001b[39m\u001b[38;5;124m\"\u001b[39m\u001b[38;5;241m.\u001b[39mformat(effective_n_jobs(\u001b[38;5;28mself\u001b[39m\u001b[38;5;241m.\u001b[39mn_jobs))\n\u001b[1;32m   1275\u001b[0m         )\n\u001b[0;32m-> 1276\u001b[0m     \u001b[38;5;28mself\u001b[39m\u001b[38;5;241m.\u001b[39mcoef_, \u001b[38;5;28mself\u001b[39m\u001b[38;5;241m.\u001b[39mintercept_, \u001b[38;5;28mself\u001b[39m\u001b[38;5;241m.\u001b[39mn_iter_ \u001b[38;5;241m=\u001b[39m \u001b[43m_fit_liblinear\u001b[49m\u001b[43m(\u001b[49m\n\u001b[1;32m   1277\u001b[0m \u001b[43m        \u001b[49m\u001b[43mX\u001b[49m\u001b[43m,\u001b[49m\n\u001b[1;32m   1278\u001b[0m \u001b[43m        \u001b[49m\u001b[43my\u001b[49m\u001b[43m,\u001b[49m\n\u001b[1;32m   1279\u001b[0m \u001b[43m        \u001b[49m\u001b[38;5;28;43mself\u001b[39;49m\u001b[38;5;241;43m.\u001b[39;49m\u001b[43mC\u001b[49m\u001b[43m,\u001b[49m\n\u001b[1;32m   1280\u001b[0m \u001b[43m        \u001b[49m\u001b[38;5;28;43mself\u001b[39;49m\u001b[38;5;241;43m.\u001b[39;49m\u001b[43mfit_intercept\u001b[49m\u001b[43m,\u001b[49m\n\u001b[1;32m   1281\u001b[0m \u001b[43m        \u001b[49m\u001b[38;5;28;43mself\u001b[39;49m\u001b[38;5;241;43m.\u001b[39;49m\u001b[43mintercept_scaling\u001b[49m\u001b[43m,\u001b[49m\n\u001b[1;32m   1282\u001b[0m \u001b[43m        \u001b[49m\u001b[38;5;28;43mself\u001b[39;49m\u001b[38;5;241;43m.\u001b[39;49m\u001b[43mclass_weight\u001b[49m\u001b[43m,\u001b[49m\n\u001b[1;32m   1283\u001b[0m \u001b[43m        \u001b[49m\u001b[38;5;28;43mself\u001b[39;49m\u001b[38;5;241;43m.\u001b[39;49m\u001b[43mpenalty\u001b[49m\u001b[43m,\u001b[49m\n\u001b[1;32m   1284\u001b[0m \u001b[43m        \u001b[49m\u001b[38;5;28;43mself\u001b[39;49m\u001b[38;5;241;43m.\u001b[39;49m\u001b[43mdual\u001b[49m\u001b[43m,\u001b[49m\n\u001b[1;32m   1285\u001b[0m \u001b[43m        \u001b[49m\u001b[38;5;28;43mself\u001b[39;49m\u001b[38;5;241;43m.\u001b[39;49m\u001b[43mverbose\u001b[49m\u001b[43m,\u001b[49m\n\u001b[1;32m   1286\u001b[0m \u001b[43m        \u001b[49m\u001b[38;5;28;43mself\u001b[39;49m\u001b[38;5;241;43m.\u001b[39;49m\u001b[43mmax_iter\u001b[49m\u001b[43m,\u001b[49m\n\u001b[1;32m   1287\u001b[0m \u001b[43m        \u001b[49m\u001b[38;5;28;43mself\u001b[39;49m\u001b[38;5;241;43m.\u001b[39;49m\u001b[43mtol\u001b[49m\u001b[43m,\u001b[49m\n\u001b[1;32m   1288\u001b[0m \u001b[43m        \u001b[49m\u001b[38;5;28;43mself\u001b[39;49m\u001b[38;5;241;43m.\u001b[39;49m\u001b[43mrandom_state\u001b[49m\u001b[43m,\u001b[49m\n\u001b[1;32m   1289\u001b[0m \u001b[43m        \u001b[49m\u001b[43msample_weight\u001b[49m\u001b[38;5;241;43m=\u001b[39;49m\u001b[43msample_weight\u001b[49m\u001b[43m,\u001b[49m\n\u001b[1;32m   1290\u001b[0m \u001b[43m    \u001b[49m\u001b[43m)\u001b[49m\n\u001b[1;32m   1291\u001b[0m     \u001b[38;5;28;01mreturn\u001b[39;00m \u001b[38;5;28mself\u001b[39m\n\u001b[1;32m   1293\u001b[0m \u001b[38;5;28;01mif\u001b[39;00m solver \u001b[38;5;129;01min\u001b[39;00m [\u001b[38;5;124m\"\u001b[39m\u001b[38;5;124msag\u001b[39m\u001b[38;5;124m\"\u001b[39m, \u001b[38;5;124m\"\u001b[39m\u001b[38;5;124msaga\u001b[39m\u001b[38;5;124m\"\u001b[39m]:\n",
      "File \u001b[0;32m/cluster/software/stacks/2024-05/python-cuda/3.11.6/lib/python3.11/site-packages/sklearn/svm/_base.py:1215\u001b[0m, in \u001b[0;36m_fit_liblinear\u001b[0;34m(X, y, C, fit_intercept, intercept_scaling, class_weight, penalty, dual, verbose, max_iter, tol, random_state, multi_class, loss, epsilon, sample_weight)\u001b[0m\n\u001b[1;32m   1212\u001b[0m sample_weight \u001b[38;5;241m=\u001b[39m _check_sample_weight(sample_weight, X, dtype\u001b[38;5;241m=\u001b[39mnp\u001b[38;5;241m.\u001b[39mfloat64)\n\u001b[1;32m   1214\u001b[0m solver_type \u001b[38;5;241m=\u001b[39m _get_liblinear_solver_type(multi_class, penalty, loss, dual)\n\u001b[0;32m-> 1215\u001b[0m raw_coef_, n_iter_ \u001b[38;5;241m=\u001b[39m \u001b[43mliblinear\u001b[49m\u001b[38;5;241;43m.\u001b[39;49m\u001b[43mtrain_wrap\u001b[49m\u001b[43m(\u001b[49m\n\u001b[1;32m   1216\u001b[0m \u001b[43m    \u001b[49m\u001b[43mX\u001b[49m\u001b[43m,\u001b[49m\n\u001b[1;32m   1217\u001b[0m \u001b[43m    \u001b[49m\u001b[43my_ind\u001b[49m\u001b[43m,\u001b[49m\n\u001b[1;32m   1218\u001b[0m \u001b[43m    \u001b[49m\u001b[43msp\u001b[49m\u001b[38;5;241;43m.\u001b[39;49m\u001b[43missparse\u001b[49m\u001b[43m(\u001b[49m\u001b[43mX\u001b[49m\u001b[43m)\u001b[49m\u001b[43m,\u001b[49m\n\u001b[1;32m   1219\u001b[0m \u001b[43m    \u001b[49m\u001b[43msolver_type\u001b[49m\u001b[43m,\u001b[49m\n\u001b[1;32m   1220\u001b[0m \u001b[43m    \u001b[49m\u001b[43mtol\u001b[49m\u001b[43m,\u001b[49m\n\u001b[1;32m   1221\u001b[0m \u001b[43m    \u001b[49m\u001b[43mbias\u001b[49m\u001b[43m,\u001b[49m\n\u001b[1;32m   1222\u001b[0m \u001b[43m    \u001b[49m\u001b[43mC\u001b[49m\u001b[43m,\u001b[49m\n\u001b[1;32m   1223\u001b[0m \u001b[43m    \u001b[49m\u001b[43mclass_weight_\u001b[49m\u001b[43m,\u001b[49m\n\u001b[1;32m   1224\u001b[0m \u001b[43m    \u001b[49m\u001b[43mmax_iter\u001b[49m\u001b[43m,\u001b[49m\n\u001b[1;32m   1225\u001b[0m \u001b[43m    \u001b[49m\u001b[43mrnd\u001b[49m\u001b[38;5;241;43m.\u001b[39;49m\u001b[43mrandint\u001b[49m\u001b[43m(\u001b[49m\u001b[43mnp\u001b[49m\u001b[38;5;241;43m.\u001b[39;49m\u001b[43miinfo\u001b[49m\u001b[43m(\u001b[49m\u001b[38;5;124;43m\"\u001b[39;49m\u001b[38;5;124;43mi\u001b[39;49m\u001b[38;5;124;43m\"\u001b[39;49m\u001b[43m)\u001b[49m\u001b[38;5;241;43m.\u001b[39;49m\u001b[43mmax\u001b[49m\u001b[43m)\u001b[49m\u001b[43m,\u001b[49m\n\u001b[1;32m   1226\u001b[0m \u001b[43m    \u001b[49m\u001b[43mepsilon\u001b[49m\u001b[43m,\u001b[49m\n\u001b[1;32m   1227\u001b[0m \u001b[43m    \u001b[49m\u001b[43msample_weight\u001b[49m\u001b[43m,\u001b[49m\n\u001b[1;32m   1228\u001b[0m \u001b[43m\u001b[49m\u001b[43m)\u001b[49m\n\u001b[1;32m   1229\u001b[0m \u001b[38;5;66;03m# Regarding rnd.randint(..) in the above signature:\u001b[39;00m\n\u001b[1;32m   1230\u001b[0m \u001b[38;5;66;03m# seed for srand in range [0..INT_MAX); due to limitations in Numpy\u001b[39;00m\n\u001b[1;32m   1231\u001b[0m \u001b[38;5;66;03m# on 32-bit platforms, we can't get to the UINT_MAX limit that\u001b[39;00m\n\u001b[1;32m   1232\u001b[0m \u001b[38;5;66;03m# srand supports\u001b[39;00m\n\u001b[1;32m   1233\u001b[0m n_iter_max \u001b[38;5;241m=\u001b[39m \u001b[38;5;28mmax\u001b[39m(n_iter_)\n",
      "\u001b[0;31mKeyboardInterrupt\u001b[0m: "
     ]
    }
   ],
   "source": [
    "plot_learning_curve(models['Logistic Regression'], X_train_processed, y_train_processed)"
   ]
  },
  {
   "cell_type": "code",
   "execution_count": 48,
   "id": "4d7863fc-24d5-4896-85a9-05123cc1da2e",
   "metadata": {},
   "outputs": [
    {
     "ename": "AttributeError",
     "evalue": "'LogisticRegression' object has no attribute 'coef_'",
     "output_type": "error",
     "traceback": [
      "\u001b[0;31m---------------------------------------------------------------------------\u001b[0m",
      "\u001b[0;31mAttributeError\u001b[0m                            Traceback (most recent call last)",
      "Cell \u001b[0;32mIn[48], line 1\u001b[0m\n\u001b[0;32m----> 1\u001b[0m \u001b[43mplot_feature_importance\u001b[49m\u001b[43m(\u001b[49m\u001b[43mmodels\u001b[49m\u001b[43m[\u001b[49m\u001b[38;5;124;43m'\u001b[39;49m\u001b[38;5;124;43mLogistic Regression\u001b[39;49m\u001b[38;5;124;43m'\u001b[39;49m\u001b[43m]\u001b[49m\u001b[43m,\u001b[49m\u001b[43m \u001b[49m\u001b[43mX\u001b[49m\u001b[43m,\u001b[49m\u001b[43m \u001b[49m\u001b[43mmodel_type\u001b[49m\u001b[38;5;241;43m=\u001b[39;49m\u001b[38;5;124;43m'\u001b[39;49m\u001b[38;5;124;43mlogistic_regression\u001b[39;49m\u001b[38;5;124;43m'\u001b[39;49m\u001b[43m)\u001b[49m\n",
      "Cell \u001b[0;32mIn[44], line 44\u001b[0m, in \u001b[0;36mplot_feature_importance\u001b[0;34m(model, X, model_type)\u001b[0m\n\u001b[1;32m     41\u001b[0m     plt\u001b[38;5;241m.\u001b[39mshow()\n\u001b[1;32m     43\u001b[0m \u001b[38;5;28;01melif\u001b[39;00m model_type \u001b[38;5;241m==\u001b[39m \u001b[38;5;124m'\u001b[39m\u001b[38;5;124mlogistic_regression\u001b[39m\u001b[38;5;124m'\u001b[39m:\n\u001b[0;32m---> 44\u001b[0m     coefficients \u001b[38;5;241m=\u001b[39m \u001b[43mmodel\u001b[49m\u001b[38;5;241;43m.\u001b[39;49m\u001b[43mcoef_\u001b[49m\u001b[38;5;241m.\u001b[39mflatten()\n\u001b[1;32m     45\u001b[0m     plt\u001b[38;5;241m.\u001b[39mfigure(figsize\u001b[38;5;241m=\u001b[39m(\u001b[38;5;241m10\u001b[39m, \u001b[38;5;241m6\u001b[39m))\n\u001b[1;32m     46\u001b[0m     sns\u001b[38;5;241m.\u001b[39mbarplot(x\u001b[38;5;241m=\u001b[39mX\u001b[38;5;241m.\u001b[39mcolumns, y\u001b[38;5;241m=\u001b[39mcoefficients)\n",
      "\u001b[0;31mAttributeError\u001b[0m: 'LogisticRegression' object has no attribute 'coef_'"
     ]
    }
   ],
   "source": [
    "plot_feature_importance(models['Logistic Regression'], X, model_type='logistic_regression')"
   ]
  },
  {
   "cell_type": "markdown",
   "id": "94d579b3-eae8-41c5-9121-111ead97ce44",
   "metadata": {},
   "source": [
    "#### Bias evaluation"
   ]
  },
  {
   "cell_type": "code",
   "execution_count": 41,
   "id": "b85b7ce1-b076-4f66-93d6-248a0c95852e",
   "metadata": {},
   "outputs": [
    {
     "name": "stdout",
     "output_type": "stream",
     "text": [
      "Imputing features...\n",
      "Scaling features...\n",
      "Balancing classes...\n",
      "Classes after balancing:\n",
      "loan_status\n",
      "0    861880\n",
      "1    861880\n",
      "Name: count, dtype: int64\n",
      "Fitting model...\n"
     ]
    },
    {
     "name": "stderr",
     "output_type": "stream",
     "text": [
      "/cluster/software/stacks/2024-05/python-cuda/3.11.6/lib/python3.11/site-packages/sklearn/linear_model/_logistic.py:1271: UserWarning: 'n_jobs' > 1 does not have any effect when 'solver' is set to 'liblinear'. Got 'n_jobs' = 32.\n",
      "  warnings.warn(\n"
     ]
    }
   ],
   "source": [
    "X_train, X_test, y_train, y_test = train_test_split(X, y, test_size=0.2, random_state=random_state)\n",
    "X_train_processed, X_test_processed, y_train_processed, y_test_processed = preprocess_data(X_train, X_test, y_train, y_test)\n",
    "model_pred = dict()\n",
    "\n",
    "for name, model in models.items():\n",
    "    y_pred = train_pred_model(X_train_processed, y_train_processed, X_test_processed, model, name)\n",
    "    model_pred[name] = y_pred"
   ]
  },
  {
   "cell_type": "code",
   "execution_count": 79,
   "id": "da61d5d4-7455-45ed-a747-15cecac0b75a",
   "metadata": {},
   "outputs": [],
   "source": [
    "races = [\n",
    "    'race_white',\n",
    "    'race_american_indian',\n",
    "    'race_asian',\n",
    "    'race_black',\n",
    "    'race_latino',\n",
    "    'race_other',\n",
    "]"
   ]
  },
  {
   "cell_type": "code",
   "execution_count": 77,
   "id": "c1f48cfd-e20b-4013-882f-505947972842",
   "metadata": {},
   "outputs": [],
   "source": [
    "def equality_of_opportunity(X, y_true, y_pred):\n",
    "    print(\"Equality of opportunity\")\n",
    "    print(\"p(race) = p(Y^hat = paid loan | Y = paid loan, A = race)\")\n",
    "    true_paid_loans = np.where(y_true == 1)\n",
    "    for race in races:\n",
    "        true_race = np.where(X[race] == 1)[0]\n",
    "        paid_loans_given_race = np.intersect1d(true_paid_loans, true_race)\n",
    "        y_pred_given_paid_loans_and_race = y_pred[paid_loans_given_race]\n",
    "        probability = sum(y_pred_given_paid_loans_and_race) / len(y_pred_given_paid_loans_and_race)\n",
    "        print(f'p({race}): {probability}')"
   ]
  },
  {
   "cell_type": "code",
   "execution_count": 44,
   "id": "e9e0ba05-21ae-4a53-9c70-741f4bd1b003",
   "metadata": {},
   "outputs": [],
   "source": [
    "def theil_index(X, y_true, y_pred):\n",
    "    print(\"Theil index\")\n",
    "    y_pred_mean = np.mean(1 + y_pred - y_true)\n",
    "    y_pred_per_race_group = dict()\n",
    "    race_sizes = dict()\n",
    "    for race in races:\n",
    "        race_index = np.where(X[race] == 1)\n",
    "        race_sizes[race] = len(race_index)\n",
    "        y_pred_per_race_group[race] = np.mean(1 + y_pred[race_index] - y_true[race_index])\n",
    "\n",
    "    theil_index = 0\n",
    "    for race in races:\n",
    "        theil_index += (race_sizes[race] / len(y_pred)) * (y_pred_per_race_group[race] / y_pred_mean) * np.log(y_pred_per_race_group[race] / y_pred_mean)\n",
    "\n",
    "    print(theil_index)"
   ]
  },
  {
   "cell_type": "code",
   "execution_count": 45,
   "id": "eaf19d9c-554a-4dc9-b53e-119ce396f38b",
   "metadata": {},
   "outputs": [
    {
     "name": "stdout",
     "output_type": "stream",
     "text": [
      "Logistic Regression\n",
      "Equality of opportunity\n",
      "p(race) = p(Y^hat = paid loan | Y = paid loan, A = race)\n",
      "p(race_white): 0.7467353919859815\n",
      "p(race_american_indian): 0.6180669318979639\n",
      "p(race_asian): 0.7307037896365043\n",
      "p(race_black): 0.5780260359454975\n",
      "p(race_latino): 0.5741474835987668\n",
      "p(race_other): 0.5876213147775132\n",
      "Theil index\n",
      "-4.961643785755393e-07\n",
      "\n"
     ]
    }
   ],
   "source": [
    "for name, _ in models.items():\n",
    "    print(name)\n",
    "    y_pred = model_pred[name]\n",
    "    equality_of_opportunity(X_test, y_test, y_pred)\n",
    "    theil_index(X_test, np.array(y_test), y_pred)\n",
    "    print()"
   ]
  },
  {
   "cell_type": "markdown",
   "id": "cccffbb7-8584-4d5e-b1bf-d0db8fb4b121",
   "metadata": {},
   "source": [
    "### Bias mitigation"
   ]
  },
  {
   "cell_type": "code",
   "execution_count": 48,
   "id": "5475bc7c-37d8-4ca3-b7ea-7e9be11f72fd",
   "metadata": {},
   "outputs": [
    {
     "name": "stdout",
     "output_type": "stream",
     "text": [
      "Imputing features...\n",
      "Scaling features...\n",
      "Balancing classes...\n",
      "Classes after balancing:\n",
      "loan_status\n",
      "0    861880\n",
      "1    861880\n",
      "Name: count, dtype: int64\n"
     ]
    }
   ],
   "source": [
    "X_train, X_test, y_train, y_test = train_test_split(X, y, test_size=0.2, random_state=random_state)\n",
    "X_train_processed, X_test_processed, y_train_processed, y_test_processed = preprocess_data(X_train, X_test, y_train, y_test)"
   ]
  },
  {
   "cell_type": "markdown",
   "id": "651d0db8-68c1-4ecb-800f-6434f8d3293d",
   "metadata": {},
   "source": [
    "#### Equalized odds ad-hoc bias mitigation"
   ]
  },
  {
   "cell_type": "code",
   "execution_count": null,
   "id": "7802f7ad-0a5e-4ee4-8054-3e9c288e086f",
   "metadata": {},
   "outputs": [
    {
     "name": "stderr",
     "output_type": "stream",
     "text": [
      "/cluster/software/stacks/2024-05/python-cuda/3.11.6/lib/python3.11/site-packages/sklearn/linear_model/_logistic.py:1271: UserWarning: 'n_jobs' > 1 does not have any effect when 'solver' is set to 'liblinear'. Got 'n_jobs' = 32.\n",
      "  warnings.warn(\n",
      "/cluster/software/stacks/2024-05/python-cuda/3.11.6/lib/python3.11/site-packages/sklearn/linear_model/_logistic.py:1271: UserWarning: 'n_jobs' > 1 does not have any effect when 'solver' is set to 'liblinear'. Got 'n_jobs' = 32.\n",
      "  warnings.warn(\n",
      "/cluster/software/stacks/2024-05/python-cuda/3.11.6/lib/python3.11/site-packages/sklearn/linear_model/_logistic.py:1271: UserWarning: 'n_jobs' > 1 does not have any effect when 'solver' is set to 'liblinear'. Got 'n_jobs' = 32.\n",
      "  warnings.warn(\n",
      "/cluster/software/stacks/2024-05/python-cuda/3.11.6/lib/python3.11/site-packages/sklearn/svm/_base.py:1235: ConvergenceWarning: Liblinear failed to converge, increase the number of iterations.\n",
      "  warnings.warn(\n",
      "/cluster/software/stacks/2024-05/python-cuda/3.11.6/lib/python3.11/site-packages/sklearn/linear_model/_logistic.py:1271: UserWarning: 'n_jobs' > 1 does not have any effect when 'solver' is set to 'liblinear'. Got 'n_jobs' = 32.\n",
      "  warnings.warn(\n",
      "/cluster/software/stacks/2024-05/python-cuda/3.11.6/lib/python3.11/site-packages/sklearn/svm/_base.py:1235: ConvergenceWarning: Liblinear failed to converge, increase the number of iterations.\n",
      "  warnings.warn(\n",
      "/cluster/software/stacks/2024-05/python-cuda/3.11.6/lib/python3.11/site-packages/sklearn/linear_model/_logistic.py:1271: UserWarning: 'n_jobs' > 1 does not have any effect when 'solver' is set to 'liblinear'. Got 'n_jobs' = 32.\n",
      "  warnings.warn(\n"
     ]
    }
   ],
   "source": [
    "from fairlearn.reductions import ErrorRate, EqualizedOdds, ExponentiatedGradient\n",
    "from fairlearn.metrics import MetricFrame\n",
    "\n",
    "sensitive_features = [c for c in X.columns if 'race' in c]\n",
    "\n",
    "objective = ErrorRate(costs={'fp': 0.5, 'fn': 0.5})\n",
    "constraint = EqualizedOdds(difference_bound=0.01)\n",
    "classifier = models['Logistic Regression']\n",
    "\n",
    "mitigator = ExponentiatedGradient(classifier, constraint, objective=objective)\n",
    "\n",
    "mitigator.fit(X_train_processed, y_train_processed, sensitive_features=X_train_processed[sensitive_features])\n",
    "y_pred_mitigated = mitigator.predict(X_test_processed)\n",
    "\n",
    "mf_mitigated = MetricFrame(\n",
    "    metrics=accuracy_score,\n",
    "    y_true=y_test_processed,\n",
    "    y_pred=y_pred_mitigated,\n",
    "    sensitive_features=X_test_processed[sensitive_features]\n",
    ")\n",
    "\n",
    "mf_mitigated.overall.item()\n",
    "mf_mitigated.by_group"
   ]
  },
  {
   "cell_type": "code",
   "execution_count": null,
   "id": "a8dc9776-caad-4983-8ef6-1371902c2b91",
   "metadata": {
    "scrolled": true
   },
   "outputs": [],
   "source": [
    "equality_of_opportunity(X_test, y_test, y_pred_mitigated)"
   ]
  },
  {
   "cell_type": "markdown",
   "id": "1e15817e-c69c-4c8c-a062-d39adfb2020c",
   "metadata": {},
   "source": [
    "#### Modifying a decision tree"
   ]
  },
  {
   "cell_type": "markdown",
   "id": "699492f3-be13-4d5f-96fd-58383aa8855e",
   "metadata": {},
   "source": [
    "Equalized odds: https://github.com/Trusted-AI/AIF360/blob/main/aif360/algorithms/postprocessing/eq_odds_postprocessing.py"
   ]
  },
  {
   "cell_type": "markdown",
   "id": "01cce983-23b7-44ca-9197-5542c1e34b0f",
   "metadata": {},
   "source": [
    "This follows https://ieeexplore.ieee.org/stamp/stamp.jsp?tp=&arnumber=5694053\n",
    "\n",
    "Also check https://github.com/fairlearn/fairlearn/pull/1057"
   ]
  },
  {
   "cell_type": "code",
   "execution_count": 43,
   "id": "8a4fff69-2db6-4fe7-9c83-2c36ccab8153",
   "metadata": {},
   "outputs": [],
   "source": [
    "from sklearn.tree._criterion import ClassificationCriterion\n",
    "\n",
    "class ICGPlusISG(ClassificationCriterion):\n",
    "    def node_impurity(self):\n",
    "        return _node_entropy() + _node_sensitivity()\n",
    "    \n",
    "    def _node_entropy(self):\n",
    "        entropy = 0.0\n",
    "        count_k = 0\n",
    "\n",
    "        for k in range(self.n_outputs):\n",
    "            for c in range(self.n_classes[k]):\n",
    "                count_k = self.sum_total[k, c]\n",
    "                if count_k > 0.0:\n",
    "                    count_k /= self.weighted_n_node_samples\n",
    "                    entropy -= count_k * np.log(count_k)\n",
    "        \n",
    "        return entropy / self.n_outputs\n",
    "\n",
    "    def _node_sensitivity(self):\n",
    "        # TODO\n",
    "        return 0"
   ]
  },
  {
   "cell_type": "markdown",
   "id": "7ce80c1a-298b-4b8a-a481-22db6136f2db",
   "metadata": {},
   "source": [
    "#### Reject Option based Classification"
   ]
  },
  {
   "cell_type": "markdown",
   "id": "06a0523b-f76e-401f-8659-f08d6f7474c4",
   "metadata": {},
   "source": [
    "Follows Algorithm 1 from https://web.lums.edu.pk/~akarim/pub/decision_theory_icdm2012.pdf"
   ]
  },
  {
   "cell_type": "code",
   "execution_count": 42,
   "id": "b99653ce-9835-4911-b106-38049d55a1d1",
   "metadata": {},
   "outputs": [],
   "source": [
    "def reject_option_based_classification(X_test, y_pred, y_pred_probs, uncertainy_threshold=0.03):\n",
    "    y_pred_mitigated = y_pred.copy()\n",
    "    \n",
    "    critical_region = np.abs(y_pred_probs - 0.5) <= uncertainty_threshold\n",
    "    \n",
    "    X_test_critical_region = X_test_processed[critical_region]\n",
    "    y_pred_critical_region = y_pred_mitigated[critical_region]\n",
    "    \n",
    "    y_pred_critical_region[X_test_critical_region['race_white'] == 1] = 0\n",
    "    y_pred_critical_region[X_test_critical_region['race_white'] != 1] = 1\n",
    "    \n",
    "    y_pred_mitigated[critical_region] = y_pred_critical_region\n",
    "\n",
    "    return y_pred_mitigated"
   ]
  },
  {
   "cell_type": "code",
   "execution_count": 53,
   "id": "d051d14f-e6df-4b9f-a12a-33c0e68247fc",
   "metadata": {},
   "outputs": [
    {
     "name": "stdout",
     "output_type": "stream",
     "text": [
      "Imputing features...\n",
      "Scaling features...\n",
      "Balancing classes...\n",
      "Classes after balancing:\n",
      "loan_status\n",
      "1    861880\n",
      "0    861880\n",
      "Name: count, dtype: int64\n"
     ]
    }
   ],
   "source": [
    "X_train, X_test, y_train, y_test = train_test_split(X, y, test_size=0.2, random_state=random_state)\n",
    "X_train_processed, X_test_processed, y_train_processed, y_test_processed = preprocess_data(X_train, X_test, y_train, y_test)"
   ]
  },
  {
   "cell_type": "code",
   "execution_count": null,
   "id": "fdaa5e4e-824d-4bc2-8deb-ace368da6d32",
   "metadata": {},
   "outputs": [
    {
     "name": "stderr",
     "output_type": "stream",
     "text": [
      "/opt/conda/lib/python3.10/site-packages/sklearn/linear_model/_logistic.py:1271: UserWarning: 'n_jobs' > 1 does not have any effect when 'solver' is set to 'liblinear'. Got 'n_jobs' = 8.\n",
      "  warnings.warn(\n"
     ]
    }
   ],
   "source": [
    "logistic_regression = models['Logistic Regression']\n",
    "logistic_regression.fit(X_train_processed, y_train_processed)\n",
    "y_pred = logistic_regression.predict(X_test_processed)\n",
    "\n",
    "# Probabilities of positive class (no loan default)\n",
    "y_pred_probs = logistic_regression.predict_proba(X_test_processed)[:, 1]"
   ]
  },
  {
   "cell_type": "code",
   "execution_count": 80,
   "id": "e7c3bd84-e802-42e3-9666-5f202110f52d",
   "metadata": {},
   "outputs": [
    {
     "name": "stdout",
     "output_type": "stream",
     "text": [
      "0.005\n",
      "Equality of opportunity\n",
      "p(race) = p(Y^hat = paid loan | Y = paid loan, A = race)\n",
      "p(race_white): 0.4215235769478129\n",
      "p(race_american_indian): 0.38801778609875964\n",
      "p(race_asian): 0.4218097447795824\n",
      "p(race_black): 0.4390585925631617\n",
      "p(race_latino): 0.3734612977258502\n",
      "p(race_other): 0.5248123054385644\n",
      "0.4921942033184386\n",
      "[[ 42273  12079]\n",
      " [124634  90237]]\n",
      "              precision    recall  f1-score   support\n",
      "\n",
      "           0       0.25      0.78      0.38     54352\n",
      "           1       0.88      0.42      0.57    214871\n",
      "\n",
      "    accuracy                           0.49    269223\n",
      "   macro avg       0.57      0.60      0.48    269223\n",
      "weighted avg       0.76      0.49      0.53    269223\n",
      "\n",
      "0.01\n",
      "Equality of opportunity\n",
      "p(race) = p(Y^hat = paid loan | Y = paid loan, A = race)\n",
      "p(race_white): 0.4166208394306859\n",
      "p(race_american_indian): 0.39714486309384506\n",
      "p(race_asian): 0.42892498066511986\n",
      "p(race_black): 0.44450417182789165\n",
      "p(race_latino): 0.3805549760066764\n",
      "p(race_other): 0.5300311298297016\n",
      "0.4924987835363249\n",
      "[[ 42200  12152]\n",
      " [124479  90392]]\n",
      "              precision    recall  f1-score   support\n",
      "\n",
      "           0       0.25      0.78      0.38     54352\n",
      "           1       0.88      0.42      0.57    214871\n",
      "\n",
      "    accuracy                           0.49    269223\n",
      "   macro avg       0.57      0.60      0.48    269223\n",
      "weighted avg       0.75      0.49      0.53    269223\n",
      "\n",
      "0.015\n",
      "Equality of opportunity\n",
      "p(race) = p(Y^hat = paid loan | Y = paid loan, A = race)\n",
      "p(race_white): 0.41210957525142844\n",
      "p(race_american_indian): 0.4006552773227241\n",
      "p(race_asian): 0.43356535189481826\n",
      "p(race_black): 0.4475892210250777\n",
      "p(race_latino): 0.38403226928159123\n",
      "p(race_other): 0.531496062992126\n",
      "0.4921347730320218\n",
      "[[ 42243  12109]\n",
      " [124620  90251]]\n",
      "              precision    recall  f1-score   support\n",
      "\n",
      "           0       0.25      0.78      0.38     54352\n",
      "           1       0.88      0.42      0.57    214871\n",
      "\n",
      "    accuracy                           0.49    269223\n",
      "   macro avg       0.57      0.60      0.48    269223\n",
      "weighted avg       0.75      0.49      0.53    269223\n",
      "\n",
      "0.02\n",
      "Equality of opportunity\n",
      "p(race) = p(Y^hat = paid loan | Y = paid loan, A = race)\n",
      "p(race_white): 0.40796182202876397\n",
      "p(race_american_indian): 0.40322958109056867\n",
      "p(race_asian): 0.43495746326372775\n",
      "p(race_black): 0.4504171827891649\n",
      "p(race_latino): 0.38674455803602475\n",
      "p(race_other): 0.5329609961545505\n",
      "0.49157018531106184\n",
      "[[ 42262  12090]\n",
      " [124791  90080]]\n",
      "              precision    recall  f1-score   support\n",
      "\n",
      "           0       0.25      0.78      0.38     54352\n",
      "           1       0.88      0.42      0.57    214871\n",
      "\n",
      "    accuracy                           0.49    269223\n",
      "   macro avg       0.57      0.60      0.48    269223\n",
      "weighted avg       0.75      0.49      0.53    269223\n",
      "\n",
      "0.025\n",
      "Equality of opportunity\n",
      "p(race) = p(Y^hat = paid loan | Y = paid loan, A = race)\n",
      "p(race_white): 0.4039072767436875\n",
      "p(race_american_indian): 0.4053358296278961\n",
      "p(race_asian): 0.43727764887857695\n",
      "p(race_black): 0.4533853740622152\n",
      "p(race_latino): 0.38948002874562443\n",
      "p(race_other): 0.534609045962278\n",
      "0.4912024604138577\n",
      "[[ 42311  12041]\n",
      " [124939  89932]]\n",
      "              precision    recall  f1-score   support\n",
      "\n",
      "           0       0.25      0.78      0.38     54352\n",
      "           1       0.88      0.42      0.57    214871\n",
      "\n",
      "    accuracy                           0.49    269223\n",
      "   macro avg       0.57      0.60      0.47    269223\n",
      "weighted avg       0.75      0.49      0.53    269223\n",
      "\n",
      "0.03\n",
      "Equality of opportunity\n",
      "p(race) = p(Y^hat = paid loan | Y = paid loan, A = race)\n",
      "p(race_white): 0.39973156113974667\n",
      "p(race_american_indian): 0.4076761057804821\n",
      "p(race_asian): 0.440061871616396\n",
      "p(race_black): 0.45621333582630236\n",
      "p(race_latino): 0.39175186035190207\n",
      "p(race_other): 0.5365317707379601\n",
      "0.4906230151212935\n",
      "[[ 42335  12017]\n",
      " [125119  89752]]\n",
      "              precision    recall  f1-score   support\n",
      "\n",
      "           0       0.25      0.78      0.38     54352\n",
      "           1       0.88      0.42      0.57    214871\n",
      "\n",
      "    accuracy                           0.49    269223\n",
      "   macro avg       0.57      0.60      0.47    269223\n",
      "weighted avg       0.75      0.49      0.53    269223\n",
      "\n",
      "0.035\n",
      "Equality of opportunity\n",
      "p(race) = p(Y^hat = paid loan | Y = paid loan, A = race)\n",
      "p(race_white): 0.3956770158546702\n",
      "p(race_american_indian): 0.8118417973320852\n",
      "p(race_asian): 0.8259860788863109\n",
      "p(race_black): 0.8471732068151542\n",
      "p(race_latino): 0.7868187402925563\n",
      "p(race_other): 0.9313312580113532\n",
      "0.5972446633459995\n",
      "[[ 29171  25181]\n",
      " [ 83250 131621]]\n",
      "              precision    recall  f1-score   support\n",
      "\n",
      "           0       0.26      0.54      0.35     54352\n",
      "           1       0.84      0.61      0.71    214871\n",
      "\n",
      "    accuracy                           0.60    269223\n",
      "   macro avg       0.55      0.57      0.53    269223\n",
      "weighted avg       0.72      0.60      0.64    269223\n",
      "\n",
      "0.04\n",
      "Equality of opportunity\n",
      "p(race) = p(Y^hat = paid loan | Y = paid loan, A = race)\n",
      "p(race_white): 0.39178092406349324\n",
      "p(race_american_indian): 0.8141820734846712\n",
      "p(race_asian): 0.82861562258314\n",
      "p(race_black): 0.849814195900624\n",
      "p(race_latino): 0.7899019403296474\n",
      "p(race_other): 0.9324299578831716\n",
      "0.5968212225552795\n",
      "[[ 29190  25162]\n",
      " [ 83383 131488]]\n",
      "              precision    recall  f1-score   support\n",
      "\n",
      "           0       0.26      0.54      0.35     54352\n",
      "           1       0.84      0.61      0.71    214871\n",
      "\n",
      "    accuracy                           0.60    269223\n",
      "   macro avg       0.55      0.57      0.53    269223\n",
      "weighted avg       0.72      0.60      0.64    269223\n",
      "\n",
      "0.045\n",
      "Equality of opportunity\n",
      "p(race) = p(Y^hat = paid loan | Y = paid loan, A = race)\n",
      "p(race_white): 0.38740015099685887\n",
      "p(race_american_indian): 0.8167563772525158\n",
      "p(race_asian): 0.831399845320959\n",
      "p(race_black): 0.8523850702316124\n",
      "p(race_latino): 0.7927069569047454\n",
      "p(race_other): 0.9334370994323384\n",
      "0.5961563462259911\n",
      "[[ 29210  25142]\n",
      " [ 83582 131289]]\n",
      "              precision    recall  f1-score   support\n",
      "\n",
      "           0       0.26      0.54      0.35     54352\n",
      "           1       0.84      0.61      0.71    214871\n",
      "\n",
      "    accuracy                           0.60    269223\n",
      "   macro avg       0.55      0.57      0.53    269223\n",
      "weighted avg       0.72      0.60      0.63    269223\n",
      "\n"
     ]
    }
   ],
   "source": [
    "for uncertainty_threshold in [x / 1000 for x in range(5, 50, 5)]:\n",
    "    print(uncertainty_threshold)\n",
    "    y_pred_mitigated = reject_option_based_classification(\n",
    "        X_test_processed,\n",
    "        y_pred,\n",
    "        y_pred_probs,\n",
    "        uncertainty_threshold\n",
    "    )\n",
    "    \n",
    "    equality_of_opportunity(X_test_processed, y_test_processed, y_pred_mitigated)\n",
    "    eval_model(y_test_processed, y_pred_mitigated)"
   ]
  },
  {
   "cell_type": "markdown",
   "id": "6e7ed93e-e8b7-4b0f-ad7b-ffcb92ce839d",
   "metadata": {},
   "source": [
    "## Train and export final model"
   ]
  },
  {
   "cell_type": "code",
   "execution_count": 40,
   "id": "13ca7a21-97b6-4a4a-a210-4ae05daa6cf0",
   "metadata": {},
   "outputs": [
    {
     "name": "stdout",
     "output_type": "stream",
     "text": [
      "Imputing features...\n",
      "Scaling features...\n",
      "Balancing classes...\n"
     ]
    },
    {
     "name": "stderr",
     "output_type": "stream",
     "text": [
      "/opt/conda/lib/python3.10/site-packages/sklearn/linear_model/_logistic.py:1271: UserWarning: 'n_jobs' > 1 does not have any effect when 'solver' is set to 'liblinear'. Got 'n_jobs' = 8.\n",
      "  warnings.warn(\n",
      "/opt/conda/lib/python3.10/site-packages/sklearn/svm/_base.py:1249: ConvergenceWarning: Liblinear failed to converge, increase the number of iterations.\n",
      "  warnings.warn(\n"
     ]
    },
    {
     "data": {
      "text/plain": [
       "['./model/logistic_regression_model.pkl']"
      ]
     },
     "execution_count": 40,
     "metadata": {},
     "output_type": "execute_result"
    }
   ],
   "source": [
    "import joblib\n",
    "\n",
    "X_imputed, _, imputer_object = impute(X, return_imputer=True)\n",
    "X_scaled, _, scaler_object = scale(X_imputed, return_scaler=True)\n",
    "X_balanced, y_balanced = balance_classes(X_scaled, y)\n",
    "\n",
    "model = models['Logistic Regression']\n",
    "model.fit(X_balanced, y_balanced)\n",
    "\n",
    "joblib.dump(imputer_object, './model/imputer.pkl')\n",
    "joblib.dump(scaler_object, './model/scaler.pkl')\n",
    "joblib.dump(model, './model/logistic_regression_model.pkl')"
   ]
  },
  {
   "cell_type": "code",
   "execution_count": null,
   "id": "5e8b6405-1466-4da3-8f80-84e7661c3736",
   "metadata": {},
   "outputs": [],
   "source": []
  }
 ],
 "metadata": {
  "kernelspec": {
   "display_name": "Python 3 (ipykernel)",
   "language": "python",
   "name": "python3"
  },
  "language_info": {
   "codemirror_mode": {
    "name": "ipython",
    "version": 3
   },
   "file_extension": ".py",
   "mimetype": "text/x-python",
   "name": "python",
   "nbconvert_exporter": "python",
   "pygments_lexer": "ipython3",
   "version": "3.10.11"
  }
 },
 "nbformat": 4,
 "nbformat_minor": 5
}
