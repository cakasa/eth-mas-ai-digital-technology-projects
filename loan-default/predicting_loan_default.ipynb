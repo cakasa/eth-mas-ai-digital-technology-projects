{
 "cells": [
  {
   "cell_type": "code",
   "execution_count": 209,
   "id": "a5ed8d71-a1de-4930-96f6-00b033038b04",
   "metadata": {},
   "outputs": [],
   "source": [
    "import pandas as pd\n",
    "import numpy as np\n",
    "from collections import Counter"
   ]
  },
  {
   "cell_type": "code",
   "execution_count": 210,
   "id": "2d8ecd37-8650-42e1-bbe5-0265da01fd59",
   "metadata": {},
   "outputs": [
    {
     "name": "stderr",
     "output_type": "stream",
     "text": [
      "/scratch/tmp.18158153.bandonov/ipykernel_2537861/2434044024.py:1: DtypeWarning: Columns (0,19,49,59,118,129,130,131,134,135,136,139,145,146,147) have mixed types. Specify dtype option on import or set low_memory=False.\n",
      "  loans = pd.read_csv('./accepted_2007_to_2018Q4.csv')\n"
     ]
    }
   ],
   "source": [
    "loans = pd.read_csv('./accepted_2007_to_2018Q4.csv')"
   ]
  },
  {
   "cell_type": "code",
   "execution_count": 211,
   "id": "dea33aba-5399-4a53-9433-f3cf254ed814",
   "metadata": {},
   "outputs": [
    {
     "name": "stdout",
     "output_type": "stream",
     "text": [
      "Loan defaults: 269360\n",
      "Fully paid loans: 1076751\n"
     ]
    }
   ],
   "source": [
    "status_counts = Counter(loans['loan_status'])\n",
    "defaulted_loans_labels = ['Charged Off', 'Default', 'Does not meet the credit policy. Status:Charged Off']\n",
    "n_loan_defaults = sum([status_counts[label] for label in defaulted_loans_labels])\n",
    "n_paid_loans = status_counts['Fully Paid']\n",
    "print(f\"Loan defaults: {n_loan_defaults}\")\n",
    "print(f\"Fully paid loans: {n_paid_loans}\")"
   ]
  },
  {
   "cell_type": "code",
   "execution_count": 212,
   "id": "deb6bd4d-403a-4a84-9ecf-2fbb622da312",
   "metadata": {},
   "outputs": [],
   "source": [
    "valid_labels = defaulted_loans_labels + ['Fully Paid']\n",
    "\n",
    "default_loans = loans[loans['loan_status'].isin(defaulted_loans_labels)]\n",
    "paid_loans = loans[loans['loan_status'] == 'Fully Paid'].sample(n=len(default_loans))\n",
    "\n",
    "loans = pd.concat([paid_loans, default_loans])\n",
    "loans = loans.sample(frac=1)"
   ]
  },
  {
   "cell_type": "markdown",
   "id": "a259dde4-3afd-48fb-9784-36af8b976d4a",
   "metadata": {},
   "source": [
    "#### Filter out unavailable and unused features"
   ]
  },
  {
   "cell_type": "code",
   "execution_count": 213,
   "id": "ea515626-3743-406f-a85d-dd863b6a5398",
   "metadata": {},
   "outputs": [
    {
     "name": "stdout",
     "output_type": "stream",
     "text": [
      "Unavailable features: 45 / 151\n"
     ]
    }
   ],
   "source": [
    "unavailable_features = [\n",
    "    'chargeoff_within_12_mths',\n",
    "    'collection_recovery_fee',\n",
    "    'dti',\n",
    "    'dti_joint',\n",
    "    'funded_amnt',\n",
    "    'funded_amnt_inv',\n",
    "    'initial_list_status',\n",
    "    'issue_d',\n",
    "    'last_credit_pull_d',\n",
    "    'last_fico_range_high',\n",
    "    'last_fico_range_low',\n",
    "    'last_pymnt_amnt',\n",
    "    'last_pymnt_d',\n",
    "    'next_pymnt_d',\n",
    "    'out_prncp',\n",
    "    'out_prncp_inv',\n",
    "    'pymnt_plan',\n",
    "    'recoveries',\n",
    "    'total_pymnt',\n",
    "    'total_pymnt_inv',\n",
    "    'total_rec_int',\n",
    "    'total_rec_late_fee',\n",
    "    'total_rec_prncp',\n",
    "    'hardship_flag',\n",
    "    'hardship_type',\n",
    "    'hardship_reason',\n",
    "    'hardship_status',\n",
    "    'deferral_term',\n",
    "    'hardship_amount',\n",
    "    'hardship_start_date',\n",
    "    'hardship_end_date',\n",
    "    'payment_plan_start_date',\n",
    "    'hardship_length',\n",
    "    'hardship_dpd',\n",
    "    'hardship_loan_status',\n",
    "    'orig_projected_additional_accrued_interest',\n",
    "    'hardship_payoff_balance_amount',\n",
    "    'hardship_last_payment_amount',\n",
    "    'debt_settlement_flag',\n",
    "    'debt_settlement_flag_date',\n",
    "    'settlement_status',\n",
    "    'settlement_date',\n",
    "    'settlement_amount',\n",
    "    'settlement_percentage',\n",
    "    'settlement_term',\n",
    "]\n",
    "\n",
    "print(f'Unavailable features: {len(unavailable_features)} / {len(loans.columns)}')"
   ]
  },
  {
   "cell_type": "code",
   "execution_count": 214,
   "id": "9f25667e-7537-4977-a75b-d73fc40d90b2",
   "metadata": {},
   "outputs": [
    {
     "name": "stdout",
     "output_type": "stream",
     "text": [
      "Unused features: 11 / 151\n"
     ]
    }
   ],
   "source": [
    "unused_features = [\n",
    "    'addr_state',\n",
    "    'desc',\n",
    "    'grade',\n",
    "    'emp_title',\n",
    "    'id',\n",
    "    'member_id',\n",
    "    'policy_code',\n",
    "    'sub_grade',\n",
    "    'title',\n",
    "    'url',\n",
    "    'zip_code',\n",
    "]\n",
    "\n",
    "print(f'Unused features: {len(unused_features)} / {len(loans.columns)}')"
   ]
  },
  {
   "cell_type": "code",
   "execution_count": 215,
   "id": "9b524dce-26d5-4c9f-bd2f-9f52ac08b28b",
   "metadata": {},
   "outputs": [
    {
     "name": "stdout",
     "output_type": "stream",
     "text": [
      "Remaining features: 95\n"
     ]
    }
   ],
   "source": [
    "features_to_drop = unavailable_features + unused_features\n",
    "loans = loans.drop(columns=features_to_drop)\n",
    "print(f'Remaining features: {len(loans.columns)}')"
   ]
  },
  {
   "cell_type": "markdown",
   "id": "651b6d9b-235e-41c1-82eb-46bf01e63ce3",
   "metadata": {},
   "source": [
    "#### Investigate remaining features"
   ]
  },
  {
   "cell_type": "code",
   "execution_count": 216,
   "id": "5717ea33-245e-40ef-be92-f61c17b2c5b5",
   "metadata": {
    "scrolled": true
   },
   "outputs": [
    {
     "name": "stdout",
     "output_type": "stream",
     "text": [
      "Numerical features: 84\n",
      "Categorical features: 11\n",
      "term -> [' 36 months', ' 60 months'], 2, False\n",
      "emp_length -> [nan, '< 1 year', '1 year', '7 years', '10+ years', '6 years', '2 years', '8 years', '5 years', '9 years'], 12, True\n",
      "home_ownership -> ['MORTGAGE', 'OWN', 'RENT', 'NONE', 'ANY', 'OTHER'], 6, False\n",
      "verification_status -> ['Verified', 'Source Verified', 'Not Verified'], 3, False\n",
      "loan_status -> ['Fully Paid', 'Charged Off', 'Does not meet the credit policy. Status:Charged Off', 'Default'], 4, False\n",
      "purpose -> ['debt_consolidation', 'credit_card', 'home_improvement', 'other', 'car', 'moving', 'medical', 'vacation', 'house', 'renewable_energy'], 14, False\n",
      "earliest_cr_line -> ['Oct-1993', 'Aug-2012', 'May-1979', 'Sep-2004', 'Feb-2006', 'Dec-1992', 'Nov-1994', 'Mar-2005', 'Aug-2000', 'Jan-1996'], 715, True\n",
      "application_type -> ['Individual', 'Joint App'], 2, False\n",
      "verification_status_joint -> [nan, 'Not Verified', 'Verified', 'Source Verified'], 4, True\n",
      "sec_app_earliest_cr_line -> [nan, 'Jan-2014', 'Aug-1971', 'May-2001', 'Sep-2002', 'Jul-2005', 'Sep-2015', 'Oct-2003', 'Nov-1990', 'Feb-2000'], 502, True\n",
      "disbursement_method -> ['Cash', 'DirectPay'], 2, False\n",
      "Number of features with NA: 4\n"
     ]
    }
   ],
   "source": [
    "float_cols = loans.select_dtypes(include='float64')\n",
    "object_cols = loans.select_dtypes(include='object')\n",
    "\n",
    "print(f'Numerical features: {len(float_cols.columns)}')\n",
    "print(f'Categorical features: {len(object_cols.columns)}')\n",
    "\n",
    "possible_values = {}\n",
    "for col in object_cols.columns:\n",
    "    possible_values[col] = list(pd.unique(object_cols[col]))\n",
    "\n",
    "n_na = 0\n",
    "for key, val in possible_values.items():\n",
    "    has_na_vals = any(pd.isna(val))\n",
    "    print(f'{key} -> {val[:10]}, {len(val)}, {has_na_vals}')\n",
    "    if has_na_vals:\n",
    "        n_na += 1\n",
    "\n",
    "print(\"Number of features with NA:\", n_na) "
   ]
  },
  {
   "cell_type": "code",
   "execution_count": 217,
   "id": "0a4cb29e-becf-4ea0-8ef0-e8a19b42edf2",
   "metadata": {},
   "outputs": [
    {
     "name": "stdout",
     "output_type": "stream",
     "text": [
      "Individual loans: 1320305 , 0.98\n",
      "Joint loans: 25806 , 0.02\n"
     ]
    }
   ],
   "source": [
    "individual_loans = loans_without_irrelevant_features[loans_without_irrelevant_features['application_type'] == 'Individual']\n",
    "print(\"Individual loans:\", len(individual_loans), \",\", round(len(individual_loans) / len(loans_without_irrelevant_features), 2))\n",
    "print(\"Joint loans:\", len(loans_without_irrelevant_features) - len(individual_loans), \",\", round((len(loans_without_irrelevant_features) - len(individual_loans)) / len(loans_without_irrelevant_features), 2))"
   ]
  },
  {
   "cell_type": "markdown",
   "id": "42ddd11d-2393-4263-805a-5cdccfcb7b1d",
   "metadata": {},
   "source": [
    "#### Convert text features into numerical ones"
   ]
  },
  {
   "cell_type": "code",
   "execution_count": 218,
   "id": "d17b95b0-01e1-43cb-93cc-be3badd33329",
   "metadata": {},
   "outputs": [],
   "source": [
    "term_map = lambda x: 1 if x.strip() == '60 months' else 0\n",
    "loans['term'] = loans['term'].map(term_map)"
   ]
  },
  {
   "cell_type": "code",
   "execution_count": 219,
   "id": "08ba5591-d4e7-4de0-88bb-a5509c95819b",
   "metadata": {},
   "outputs": [],
   "source": [
    "def get_employment_years(years_string):\n",
    "    if type(years_string) is not str:\n",
    "        return years_string\n",
    "\n",
    "    if '<' in years_string:\n",
    "        return 0\n",
    "    \n",
    "    if '10' in years_string:\n",
    "        return 10\n",
    "    \n",
    "    return int(years_string[0])\n",
    "\n",
    "loans['emp_length'] =  loans['emp_length'].map(get_employment_years)"
   ]
  },
  {
   "cell_type": "code",
   "execution_count": 220,
   "id": "0452d1da-2ea9-4dff-aed2-8e0520c00301",
   "metadata": {},
   "outputs": [],
   "source": [
    "home_ownership_map = lambda x: x.lower() if x not in ['OTHER', 'ANY', 'NONE'] else 'other'\n",
    "loans['home_ownership'] = loans['home_ownership'].map(home_ownership_map)\n",
    "categorical_home_ownership = pd.get_dummies(loans[['home_ownership']], dtype='float64')\n",
    "loans = pd.concat([loans, categorical_home_ownership], axis=1)"
   ]
  },
  {
   "cell_type": "code",
   "execution_count": 221,
   "id": "57095e18-df8d-4dff-a463-b7c3ed0a5940",
   "metadata": {},
   "outputs": [],
   "source": [
    "# Maps date strings of the format Mon-Year to just the year, with NA vals preserved, e.g. Feb-2002 returns 2002.\n",
    "map_datestr_to_year = lambda x: int(x[-4:]) if type(x) is str else x\n",
    "loans['earliest_cr_line'] = loans['earliest_cr_line'].map(map_datestr_to_year)\n",
    "loans['sec_app_earliest_cr_line'] = loans['sec_app_earliest_cr_line'].map(map_datestr_to_year)"
   ]
  },
  {
   "cell_type": "code",
   "execution_count": 222,
   "id": "12bc13c9-0d0f-4df2-a5ad-53b3296132c9",
   "metadata": {},
   "outputs": [],
   "source": [
    "categorical_verification_status = pd.get_dummies(loans[['verification_status']], dtype='float64')\n",
    "categorical_purpose = pd.get_dummies(loans[['purpose']], dtype='float64')\n",
    "categorical_joint_verification_status = pd.get_dummies(loans[['verification_status_joint']], dtype='float64', dummy_na=True)\n",
    "loans = pd.concat([loans, categorical_verification_status, categorical_purpose, categorical_joint_verification_status], axis=1)"
   ]
  },
  {
   "cell_type": "code",
   "execution_count": 223,
   "id": "98561cd1-bf6f-4c4e-ac61-98d095050fcd",
   "metadata": {},
   "outputs": [],
   "source": [
    "map_disbursement_method = lambda x: 1 if x == 'Cash' else 0\n",
    "loans['disbursement_method'] = loans['disbursement_method'].map(map_disbursement_method)"
   ]
  },
  {
   "cell_type": "code",
   "execution_count": 224,
   "id": "113ddb81-47c8-458a-bb0b-5ed0a0c4ae10",
   "metadata": {},
   "outputs": [],
   "source": [
    "map_application_type = lambda x: 1 if x == 'Individual' else 0\n",
    "loans['application_type'] = loans['application_type'].map(map_disbursement_method)"
   ]
  },
  {
   "cell_type": "code",
   "execution_count": 225,
   "id": "b7bac6ae-a4a7-461e-8c56-baa8f9228799",
   "metadata": {},
   "outputs": [],
   "source": [
    "map_loan_status = lambda x: 1 if x == 'Fully Paid' else 0\n",
    "loans['loan_status'] = loans['loan_status'].map(map_loan_status)"
   ]
  },
  {
   "cell_type": "code",
   "execution_count": 226,
   "id": "299996c8-715a-492d-9b21-a443b2da9424",
   "metadata": {},
   "outputs": [],
   "source": [
    "for col in ['home_ownership', 'verification_status', 'purpose', 'verification_status_joint']:\n",
    "    del loans[col]"
   ]
  },
  {
   "cell_type": "markdown",
   "id": "2ec48ce4-87fa-4e00-9bc6-bc454374e816",
   "metadata": {},
   "source": [
    "#### Impute numerical features"
   ]
  },
  {
   "cell_type": "code",
   "execution_count": 227,
   "id": "0c0e9a7a-5272-4bfd-b86c-3648a9637e19",
   "metadata": {},
   "outputs": [],
   "source": [
    "from sklearn.impute import SimpleImputer\n",
    "\n",
    "median_imputer = SimpleImputer(missing_values=np.nan, strategy='median')\n",
    "imputed_loans = pd.DataFrame(median_imputer.fit_transform(loans), columns=loans.columns)"
   ]
  },
  {
   "cell_type": "code",
   "execution_count": 228,
   "id": "f80421c0-1d92-477f-8f14-6c2fe9836940",
   "metadata": {},
   "outputs": [],
   "source": [
    "from sklearn.preprocessing import RobustScaler\n",
    "\n",
    "robust_scaler = RobustScaler()\n",
    "scaled_loans = pd.DataFrame(robust_scaler.fit_transform(imputed_loans), columns=loans.columns)"
   ]
  },
  {
   "cell_type": "code",
   "execution_count": 229,
   "id": "0fce14ea-af82-4146-8a80-9baccebaf3d5",
   "metadata": {},
   "outputs": [
    {
     "data": {
      "text/html": [
       "<div>\n",
       "<style scoped>\n",
       "    .dataframe tbody tr th:only-of-type {\n",
       "        vertical-align: middle;\n",
       "    }\n",
       "\n",
       "    .dataframe tbody tr th {\n",
       "        vertical-align: top;\n",
       "    }\n",
       "\n",
       "    .dataframe thead th {\n",
       "        text-align: right;\n",
       "    }\n",
       "</style>\n",
       "<table border=\"1\" class=\"dataframe\">\n",
       "  <thead>\n",
       "    <tr style=\"text-align: right;\">\n",
       "      <th></th>\n",
       "      <th>loan_amnt</th>\n",
       "      <th>term</th>\n",
       "      <th>int_rate</th>\n",
       "      <th>installment</th>\n",
       "      <th>emp_length</th>\n",
       "      <th>annual_inc</th>\n",
       "      <th>loan_status</th>\n",
       "      <th>delinq_2yrs</th>\n",
       "      <th>earliest_cr_line</th>\n",
       "      <th>fico_range_low</th>\n",
       "      <th>...</th>\n",
       "      <th>purpose_moving</th>\n",
       "      <th>purpose_other</th>\n",
       "      <th>purpose_renewable_energy</th>\n",
       "      <th>purpose_small_business</th>\n",
       "      <th>purpose_vacation</th>\n",
       "      <th>purpose_wedding</th>\n",
       "      <th>verification_status_joint_Not Verified</th>\n",
       "      <th>verification_status_joint_Source Verified</th>\n",
       "      <th>verification_status_joint_Verified</th>\n",
       "      <th>verification_status_joint_nan</th>\n",
       "    </tr>\n",
       "  </thead>\n",
       "  <tbody>\n",
       "    <tr>\n",
       "      <th>0</th>\n",
       "      <td>0.504167</td>\n",
       "      <td>0.0</td>\n",
       "      <td>0.214397</td>\n",
       "      <td>0.827353</td>\n",
       "      <td>0.000000</td>\n",
       "      <td>0.800000</td>\n",
       "      <td>0.5</td>\n",
       "      <td>0.0</td>\n",
       "      <td>-0.777778</td>\n",
       "      <td>0.142857</td>\n",
       "      <td>...</td>\n",
       "      <td>0.0</td>\n",
       "      <td>0.0</td>\n",
       "      <td>0.0</td>\n",
       "      <td>0.0</td>\n",
       "      <td>0.0</td>\n",
       "      <td>0.0</td>\n",
       "      <td>0.0</td>\n",
       "      <td>0.0</td>\n",
       "      <td>0.0</td>\n",
       "      <td>0.0</td>\n",
       "    </tr>\n",
       "    <tr>\n",
       "      <th>1</th>\n",
       "      <td>-0.870833</td>\n",
       "      <td>0.0</td>\n",
       "      <td>0.067293</td>\n",
       "      <td>-0.906851</td>\n",
       "      <td>-0.857143</td>\n",
       "      <td>-1.133333</td>\n",
       "      <td>-0.5</td>\n",
       "      <td>0.0</td>\n",
       "      <td>1.333333</td>\n",
       "      <td>0.714286</td>\n",
       "      <td>...</td>\n",
       "      <td>0.0</td>\n",
       "      <td>0.0</td>\n",
       "      <td>0.0</td>\n",
       "      <td>0.0</td>\n",
       "      <td>0.0</td>\n",
       "      <td>0.0</td>\n",
       "      <td>0.0</td>\n",
       "      <td>0.0</td>\n",
       "      <td>0.0</td>\n",
       "      <td>0.0</td>\n",
       "    </tr>\n",
       "    <tr>\n",
       "      <th>2</th>\n",
       "      <td>-0.079167</td>\n",
       "      <td>1.0</td>\n",
       "      <td>0.658842</td>\n",
       "      <td>-0.246602</td>\n",
       "      <td>-0.714286</td>\n",
       "      <td>-0.066667</td>\n",
       "      <td>-0.5</td>\n",
       "      <td>2.0</td>\n",
       "      <td>-2.333333</td>\n",
       "      <td>0.285714</td>\n",
       "      <td>...</td>\n",
       "      <td>0.0</td>\n",
       "      <td>0.0</td>\n",
       "      <td>0.0</td>\n",
       "      <td>0.0</td>\n",
       "      <td>0.0</td>\n",
       "      <td>0.0</td>\n",
       "      <td>0.0</td>\n",
       "      <td>0.0</td>\n",
       "      <td>0.0</td>\n",
       "      <td>0.0</td>\n",
       "    </tr>\n",
       "    <tr>\n",
       "      <th>3</th>\n",
       "      <td>0.420833</td>\n",
       "      <td>1.0</td>\n",
       "      <td>0.566510</td>\n",
       "      <td>0.195540</td>\n",
       "      <td>0.142857</td>\n",
       "      <td>0.488889</td>\n",
       "      <td>-0.5</td>\n",
       "      <td>0.0</td>\n",
       "      <td>0.444444</td>\n",
       "      <td>0.000000</td>\n",
       "      <td>...</td>\n",
       "      <td>0.0</td>\n",
       "      <td>0.0</td>\n",
       "      <td>0.0</td>\n",
       "      <td>0.0</td>\n",
       "      <td>0.0</td>\n",
       "      <td>0.0</td>\n",
       "      <td>0.0</td>\n",
       "      <td>0.0</td>\n",
       "      <td>0.0</td>\n",
       "      <td>0.0</td>\n",
       "    </tr>\n",
       "    <tr>\n",
       "      <th>4</th>\n",
       "      <td>-0.079167</td>\n",
       "      <td>0.0</td>\n",
       "      <td>0.259781</td>\n",
       "      <td>0.098254</td>\n",
       "      <td>0.142857</td>\n",
       "      <td>-0.288889</td>\n",
       "      <td>0.5</td>\n",
       "      <td>0.0</td>\n",
       "      <td>0.666667</td>\n",
       "      <td>-0.571429</td>\n",
       "      <td>...</td>\n",
       "      <td>0.0</td>\n",
       "      <td>0.0</td>\n",
       "      <td>0.0</td>\n",
       "      <td>0.0</td>\n",
       "      <td>0.0</td>\n",
       "      <td>0.0</td>\n",
       "      <td>0.0</td>\n",
       "      <td>0.0</td>\n",
       "      <td>0.0</td>\n",
       "      <td>0.0</td>\n",
       "    </tr>\n",
       "    <tr>\n",
       "      <th>...</th>\n",
       "      <td>...</td>\n",
       "      <td>...</td>\n",
       "      <td>...</td>\n",
       "      <td>...</td>\n",
       "      <td>...</td>\n",
       "      <td>...</td>\n",
       "      <td>...</td>\n",
       "      <td>...</td>\n",
       "      <td>...</td>\n",
       "      <td>...</td>\n",
       "      <td>...</td>\n",
       "      <td>...</td>\n",
       "      <td>...</td>\n",
       "      <td>...</td>\n",
       "      <td>...</td>\n",
       "      <td>...</td>\n",
       "      <td>...</td>\n",
       "      <td>...</td>\n",
       "      <td>...</td>\n",
       "      <td>...</td>\n",
       "      <td>...</td>\n",
       "    </tr>\n",
       "    <tr>\n",
       "      <th>538715</th>\n",
       "      <td>1.481250</td>\n",
       "      <td>0.0</td>\n",
       "      <td>0.522692</td>\n",
       "      <td>2.147638</td>\n",
       "      <td>-0.714286</td>\n",
       "      <td>1.044444</td>\n",
       "      <td>0.5</td>\n",
       "      <td>0.0</td>\n",
       "      <td>-0.444444</td>\n",
       "      <td>0.428571</td>\n",
       "      <td>...</td>\n",
       "      <td>0.0</td>\n",
       "      <td>0.0</td>\n",
       "      <td>0.0</td>\n",
       "      <td>0.0</td>\n",
       "      <td>0.0</td>\n",
       "      <td>0.0</td>\n",
       "      <td>0.0</td>\n",
       "      <td>0.0</td>\n",
       "      <td>0.0</td>\n",
       "      <td>0.0</td>\n",
       "    </tr>\n",
       "    <tr>\n",
       "      <th>538716</th>\n",
       "      <td>-0.370833</td>\n",
       "      <td>0.0</td>\n",
       "      <td>0.004695</td>\n",
       "      <td>-0.290799</td>\n",
       "      <td>0.000000</td>\n",
       "      <td>-0.803556</td>\n",
       "      <td>0.5</td>\n",
       "      <td>0.0</td>\n",
       "      <td>0.111111</td>\n",
       "      <td>-0.142857</td>\n",
       "      <td>...</td>\n",
       "      <td>0.0</td>\n",
       "      <td>0.0</td>\n",
       "      <td>0.0</td>\n",
       "      <td>0.0</td>\n",
       "      <td>0.0</td>\n",
       "      <td>0.0</td>\n",
       "      <td>0.0</td>\n",
       "      <td>0.0</td>\n",
       "      <td>0.0</td>\n",
       "      <td>0.0</td>\n",
       "    </tr>\n",
       "    <tr>\n",
       "      <th>538717</th>\n",
       "      <td>-0.245833</td>\n",
       "      <td>0.0</td>\n",
       "      <td>-0.658842</td>\n",
       "      <td>-0.197476</td>\n",
       "      <td>0.571429</td>\n",
       "      <td>0.822222</td>\n",
       "      <td>0.5</td>\n",
       "      <td>0.0</td>\n",
       "      <td>0.666667</td>\n",
       "      <td>0.142857</td>\n",
       "      <td>...</td>\n",
       "      <td>0.0</td>\n",
       "      <td>0.0</td>\n",
       "      <td>0.0</td>\n",
       "      <td>0.0</td>\n",
       "      <td>0.0</td>\n",
       "      <td>0.0</td>\n",
       "      <td>0.0</td>\n",
       "      <td>0.0</td>\n",
       "      <td>0.0</td>\n",
       "      <td>0.0</td>\n",
       "    </tr>\n",
       "    <tr>\n",
       "      <th>538718</th>\n",
       "      <td>-0.810417</td>\n",
       "      <td>0.0</td>\n",
       "      <td>-0.546166</td>\n",
       "      <td>-0.850101</td>\n",
       "      <td>-0.714286</td>\n",
       "      <td>-0.920000</td>\n",
       "      <td>-0.5</td>\n",
       "      <td>1.0</td>\n",
       "      <td>0.555556</td>\n",
       "      <td>0.571429</td>\n",
       "      <td>...</td>\n",
       "      <td>0.0</td>\n",
       "      <td>0.0</td>\n",
       "      <td>0.0</td>\n",
       "      <td>0.0</td>\n",
       "      <td>0.0</td>\n",
       "      <td>0.0</td>\n",
       "      <td>0.0</td>\n",
       "      <td>0.0</td>\n",
       "      <td>0.0</td>\n",
       "      <td>0.0</td>\n",
       "    </tr>\n",
       "    <tr>\n",
       "      <th>538719</th>\n",
       "      <td>0.587500</td>\n",
       "      <td>0.0</td>\n",
       "      <td>-0.341158</td>\n",
       "      <td>0.828593</td>\n",
       "      <td>-0.428571</td>\n",
       "      <td>-0.066667</td>\n",
       "      <td>-0.5</td>\n",
       "      <td>0.0</td>\n",
       "      <td>1.111111</td>\n",
       "      <td>0.285714</td>\n",
       "      <td>...</td>\n",
       "      <td>0.0</td>\n",
       "      <td>0.0</td>\n",
       "      <td>0.0</td>\n",
       "      <td>0.0</td>\n",
       "      <td>0.0</td>\n",
       "      <td>0.0</td>\n",
       "      <td>0.0</td>\n",
       "      <td>0.0</td>\n",
       "      <td>0.0</td>\n",
       "      <td>0.0</td>\n",
       "    </tr>\n",
       "  </tbody>\n",
       "</table>\n",
       "<p>538720 rows × 116 columns</p>\n",
       "</div>"
      ],
      "text/plain": [
       "        loan_amnt  term  int_rate  installment  emp_length  annual_inc  \\\n",
       "0        0.504167   0.0  0.214397     0.827353    0.000000    0.800000   \n",
       "1       -0.870833   0.0  0.067293    -0.906851   -0.857143   -1.133333   \n",
       "2       -0.079167   1.0  0.658842    -0.246602   -0.714286   -0.066667   \n",
       "3        0.420833   1.0  0.566510     0.195540    0.142857    0.488889   \n",
       "4       -0.079167   0.0  0.259781     0.098254    0.142857   -0.288889   \n",
       "...           ...   ...       ...          ...         ...         ...   \n",
       "538715   1.481250   0.0  0.522692     2.147638   -0.714286    1.044444   \n",
       "538716  -0.370833   0.0  0.004695    -0.290799    0.000000   -0.803556   \n",
       "538717  -0.245833   0.0 -0.658842    -0.197476    0.571429    0.822222   \n",
       "538718  -0.810417   0.0 -0.546166    -0.850101   -0.714286   -0.920000   \n",
       "538719   0.587500   0.0 -0.341158     0.828593   -0.428571   -0.066667   \n",
       "\n",
       "        loan_status  delinq_2yrs  earliest_cr_line  fico_range_low  ...  \\\n",
       "0               0.5          0.0         -0.777778        0.142857  ...   \n",
       "1              -0.5          0.0          1.333333        0.714286  ...   \n",
       "2              -0.5          2.0         -2.333333        0.285714  ...   \n",
       "3              -0.5          0.0          0.444444        0.000000  ...   \n",
       "4               0.5          0.0          0.666667       -0.571429  ...   \n",
       "...             ...          ...               ...             ...  ...   \n",
       "538715          0.5          0.0         -0.444444        0.428571  ...   \n",
       "538716          0.5          0.0          0.111111       -0.142857  ...   \n",
       "538717          0.5          0.0          0.666667        0.142857  ...   \n",
       "538718         -0.5          1.0          0.555556        0.571429  ...   \n",
       "538719         -0.5          0.0          1.111111        0.285714  ...   \n",
       "\n",
       "        purpose_moving  purpose_other  purpose_renewable_energy  \\\n",
       "0                  0.0            0.0                       0.0   \n",
       "1                  0.0            0.0                       0.0   \n",
       "2                  0.0            0.0                       0.0   \n",
       "3                  0.0            0.0                       0.0   \n",
       "4                  0.0            0.0                       0.0   \n",
       "...                ...            ...                       ...   \n",
       "538715             0.0            0.0                       0.0   \n",
       "538716             0.0            0.0                       0.0   \n",
       "538717             0.0            0.0                       0.0   \n",
       "538718             0.0            0.0                       0.0   \n",
       "538719             0.0            0.0                       0.0   \n",
       "\n",
       "        purpose_small_business  purpose_vacation  purpose_wedding  \\\n",
       "0                          0.0               0.0              0.0   \n",
       "1                          0.0               0.0              0.0   \n",
       "2                          0.0               0.0              0.0   \n",
       "3                          0.0               0.0              0.0   \n",
       "4                          0.0               0.0              0.0   \n",
       "...                        ...               ...              ...   \n",
       "538715                     0.0               0.0              0.0   \n",
       "538716                     0.0               0.0              0.0   \n",
       "538717                     0.0               0.0              0.0   \n",
       "538718                     0.0               0.0              0.0   \n",
       "538719                     0.0               0.0              0.0   \n",
       "\n",
       "        verification_status_joint_Not Verified  \\\n",
       "0                                          0.0   \n",
       "1                                          0.0   \n",
       "2                                          0.0   \n",
       "3                                          0.0   \n",
       "4                                          0.0   \n",
       "...                                        ...   \n",
       "538715                                     0.0   \n",
       "538716                                     0.0   \n",
       "538717                                     0.0   \n",
       "538718                                     0.0   \n",
       "538719                                     0.0   \n",
       "\n",
       "        verification_status_joint_Source Verified  \\\n",
       "0                                             0.0   \n",
       "1                                             0.0   \n",
       "2                                             0.0   \n",
       "3                                             0.0   \n",
       "4                                             0.0   \n",
       "...                                           ...   \n",
       "538715                                        0.0   \n",
       "538716                                        0.0   \n",
       "538717                                        0.0   \n",
       "538718                                        0.0   \n",
       "538719                                        0.0   \n",
       "\n",
       "        verification_status_joint_Verified  verification_status_joint_nan  \n",
       "0                                      0.0                            0.0  \n",
       "1                                      0.0                            0.0  \n",
       "2                                      0.0                            0.0  \n",
       "3                                      0.0                            0.0  \n",
       "4                                      0.0                            0.0  \n",
       "...                                    ...                            ...  \n",
       "538715                                 0.0                            0.0  \n",
       "538716                                 0.0                            0.0  \n",
       "538717                                 0.0                            0.0  \n",
       "538718                                 0.0                            0.0  \n",
       "538719                                 0.0                            0.0  \n",
       "\n",
       "[538720 rows x 116 columns]"
      ]
     },
     "execution_count": 229,
     "metadata": {},
     "output_type": "execute_result"
    }
   ],
   "source": [
    "loans = scaled_loans\n",
    "loans"
   ]
  },
  {
   "cell_type": "markdown",
   "id": "caafaf46-55b0-4dff-9f9d-159c2cc32fc1",
   "metadata": {},
   "source": [
    "#### Model fitting"
   ]
  },
  {
   "cell_type": "code",
   "execution_count": 230,
   "id": "4e9d100b-4813-4611-aac7-c00693f4fdeb",
   "metadata": {},
   "outputs": [
    {
     "name": "stdout",
     "output_type": "stream",
     "text": [
      "['acc_now_delinq', 'acc_open_past_24mths', 'all_util', 'annual_inc', 'annual_inc_joint', 'application_type', 'avg_cur_bal', 'bc_open_to_buy', 'bc_util', 'collections_12_mths_ex_med', 'delinq_2yrs', 'delinq_amnt', 'disbursement_method', 'earliest_cr_line', 'emp_length', 'fico_range_high', 'fico_range_low', 'home_ownership_mortgage', 'home_ownership_other', 'home_ownership_own', 'home_ownership_rent', 'il_util', 'inq_fi', 'inq_last_12m', 'inq_last_6mths', 'installment', 'int_rate', 'loan_amnt', 'max_bal_bc', 'mo_sin_old_il_acct', 'mo_sin_old_rev_tl_op', 'mo_sin_rcnt_rev_tl_op', 'mo_sin_rcnt_tl', 'mort_acc', 'mths_since_last_delinq', 'mths_since_last_major_derog', 'mths_since_last_record', 'mths_since_rcnt_il', 'mths_since_recent_bc', 'mths_since_recent_bc_dlq', 'mths_since_recent_inq', 'mths_since_recent_revol_delinq', 'num_accts_ever_120_pd', 'num_actv_bc_tl', 'num_actv_rev_tl', 'num_bc_sats', 'num_bc_tl', 'num_il_tl', 'num_op_rev_tl', 'num_rev_accts', 'num_rev_tl_bal_gt_0', 'num_sats', 'num_tl_120dpd_2m', 'num_tl_30dpd', 'num_tl_90g_dpd_24m', 'num_tl_op_past_12m', 'open_acc', 'open_acc_6m', 'open_act_il', 'open_il_12m', 'open_il_24m', 'open_rv_12m', 'open_rv_24m', 'pct_tl_nvr_dlq', 'percent_bc_gt_75', 'pub_rec', 'pub_rec_bankruptcies', 'purpose_car', 'purpose_credit_card', 'purpose_debt_consolidation', 'purpose_educational', 'purpose_home_improvement', 'purpose_house', 'purpose_major_purchase', 'purpose_medical', 'purpose_moving', 'purpose_other', 'purpose_renewable_energy', 'purpose_small_business', 'purpose_vacation', 'purpose_wedding', 'revol_bal', 'revol_bal_joint', 'revol_util', 'sec_app_chargeoff_within_12_mths', 'sec_app_collections_12_mths_ex_med', 'sec_app_earliest_cr_line', 'sec_app_fico_range_high', 'sec_app_fico_range_low', 'sec_app_inq_last_6mths', 'sec_app_mort_acc', 'sec_app_mths_since_last_major_derog', 'sec_app_num_rev_accts', 'sec_app_open_acc', 'sec_app_open_act_il', 'sec_app_revol_util', 'tax_liens', 'term', 'tot_coll_amt', 'tot_cur_bal', 'tot_hi_cred_lim', 'total_acc', 'total_bal_ex_mort', 'total_bal_il', 'total_bc_limit', 'total_cu_tl', 'total_il_high_credit_limit', 'total_rev_hi_lim', 'verification_status_Not Verified', 'verification_status_Source Verified', 'verification_status_Verified', 'verification_status_joint_Not Verified', 'verification_status_joint_Source Verified', 'verification_status_joint_Verified', 'verification_status_joint_nan']\n"
     ]
    }
   ],
   "source": [
    "\n",
    "X = loans.loc[:, loans.columns != 'loan_status']\n",
    "y = loans['loan_status'].apply(lambda x: 0 if x == 0.5 else 1)\n",
    "\n",
    "print(sorted(X.columns))"
   ]
  },
  {
   "cell_type": "code",
   "execution_count": null,
   "id": "fb0c035a-0b4e-495a-967a-5ab7d22b532a",
   "metadata": {},
   "outputs": [],
   "source": [
    "import seaborn as sns\n",
    "import matplotlib.pyplot as plt\n",
    "import pandas as pd\n",
    "\n",
    "# Example data\n",
    "features = X.columns\n",
    "for i in range(len(features)):\n",
    "    for j in range(i + 1, len(features)):\n",
    "        feature_1 = features[i]\n",
    "        feature_2 = features[j]\n",
    "        \n",
    "        data = pd.DataFrame({\n",
    "            feature_1: X[feature_1],\n",
    "            feature_2: X[feature_2],\n",
    "            \"Label\": y\n",
    "        })\n",
    "        \n",
    "        # Scatter plot\n",
    "        sns.scatterplot(\n",
    "            data=data,\n",
    "            x=feature_1,\n",
    "            y=feature_2,\n",
    "            hue=\"Label\",\n",
    "            palette=\"coolwarm\"\n",
    "        )\n",
    "        plt.title(\"Feature Plot with Labels\")\n",
    "        plt.show()        \n"
   ]
  },
  {
   "cell_type": "markdown",
   "id": "5d0ba0a4-a9aa-43bc-b301-4f0fbcfe3e02",
   "metadata": {},
   "source": [
    "### Models"
   ]
  },
  {
   "cell_type": "code",
   "execution_count": 231,
   "id": "c4f4336f-f5b1-4a06-a114-5a6b65114319",
   "metadata": {},
   "outputs": [],
   "source": [
    "from sklearn.model_selection import train_test_split\n",
    "from sklearn.linear_model import LogisticRegression\n",
    "from sklearn.tree import DecisionTreeClassifier\n",
    "from sklearn.ensemble import RandomForestClassifier, AdaBoostClassifier\n",
    "from sklearn.metrics import accuracy_score, confusion_matrix, classification_report"
   ]
  },
  {
   "cell_type": "code",
   "execution_count": 232,
   "id": "976c58bb-5eb5-4411-b4b7-24b9e76c30cb",
   "metadata": {},
   "outputs": [
    {
     "name": "stdout",
     "output_type": "stream",
     "text": [
      "0.6011100386100386\n",
      "[[31488 22499]\n",
      " [20479 33278]]\n",
      "              precision    recall  f1-score   support\n",
      "\n",
      "           0       0.61      0.58      0.59     53987\n",
      "           1       0.60      0.62      0.61     53757\n",
      "\n",
      "    accuracy                           0.60    107744\n",
      "   macro avg       0.60      0.60      0.60    107744\n",
      "weighted avg       0.60      0.60      0.60    107744\n",
      "\n"
     ]
    },
    {
     "name": "stderr",
     "output_type": "stream",
     "text": [
      "/cluster/software/stacks/2024-05/python-cuda/3.11.6/lib/python3.11/site-packages/sklearn/linear_model/_logistic.py:469: ConvergenceWarning: lbfgs failed to converge (status=1):\n",
      "STOP: TOTAL NO. of ITERATIONS REACHED LIMIT.\n",
      "\n",
      "Increase the number of iterations (max_iter) or scale the data as shown in:\n",
      "    https://scikit-learn.org/stable/modules/preprocessing.html\n",
      "Please also refer to the documentation for alternative solver options:\n",
      "    https://scikit-learn.org/stable/modules/linear_model.html#logistic-regression\n",
      "  n_iter_i = _check_optimize_result(\n"
     ]
    }
   ],
   "source": [
    "X_train, X_test, y_train, y_test = train_test_split(X, y, test_size=0.2, random_state=42)\n",
    "model = LogisticRegression()\n",
    "model.fit(X_train, y_train)\n",
    "y_pred = model.predict(X_test)\n",
    "\n",
    "accuracy = accuracy_score(y_test, y_pred)\n",
    "conf_matrix = confusion_matrix(y_test, y_pred)\n",
    "report = classification_report(y_test, y_pred)\n",
    "\n",
    "print(accuracy)\n",
    "print(conf_matrix)\n",
    "print(report)"
   ]
  },
  {
   "cell_type": "code",
   "execution_count": 233,
   "id": "f73697ac-acf8-4e0a-9d30-84f2e8bdb61a",
   "metadata": {},
   "outputs": [
    {
     "name": "stdout",
     "output_type": "stream",
     "text": [
      "0.570519008019008\n",
      "[[30838 23149]\n",
      " [23125 30632]]\n",
      "              precision    recall  f1-score   support\n",
      "\n",
      "           0       0.57      0.57      0.57     53987\n",
      "           1       0.57      0.57      0.57     53757\n",
      "\n",
      "    accuracy                           0.57    107744\n",
      "   macro avg       0.57      0.57      0.57    107744\n",
      "weighted avg       0.57      0.57      0.57    107744\n",
      "\n"
     ]
    }
   ],
   "source": [
    "X_train, X_test, y_train, y_test = train_test_split(X, y, test_size=0.2, random_state=42)\n",
    "model = DecisionTreeClassifier()\n",
    "model.fit(X_train, y_train)\n",
    "y_pred = model.predict(X_test)\n",
    "\n",
    "accuracy = accuracy_score(y_test, y_pred)\n",
    "conf_matrix = confusion_matrix(y_test, y_pred)\n",
    "report = classification_report(y_test, y_pred)\n",
    "\n",
    "print(accuracy)\n",
    "print(conf_matrix)\n",
    "print(report)"
   ]
  },
  {
   "cell_type": "code",
   "execution_count": 234,
   "id": "2aa6f6ad-e599-4665-8f22-4175e6d984b0",
   "metadata": {},
   "outputs": [
    {
     "name": "stdout",
     "output_type": "stream",
     "text": [
      "0.6569739382239382\n",
      "[[34983 19004]\n",
      " [17955 35802]]\n",
      "              precision    recall  f1-score   support\n",
      "\n",
      "           0       0.66      0.65      0.65     53987\n",
      "           1       0.65      0.67      0.66     53757\n",
      "\n",
      "    accuracy                           0.66    107744\n",
      "   macro avg       0.66      0.66      0.66    107744\n",
      "weighted avg       0.66      0.66      0.66    107744\n",
      "\n"
     ]
    }
   ],
   "source": [
    "X_train, X_test, y_train, y_test = train_test_split(X, y, test_size=0.2, random_state=42)\n",
    "model = RandomForestClassifier()\n",
    "model.fit(X_train, y_train)\n",
    "y_pred = model.predict(X_test)\n",
    "\n",
    "accuracy = accuracy_score(y_test, y_pred)\n",
    "conf_matrix = confusion_matrix(y_test, y_pred)\n",
    "report = classification_report(y_test, y_pred)\n",
    "\n",
    "print(accuracy)\n",
    "print(conf_matrix)\n",
    "print(report)"
   ]
  },
  {
   "cell_type": "code",
   "execution_count": 235,
   "id": "a7be8e48-1665-4eb4-b420-3ad95d7f0cad",
   "metadata": {},
   "outputs": [
    {
     "name": "stderr",
     "output_type": "stream",
     "text": [
      "/cluster/software/stacks/2024-05/python-cuda/3.11.6/lib/python3.11/site-packages/sklearn/ensemble/_weight_boosting.py:527: FutureWarning: The SAMME.R algorithm (the default) is deprecated and will be removed in 1.6. Use the SAMME algorithm to circumvent this warning.\n",
      "  warnings.warn(\n"
     ]
    },
    {
     "name": "stdout",
     "output_type": "stream",
     "text": [
      "0.6553033115533116\n",
      "[[34489 19498]\n",
      " [17641 36116]]\n",
      "              precision    recall  f1-score   support\n",
      "\n",
      "           0       0.66      0.64      0.65     53987\n",
      "           1       0.65      0.67      0.66     53757\n",
      "\n",
      "    accuracy                           0.66    107744\n",
      "   macro avg       0.66      0.66      0.66    107744\n",
      "weighted avg       0.66      0.66      0.66    107744\n",
      "\n"
     ]
    }
   ],
   "source": [
    "X_train, X_test, y_train, y_test = train_test_split(X, y, test_size=0.2, random_state=42)\n",
    "model = AdaBoostClassifier()\n",
    "model.fit(X_train, y_train)\n",
    "y_pred = model.predict(X_test)\n",
    "\n",
    "accuracy = accuracy_score(y_test, y_pred)\n",
    "conf_matrix = confusion_matrix(y_test, y_pred)\n",
    "report = classification_report(y_test, y_pred)\n",
    "\n",
    "print(accuracy)\n",
    "print(conf_matrix)\n",
    "print(report)"
   ]
  }
 ],
 "metadata": {
  "kernelspec": {
   "display_name": "Python 3 (ipykernel)",
   "language": "python",
   "name": "python3"
  },
  "language_info": {
   "codemirror_mode": {
    "name": "ipython",
    "version": 3
   },
   "file_extension": ".py",
   "mimetype": "text/x-python",
   "name": "python",
   "nbconvert_exporter": "python",
   "pygments_lexer": "ipython3",
   "version": "3.11.6"
  }
 },
 "nbformat": 4,
 "nbformat_minor": 5
}
