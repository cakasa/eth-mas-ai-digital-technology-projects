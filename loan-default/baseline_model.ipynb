{
 "cells": [
  {
   "cell_type": "markdown",
   "id": "c53e8f10-63c9-4dae-a054-e0344e25a53e",
   "metadata": {},
   "source": [
    "This is a very basic model that uses logistic regression to determine whether the customer will default or not. It first extracts the relevant feature from the dataframe (it ignores all features that are related to the label, apart from the label itself. The classes are imbalanced (1M fully paid loans and ~250k loan defaults) and that is not fixed. The model results in an accuracy of 89.5%, but the f1 score of the negative class is rather low."
   ]
  },
  {
   "cell_type": "markdown",
   "id": "4328a5f6-c1d0-4f28-a00b-1210f5662315",
   "metadata": {},
   "source": [
    "### Import dependencies"
   ]
  },
  {
   "cell_type": "code",
   "execution_count": 42,
   "id": "f0964fef-4d21-41b5-87cb-56900b91098c",
   "metadata": {},
   "outputs": [],
   "source": [
    "import pandas as pd\n",
    "\n",
    "from sklearn.model_selection import train_test_split\n",
    "from sklearn.linear_model import LogisticRegression\n",
    "from sklearn.metrics import accuracy_score, confusion_matrix, classification_report"
   ]
  },
  {
   "cell_type": "markdown",
   "id": "f0c2689b-8c13-4744-aff9-746b899bf0f3",
   "metadata": {},
   "source": [
    "### Import data"
   ]
  },
  {
   "cell_type": "code",
   "execution_count": 48,
   "id": "19793aae-8b53-4bd3-bedc-6c98813b46ef",
   "metadata": {},
   "outputs": [
    {
     "name": "stderr",
     "output_type": "stream",
     "text": [
      "/scratch/tmp.18158153.bandonov/ipykernel_2537866/2434044024.py:1: DtypeWarning: Columns (0,19,49,59,118,129,130,131,134,135,136,139,145,146,147) have mixed types. Specify dtype option on import or set low_memory=False.\n",
      "  loans = pd.read_csv('./accepted_2007_to_2018Q4.csv')\n"
     ]
    }
   ],
   "source": [
    "loans = pd.read_csv('./accepted_2007_to_2018Q4.csv')"
   ]
  },
  {
   "cell_type": "code",
   "execution_count": 49,
   "id": "a0feda93-311e-4b90-b9f7-90a39482c993",
   "metadata": {},
   "outputs": [],
   "source": [
    "# Filter out irrelevant loans\n",
    "relevant_loan_status = ['Fully Paid', 'Charged Off', 'Default', 'Does not meet the credit policy. Status:Charged Off']\n",
    "loans = loans[loans['loan_status'].isin(relevant_loan_status)]\n",
    "\n",
    "# defaulted_loans_labels = ['Charged Off', 'Default', 'Does not meet the credit policy. Status:Charged Off']\n",
    "# default_loans = loans[loans['loan_status'].isin(defaulted_loans_labels)]\n",
    "# paid_loans = loans[loans['loan_status'] == 'Fully Paid'].sample(n=len(default_loans))\n",
    "\n",
    "# loans = pd.concat([paid_loans, default_loans])\n",
    "# loans = loans.sample(frac=1)"
   ]
  },
  {
   "cell_type": "markdown",
   "id": "76959bee-60c2-44fc-9e94-63fa08e8bfd6",
   "metadata": {},
   "source": [
    "### Extract features and labels"
   ]
  },
  {
   "cell_type": "code",
   "execution_count": 53,
   "id": "a4128ba6-be29-4ac7-b1ec-a3a3aa37edf9",
   "metadata": {},
   "outputs": [
    {
     "name": "stdout",
     "output_type": "stream",
     "text": [
      "0    Fully Paid\n",
      "1    Fully Paid\n",
      "2    Fully Paid\n",
      "4    Fully Paid\n",
      "5    Fully Paid\n",
      "Name: loan_status, dtype: object\n"
     ]
    }
   ],
   "source": [
    "relevant_features = [\n",
    "    'annual_inc',\n",
    "    'fico_range_high',\n",
    "    'fico_range_low',\n",
    "    'int_rate',\n",
    "    'installment',\n",
    "    'loan_amnt',\n",
    "    'out_prncp',\n",
    "    'out_prncp_inv',\n",
    "    'revol_bal'\n",
    "]\n",
    "\n",
    "X = loans[relevant_features]\n",
    "y = loans['loan_status'].apply(lambda x: 1 if x == 'Fully Paid' else 0)\n",
    "print(loans['loan_status'].head())"
   ]
  },
  {
   "cell_type": "markdown",
   "id": "e7499b61-2549-4f95-b337-2f6445c6c0d1",
   "metadata": {},
   "source": [
    "### Fit model"
   ]
  },
  {
   "cell_type": "code",
   "execution_count": 56,
   "id": "7ed65982-fd8d-4906-b485-12f1b9c40eef",
   "metadata": {},
   "outputs": [],
   "source": [
    "X_train, X_test, y_train, y_test = train_test_split(X, y, test_size=0.2, random_state=42)\n",
    "model = LogisticRegression()\n",
    "model.fit(X_train, y_train)\n",
    "y_pred = model.predict(X_test)"
   ]
  },
  {
   "cell_type": "markdown",
   "id": "e4f56f29-2b61-4403-bedf-305a4c92309d",
   "metadata": {},
   "source": [
    "### Report metrics"
   ]
  },
  {
   "cell_type": "code",
   "execution_count": 57,
   "id": "c9bd0fc4-4511-469c-8830-89e20419f11a",
   "metadata": {},
   "outputs": [
    {
     "name": "stdout",
     "output_type": "stream",
     "text": [
      "0.7995453583089112\n",
      "[[  3225  50603]\n",
      " [  3364 212031]]\n",
      "              precision    recall  f1-score   support\n",
      "\n",
      "           0       0.49      0.06      0.11     53828\n",
      "           1       0.81      0.98      0.89    215395\n",
      "\n",
      "    accuracy                           0.80    269223\n",
      "   macro avg       0.65      0.52      0.50    269223\n",
      "weighted avg       0.74      0.80      0.73    269223\n",
      "\n"
     ]
    }
   ],
   "source": [
    "accuracy = accuracy_score(y_test, y_pred)\n",
    "conf_matrix = confusion_matrix(y_test, y_pred)\n",
    "report = classification_report(y_test, y_pred)\n",
    "\n",
    "print(accuracy)\n",
    "print(conf_matrix)\n",
    "print(report)"
   ]
  }
 ],
 "metadata": {
  "kernelspec": {
   "display_name": "Python 3 (ipykernel)",
   "language": "python",
   "name": "python3"
  },
  "language_info": {
   "codemirror_mode": {
    "name": "ipython",
    "version": 3
   },
   "file_extension": ".py",
   "mimetype": "text/x-python",
   "name": "python",
   "nbconvert_exporter": "python",
   "pygments_lexer": "ipython3",
   "version": "3.10.11"
  }
 },
 "nbformat": 4,
 "nbformat_minor": 5
}
